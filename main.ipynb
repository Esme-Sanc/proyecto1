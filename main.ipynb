{
 "cells": [
  {
   "cell_type": "code",
   "execution_count": 1,
   "metadata": {},
   "outputs": [],
   "source": [
    "# Módulo para instalar librerías faltantes y necesarias para analizar el dataset y realizar la visualización.\n",
    "\n",
    "# pip install plotly"
   ]
  },
  {
   "cell_type": "code",
   "execution_count": 2,
   "metadata": {},
   "outputs": [],
   "source": [
    "# Importación de bibliotecas que necesitamos para el análisis de datos.\n",
    "\n",
    "import pandas as pd\n",
    "import numpy as np \n",
    "import matplotlib.pyplot as plt\n",
    "import seaborn as sns\n",
    "import warnings\n",
    "from sklearn.linear_model import LinearRegression\n",
    "from sklearn.metrics import mean_absolute_error, r2_score\n",
    "from sklearn.ensemble import RandomForestRegressor\n",
    "from sklearn.model_selection import train_test_split\n",
    "from sklearn.metrics import mean_absolute_error, r2_score\n",
    "from sklearn.ensemble import GradientBoostingRegressor\n",
    "import xgboost as xgb\n",
    "import plotly.express as px"
   ]
  },
  {
   "cell_type": "code",
   "execution_count": 3,
   "metadata": {},
   "outputs": [
    {
     "name": "stdout",
     "output_type": "stream",
     "text": [
      "CrimesOnWomenData.csv - 5 primeras  filas:\n",
      "   Unnamed: 0              State  Year  Rape   K&A   DD   AoW   AoM    DV  WT\n",
      "0           0     ANDHRA PRADESH  2001   871   765  420  3544  2271  5791   7\n",
      "1           1  ARUNACHAL PRADESH  2001    33    55    0    78     3    11   0\n",
      "2           2              ASSAM  2001   817  1070   59   850     4  1248   0\n",
      "3           3              BIHAR  2001   888   518  859   562    21  1558  83\n",
      "4           4       CHHATTISGARH  2001   959   171   70  1763   161   840   0\n",
      "\n",
      "Description.csv - 5 primeras filas:\n",
      "   Unnamed: 0 Column Names         Explanation\n",
      "0           0        State               State\n",
      "1           1         Year                Year\n",
      "2           2         Rape   No. of Rape cases\n",
      "3           3          K&A  Kidnap And Assault\n",
      "4           4           DD        Dowry Deaths\n"
     ]
    }
   ],
   "source": [
    "# Lectura y extracción del dataset.\n",
    "\n",
    "# Ignore all warnings () \n",
    "warnings.filterwarnings('ignore') \n",
    "\n",
    "# Carga de los ficheros de datos, en nuestro caso están en .csv\n",
    "\n",
    "crimes_df = pd.read_csv('C:/Users/le Roj/Desktop/Jupyter Notebook/Data/Crime Women India/CrimesOnWomenData.csv')\n",
    "description_df = pd.read_csv('C:/Users/le Roj/Desktop/Jupyter Notebook/Data/Crime Women India/description.csv')\n",
    "\n",
    "# Mostrar las primeras 5 filas de los ficheros.\n",
    "\n",
    "print(\"CrimesOnWomenData.csv - 5 primeras  filas:\")\n",
    "print(crimes_df.head())\n",
    "\n",
    "print(\"\\nDescription.csv - 5 primeras filas:\")\n",
    "print(description_df.head())"
   ]
  },
  {
   "cell_type": "code",
   "execution_count": 4,
   "metadata": {},
   "outputs": [
    {
     "name": "stdout",
     "output_type": "stream",
     "text": [
      "\n",
      "Renamed Columns:\n",
      "Index(['Unnamed: 0', 'Estado', 'Año', 'Casos de violación',\n",
      "       'Secuestros y asaltos', 'Muertes por la dote', 'Asalto a mujeres',\n",
      "       'Asalto a menores (niñas y adolescentes)', 'Violencia doméstica',\n",
      "       'Brujería'],\n",
      "      dtype='object')\n"
     ]
    }
   ],
   "source": [
    "# Crear un diccionario para renombrar las columnas\n",
    "\n",
    "column_names = {\n",
    "    'Rape': 'Casos de violación',\n",
    "    'K&A': 'Secuestros y asaltos',\n",
    "    'DD': 'Muertes por la dote',\n",
    "    'AoW': 'Asalto a mujeres',\n",
    "    'AoM': 'Asalto a menores (niñas y adolescentes)',\n",
    "    'DV': 'Violencia doméstica',\n",
    "    'WT': 'Brujería',\n",
    "    'State' : 'Estado',\n",
    "    'Year' : 'Año',\n",
    "}\n",
    "\n",
    "# Renombrar las columnas en el DataFrame.\n",
    "\n",
    "crimes_df.rename(columns=column_names, inplace=True)\n",
    "\n",
    "# Verificar los nombres de las columnas renombradas.\n",
    "\n",
    "print(\"\\nRenamed Columns:\")\n",
    "print(crimes_df.columns)\n"
   ]
  },
  {
   "cell_type": "code",
   "execution_count": 5,
   "metadata": {},
   "outputs": [
    {
     "name": "stdout",
     "output_type": "stream",
     "text": [
      "\n",
      "Cleaned Dataset Columns:\n",
      "Index(['Estado', 'Año', 'Casos de violación', 'Secuestros y asaltos',\n",
      "       'Muertes por la dote', 'Asalto a mujeres',\n",
      "       'Asalto a menores (niñas y adolescentes)', 'Violencia doméstica',\n",
      "       'Brujería'],\n",
      "      dtype='object')\n",
      "\n",
      "First 5 Rows of the Cleaned Dataset:\n",
      "              Estado   Año  Casos de violación  Secuestros y asaltos  \\\n",
      "0     ANDHRA PRADESH  2001                 871                   765   \n",
      "1  ARUNACHAL PRADESH  2001                  33                    55   \n",
      "2              ASSAM  2001                 817                  1070   \n",
      "3              BIHAR  2001                 888                   518   \n",
      "4       CHHATTISGARH  2001                 959                   171   \n",
      "\n",
      "   Muertes por la dote  Asalto a mujeres  \\\n",
      "0                  420              3544   \n",
      "1                    0                78   \n",
      "2                   59               850   \n",
      "3                  859               562   \n",
      "4                   70              1763   \n",
      "\n",
      "   Asalto a menores (niñas y adolescentes)  Violencia doméstica  Brujería  \n",
      "0                                     2271                 5791         7  \n",
      "1                                        3                   11         0  \n",
      "2                                        4                 1248         0  \n",
      "3                                       21                 1558        83  \n",
      "4                                      161                  840         0  \n"
     ]
    }
   ],
   "source": [
    "# Quitamos las columnas que no utilizaremos en el análisis de datos y su visualización. \n",
    "\n",
    "crimes_df_cleaned = crimes_df.drop(columns=['Unnamed: 0'])\n",
    "crimes_df_cleaned['Estado'] = crimes_df_cleaned['Estado'].str.upper()\n",
    "\n",
    "# Verificamos la DataFrame ya limpia.\n",
    "\n",
    "print(\"\\nCleaned Dataset Columns:\")\n",
    "print(crimes_df_cleaned.columns)\n",
    "print(\"\\nFirst 5 Rows of the Cleaned Dataset:\")\n",
    "print(crimes_df_cleaned.head())"
   ]
  },
  {
   "cell_type": "code",
   "execution_count": 6,
   "metadata": {},
   "outputs": [
    {
     "data": {
      "application/vnd.plotly.v1+json": {
       "config": {
        "plotlyServerURL": "https://plot.ly"
       },
       "data": [
        {
         "coloraxis": "coloraxis",
         "hovertemplate": "Año: %{x}<br>Estado: %{y}<br>Casos de violación: %{z}<extra></extra>",
         "name": "0",
         "type": "heatmap",
         "x": [
          2001,
          2002,
          2003,
          2004,
          2005,
          2006,
          2007,
          2008,
          2009,
          2010,
          2011,
          2012,
          2013,
          2014,
          2015,
          2016,
          2017,
          2018,
          2019,
          2020,
          2021
         ],
         "xaxis": "x",
         "y": [
          "A & N ISLANDS",
          "ANDHRA PRADESH",
          "ARUNACHAL PRADESH",
          "ASSAM",
          "BIHAR",
          "CHANDIGARH",
          "CHHATTISGARH",
          "D & N HAVELI",
          "D&N HAVELI",
          "DAMAN & DIU",
          "DELHI UT",
          "GOA",
          "GUJARAT",
          "HARYANA",
          "HIMACHAL PRADESH",
          "JAMMU & KASHMIR",
          "JHARKHAND",
          "KARNATAKA",
          "KERALA",
          "LAKSHADWEEP",
          "MADHYA PRADESH",
          "MAHARASHTRA",
          "MANIPUR",
          "MEGHALAYA",
          "MIZORAM",
          "NAGALAND",
          "ODISHA",
          "PUDUCHERRY",
          "PUNJAB",
          "RAJASTHAN",
          "SIKKIM",
          "TAMIL NADU",
          "TELANGANA",
          "TRIPURA",
          "UTTAR PRADESH",
          "UTTARAKHAND",
          "WEST BENGAL"
         ],
         "yaxis": "y",
         "z": [
          [
           3,
           2,
           2,
           10,
           4,
           6,
           3,
           12,
           18,
           24,
           13,
           12,
           27,
           32,
           36,
           30,
           13,
           30,
           13,
           60,
           74
          ],
          [
           871,
           1002,
           946,
           1016,
           935,
           1049,
           1070,
           1257,
           1188,
           1362,
           1442,
           1341,
           1635,
           961,
           1027,
           994,
           988,
           971,
           1086,
           1095,
           1188
          ],
          [
           33,
           38,
           31,
           42,
           35,
           37,
           48,
           42,
           59,
           47,
           42,
           46,
           75,
           83,
           71,
           92,
           59,
           67,
           63,
           60,
           83
          ],
          [
           817,
           970,
           1095,
           1171,
           1238,
           1244,
           1437,
           1438,
           1631,
           1721,
           1700,
           1716,
           1937,
           1980,
           1733,
           1779,
           1772,
           1648,
           1773,
           1657,
           1733
          ],
          [
           888,
           1040,
           985,
           1390,
           1147,
           1232,
           1555,
           1302,
           929,
           795,
           934,
           927,
           1128,
           1127,
           1041,
           1008,
           605,
           651,
           730,
           806,
           786
          ],
          [
           18,
           18,
           18,
           19,
           33,
           19,
           22,
           20,
           29,
           31,
           27,
           27,
           45,
           59,
           72,
           68,
           65,
           86,
           112,
           4,
           3
          ],
          [
           959,
           992,
           898,
           969,
           990,
           995,
           982,
           978,
           976,
           1012,
           1053,
           1034,
           1380,
           1436,
           1560,
           1626,
           1908,
           2091,
           1036,
           1210,
           1093
          ],
          [
           6,
           4,
           1,
           7,
           5,
           6,
           7,
           6,
           4,
           3,
           0,
           0,
           0,
           0,
           0,
           0,
           0,
           0,
           0,
           0,
           0
          ],
          [
           0,
           0,
           0,
           0,
           0,
           0,
           0,
           0,
           0,
           0,
           4,
           3,
           5,
           5,
           8,
           14,
           1,
           7,
           0,
           997,
           1250
          ],
          [
           0,
           0,
           5,
           1,
           2,
           3,
           1,
           0,
           1,
           1,
           1,
           5,
           8,
           2,
           5,
           12,
           7,
           3,
           4,
           243,
           315
          ],
          [
           0,
           0,
           0,
           0,
           0,
           0,
           0,
           0,
           0,
           0,
           572,
           706,
           1636,
           2096,
           2199,
           2155,
           1229,
           1215,
           1253,
           2,
           2
          ],
          [
           12,
           12,
           31,
           37,
           20,
           21,
           20,
           30,
           47,
           36,
           29,
           55,
           86,
           95,
           86,
           61,
           76,
           61,
           72,
           60,
           72
          ],
          [
           286,
           267,
           236,
           339,
           324,
           354,
           316,
           374,
           433,
           408,
           439,
           473,
           732,
           841,
           503,
           982,
           477,
           553,
           528,
           486,
           589
          ],
          [
           398,
           361,
           353,
           386,
           461,
           608,
           488,
           631,
           603,
           720,
           733,
           668,
           971,
           1174,
           1070,
           1187,
           1099,
           1296,
           1480,
           1373,
           1716
          ],
          [
           124,
           137,
           126,
           153,
           141,
           113,
           159,
           157,
           183,
           160,
           168,
           183,
           250,
           283,
           244,
           252,
           249,
           344,
           359,
           331,
           358
          ],
          [
           169,
           192,
           211,
           218,
           201,
           250,
           288,
           219,
           237,
           245,
           277,
           303,
           378,
           331,
           296,
           256,
           296,
           320,
           223,
           1321,
           1425
          ],
          [
           567,
           797,
           712,
           797,
           753,
           799,
           855,
           791,
           719,
           773,
           784,
           812,
           1204,
           1050,
           1053,
           1109,
           914,
           1090,
           1416,
           504,
           555
          ],
          [
           293,
           292,
           321,
           291,
           343,
           400,
           436,
           446,
           509,
           586,
           636,
           621,
           1030,
           1324,
           589,
           1655,
           546,
           492,
           505,
           637,
           771
          ],
          [
           562,
           499,
           394,
           480,
           478,
           601,
           512,
           568,
           568,
           634,
           1132,
           1019,
           1221,
           1347,
           1256,
           1656,
           2003,
           1945,
           2023,
           2339,
           2947
          ],
          [
           0,
           1,
           2,
           0,
           0,
           0,
           1,
           2,
           1,
           0,
           0,
           0,
           2,
           1,
           0,
           5,
           0,
           2,
           0,
           3,
           0
          ],
          [
           2851,
           2891,
           2738,
           2875,
           2921,
           2900,
           3010,
           2937,
           2998,
           3135,
           3406,
           3425,
           4335,
           5076,
           4391,
           4882,
           5562,
           5433,
           2485,
           2061,
           2496
          ],
          [
           1302,
           1352,
           1268,
           1388,
           1545,
           1500,
           1451,
           1558,
           1483,
           1599,
           1701,
           1839,
           3063,
           3438,
           4144,
           4189,
           1933,
           2142,
           2299,
           32,
           26
          ],
          [
           20,
           14,
           18,
           31,
           25,
           40,
           20,
           38,
           31,
           34,
           53,
           63,
           72,
           75,
           46,
           55,
           40,
           52,
           36,
           67,
           75
          ],
          [
           26,
           38,
           40,
           54,
           63,
           74,
           82,
           88,
           112,
           149,
           130,
           164,
           183,
           118,
           93,
           190,
           119,
           87,
           102,
           33,
           26
          ],
          [
           52,
           76,
           54,
           20,
           37,
           72,
           83,
           77,
           83,
           92,
           77,
           103,
           89,
           120,
           58,
           23,
           25,
           50,
           42,
           4,
           4
          ],
          [
           17,
           17,
           14,
           18,
           17,
           23,
           13,
           19,
           22,
           16,
           23,
           21,
           31,
           30,
           35,
           26,
           10,
           10,
           8,
           1211,
           1456
          ],
          [
           790,
           691,
           725,
           770,
           799,
           985,
           939,
           1113,
           1023,
           1025,
           1112,
           1458,
           1832,
           1978,
           2251,
           1983,
           2070,
           918,
           1382,
           502,
           464
          ],
          [
           9,
           6,
           2,
           4,
           6,
           9,
           9,
           8,
           1,
           3,
           7,
           13,
           17,
           10,
           3,
           6,
           7,
           0,
           10,
           8,
           2
          ],
          [
           298,
           299,
           380,
           390,
           398,
           442,
           519,
           517,
           511,
           546,
           479,
           680,
           888,
           981,
           886,
           838,
           530,
           831,
           1002,
           5310,
           6337
          ],
          [
           1049,
           1051,
           1050,
           1038,
           993,
           1085,
           1238,
           1355,
           1519,
           1571,
           1800,
           2049,
           3285,
           3759,
           3644,
           3656,
           3305,
           4335,
           5997,
           12,
           8
          ],
          [
           8,
           6,
           10,
           3,
           18,
           20,
           24,
           20,
           18,
           18,
           16,
           34,
           43,
           47,
           5,
           92,
           17,
           16,
           11,
           389,
           422
          ],
          [
           423,
           534,
           557,
           618,
           571,
           457,
           523,
           573,
           596,
           686,
           677,
           737,
           923,
           455,
           421,
           319,
           283,
           331,
           362,
           764,
           823
          ],
          [
           0,
           0,
           0,
           0,
           0,
           0,
           0,
           0,
           0,
           0,
           0,
           0,
           0,
           979,
           1105,
           1278,
           552,
           606,
           873,
           79,
           61
          ],
          [
           102,
           108,
           114,
           160,
           162,
           189,
           157,
           204,
           190,
           238,
           205,
           229,
           233,
           239,
           213,
           207,
           95,
           97,
           88,
           2769,
           2845
          ],
          [
           1958,
           1415,
           911,
           1397,
           1217,
           1314,
           1648,
           1871,
           1759,
           1563,
           2042,
           1963,
           3050,
           3467,
           3025,
           4816,
           4246,
           3946,
           3065,
           487,
           534
          ],
          [
           74,
           89,
           107,
           115,
           133,
           147,
           117,
           87,
           111,
           121,
           129,
           148,
           228,
           270,
           283,
           336,
           374,
           561,
           526,
           1128,
           1123
          ],
          [
           709,
           759,
           1002,
           1475,
           1686,
           1731,
           2106,
           2263,
           2336,
           2311,
           2363,
           2046,
           1685,
           1466,
           1199,
           1110,
           1084,
           1069,
           1069,
           2,
           15
          ]
         ]
        }
       ],
       "layout": {
        "coloraxis": {
         "colorbar": {
          "title": {
           "text": "Casos de violación"
          }
         },
         "colorscale": [
          [
           0,
           "rgb(255,255,217)"
          ],
          [
           0.125,
           "rgb(237,248,177)"
          ],
          [
           0.25,
           "rgb(199,233,180)"
          ],
          [
           0.375,
           "rgb(127,205,187)"
          ],
          [
           0.5,
           "rgb(65,182,196)"
          ],
          [
           0.625,
           "rgb(29,145,192)"
          ],
          [
           0.75,
           "rgb(34,94,168)"
          ],
          [
           0.875,
           "rgb(37,52,148)"
          ],
          [
           1,
           "rgb(8,29,88)"
          ]
         ]
        },
        "template": {
         "data": {
          "bar": [
           {
            "error_x": {
             "color": "#2a3f5f"
            },
            "error_y": {
             "color": "#2a3f5f"
            },
            "marker": {
             "line": {
              "color": "#E5ECF6",
              "width": 0.5
             },
             "pattern": {
              "fillmode": "overlay",
              "size": 10,
              "solidity": 0.2
             }
            },
            "type": "bar"
           }
          ],
          "barpolar": [
           {
            "marker": {
             "line": {
              "color": "#E5ECF6",
              "width": 0.5
             },
             "pattern": {
              "fillmode": "overlay",
              "size": 10,
              "solidity": 0.2
             }
            },
            "type": "barpolar"
           }
          ],
          "carpet": [
           {
            "aaxis": {
             "endlinecolor": "#2a3f5f",
             "gridcolor": "white",
             "linecolor": "white",
             "minorgridcolor": "white",
             "startlinecolor": "#2a3f5f"
            },
            "baxis": {
             "endlinecolor": "#2a3f5f",
             "gridcolor": "white",
             "linecolor": "white",
             "minorgridcolor": "white",
             "startlinecolor": "#2a3f5f"
            },
            "type": "carpet"
           }
          ],
          "choropleth": [
           {
            "colorbar": {
             "outlinewidth": 0,
             "ticks": ""
            },
            "type": "choropleth"
           }
          ],
          "contour": [
           {
            "colorbar": {
             "outlinewidth": 0,
             "ticks": ""
            },
            "colorscale": [
             [
              0,
              "#0d0887"
             ],
             [
              0.1111111111111111,
              "#46039f"
             ],
             [
              0.2222222222222222,
              "#7201a8"
             ],
             [
              0.3333333333333333,
              "#9c179e"
             ],
             [
              0.4444444444444444,
              "#bd3786"
             ],
             [
              0.5555555555555556,
              "#d8576b"
             ],
             [
              0.6666666666666666,
              "#ed7953"
             ],
             [
              0.7777777777777778,
              "#fb9f3a"
             ],
             [
              0.8888888888888888,
              "#fdca26"
             ],
             [
              1,
              "#f0f921"
             ]
            ],
            "type": "contour"
           }
          ],
          "contourcarpet": [
           {
            "colorbar": {
             "outlinewidth": 0,
             "ticks": ""
            },
            "type": "contourcarpet"
           }
          ],
          "heatmap": [
           {
            "colorbar": {
             "outlinewidth": 0,
             "ticks": ""
            },
            "colorscale": [
             [
              0,
              "#0d0887"
             ],
             [
              0.1111111111111111,
              "#46039f"
             ],
             [
              0.2222222222222222,
              "#7201a8"
             ],
             [
              0.3333333333333333,
              "#9c179e"
             ],
             [
              0.4444444444444444,
              "#bd3786"
             ],
             [
              0.5555555555555556,
              "#d8576b"
             ],
             [
              0.6666666666666666,
              "#ed7953"
             ],
             [
              0.7777777777777778,
              "#fb9f3a"
             ],
             [
              0.8888888888888888,
              "#fdca26"
             ],
             [
              1,
              "#f0f921"
             ]
            ],
            "type": "heatmap"
           }
          ],
          "heatmapgl": [
           {
            "colorbar": {
             "outlinewidth": 0,
             "ticks": ""
            },
            "colorscale": [
             [
              0,
              "#0d0887"
             ],
             [
              0.1111111111111111,
              "#46039f"
             ],
             [
              0.2222222222222222,
              "#7201a8"
             ],
             [
              0.3333333333333333,
              "#9c179e"
             ],
             [
              0.4444444444444444,
              "#bd3786"
             ],
             [
              0.5555555555555556,
              "#d8576b"
             ],
             [
              0.6666666666666666,
              "#ed7953"
             ],
             [
              0.7777777777777778,
              "#fb9f3a"
             ],
             [
              0.8888888888888888,
              "#fdca26"
             ],
             [
              1,
              "#f0f921"
             ]
            ],
            "type": "heatmapgl"
           }
          ],
          "histogram": [
           {
            "marker": {
             "pattern": {
              "fillmode": "overlay",
              "size": 10,
              "solidity": 0.2
             }
            },
            "type": "histogram"
           }
          ],
          "histogram2d": [
           {
            "colorbar": {
             "outlinewidth": 0,
             "ticks": ""
            },
            "colorscale": [
             [
              0,
              "#0d0887"
             ],
             [
              0.1111111111111111,
              "#46039f"
             ],
             [
              0.2222222222222222,
              "#7201a8"
             ],
             [
              0.3333333333333333,
              "#9c179e"
             ],
             [
              0.4444444444444444,
              "#bd3786"
             ],
             [
              0.5555555555555556,
              "#d8576b"
             ],
             [
              0.6666666666666666,
              "#ed7953"
             ],
             [
              0.7777777777777778,
              "#fb9f3a"
             ],
             [
              0.8888888888888888,
              "#fdca26"
             ],
             [
              1,
              "#f0f921"
             ]
            ],
            "type": "histogram2d"
           }
          ],
          "histogram2dcontour": [
           {
            "colorbar": {
             "outlinewidth": 0,
             "ticks": ""
            },
            "colorscale": [
             [
              0,
              "#0d0887"
             ],
             [
              0.1111111111111111,
              "#46039f"
             ],
             [
              0.2222222222222222,
              "#7201a8"
             ],
             [
              0.3333333333333333,
              "#9c179e"
             ],
             [
              0.4444444444444444,
              "#bd3786"
             ],
             [
              0.5555555555555556,
              "#d8576b"
             ],
             [
              0.6666666666666666,
              "#ed7953"
             ],
             [
              0.7777777777777778,
              "#fb9f3a"
             ],
             [
              0.8888888888888888,
              "#fdca26"
             ],
             [
              1,
              "#f0f921"
             ]
            ],
            "type": "histogram2dcontour"
           }
          ],
          "mesh3d": [
           {
            "colorbar": {
             "outlinewidth": 0,
             "ticks": ""
            },
            "type": "mesh3d"
           }
          ],
          "parcoords": [
           {
            "line": {
             "colorbar": {
              "outlinewidth": 0,
              "ticks": ""
             }
            },
            "type": "parcoords"
           }
          ],
          "pie": [
           {
            "automargin": true,
            "type": "pie"
           }
          ],
          "scatter": [
           {
            "fillpattern": {
             "fillmode": "overlay",
             "size": 10,
             "solidity": 0.2
            },
            "type": "scatter"
           }
          ],
          "scatter3d": [
           {
            "line": {
             "colorbar": {
              "outlinewidth": 0,
              "ticks": ""
             }
            },
            "marker": {
             "colorbar": {
              "outlinewidth": 0,
              "ticks": ""
             }
            },
            "type": "scatter3d"
           }
          ],
          "scattercarpet": [
           {
            "marker": {
             "colorbar": {
              "outlinewidth": 0,
              "ticks": ""
             }
            },
            "type": "scattercarpet"
           }
          ],
          "scattergeo": [
           {
            "marker": {
             "colorbar": {
              "outlinewidth": 0,
              "ticks": ""
             }
            },
            "type": "scattergeo"
           }
          ],
          "scattergl": [
           {
            "marker": {
             "colorbar": {
              "outlinewidth": 0,
              "ticks": ""
             }
            },
            "type": "scattergl"
           }
          ],
          "scattermapbox": [
           {
            "marker": {
             "colorbar": {
              "outlinewidth": 0,
              "ticks": ""
             }
            },
            "type": "scattermapbox"
           }
          ],
          "scatterpolar": [
           {
            "marker": {
             "colorbar": {
              "outlinewidth": 0,
              "ticks": ""
             }
            },
            "type": "scatterpolar"
           }
          ],
          "scatterpolargl": [
           {
            "marker": {
             "colorbar": {
              "outlinewidth": 0,
              "ticks": ""
             }
            },
            "type": "scatterpolargl"
           }
          ],
          "scatterternary": [
           {
            "marker": {
             "colorbar": {
              "outlinewidth": 0,
              "ticks": ""
             }
            },
            "type": "scatterternary"
           }
          ],
          "surface": [
           {
            "colorbar": {
             "outlinewidth": 0,
             "ticks": ""
            },
            "colorscale": [
             [
              0,
              "#0d0887"
             ],
             [
              0.1111111111111111,
              "#46039f"
             ],
             [
              0.2222222222222222,
              "#7201a8"
             ],
             [
              0.3333333333333333,
              "#9c179e"
             ],
             [
              0.4444444444444444,
              "#bd3786"
             ],
             [
              0.5555555555555556,
              "#d8576b"
             ],
             [
              0.6666666666666666,
              "#ed7953"
             ],
             [
              0.7777777777777778,
              "#fb9f3a"
             ],
             [
              0.8888888888888888,
              "#fdca26"
             ],
             [
              1,
              "#f0f921"
             ]
            ],
            "type": "surface"
           }
          ],
          "table": [
           {
            "cells": {
             "fill": {
              "color": "#EBF0F8"
             },
             "line": {
              "color": "white"
             }
            },
            "header": {
             "fill": {
              "color": "#C8D4E3"
             },
             "line": {
              "color": "white"
             }
            },
            "type": "table"
           }
          ]
         },
         "layout": {
          "annotationdefaults": {
           "arrowcolor": "#2a3f5f",
           "arrowhead": 0,
           "arrowwidth": 1
          },
          "autotypenumbers": "strict",
          "coloraxis": {
           "colorbar": {
            "outlinewidth": 0,
            "ticks": ""
           }
          },
          "colorscale": {
           "diverging": [
            [
             0,
             "#8e0152"
            ],
            [
             0.1,
             "#c51b7d"
            ],
            [
             0.2,
             "#de77ae"
            ],
            [
             0.3,
             "#f1b6da"
            ],
            [
             0.4,
             "#fde0ef"
            ],
            [
             0.5,
             "#f7f7f7"
            ],
            [
             0.6,
             "#e6f5d0"
            ],
            [
             0.7,
             "#b8e186"
            ],
            [
             0.8,
             "#7fbc41"
            ],
            [
             0.9,
             "#4d9221"
            ],
            [
             1,
             "#276419"
            ]
           ],
           "sequential": [
            [
             0,
             "#0d0887"
            ],
            [
             0.1111111111111111,
             "#46039f"
            ],
            [
             0.2222222222222222,
             "#7201a8"
            ],
            [
             0.3333333333333333,
             "#9c179e"
            ],
            [
             0.4444444444444444,
             "#bd3786"
            ],
            [
             0.5555555555555556,
             "#d8576b"
            ],
            [
             0.6666666666666666,
             "#ed7953"
            ],
            [
             0.7777777777777778,
             "#fb9f3a"
            ],
            [
             0.8888888888888888,
             "#fdca26"
            ],
            [
             1,
             "#f0f921"
            ]
           ],
           "sequentialminus": [
            [
             0,
             "#0d0887"
            ],
            [
             0.1111111111111111,
             "#46039f"
            ],
            [
             0.2222222222222222,
             "#7201a8"
            ],
            [
             0.3333333333333333,
             "#9c179e"
            ],
            [
             0.4444444444444444,
             "#bd3786"
            ],
            [
             0.5555555555555556,
             "#d8576b"
            ],
            [
             0.6666666666666666,
             "#ed7953"
            ],
            [
             0.7777777777777778,
             "#fb9f3a"
            ],
            [
             0.8888888888888888,
             "#fdca26"
            ],
            [
             1,
             "#f0f921"
            ]
           ]
          },
          "colorway": [
           "#636efa",
           "#EF553B",
           "#00cc96",
           "#ab63fa",
           "#FFA15A",
           "#19d3f3",
           "#FF6692",
           "#B6E880",
           "#FF97FF",
           "#FECB52"
          ],
          "font": {
           "color": "#2a3f5f"
          },
          "geo": {
           "bgcolor": "white",
           "lakecolor": "white",
           "landcolor": "#E5ECF6",
           "showlakes": true,
           "showland": true,
           "subunitcolor": "white"
          },
          "hoverlabel": {
           "align": "left"
          },
          "hovermode": "closest",
          "mapbox": {
           "style": "light"
          },
          "paper_bgcolor": "white",
          "plot_bgcolor": "#E5ECF6",
          "polar": {
           "angularaxis": {
            "gridcolor": "white",
            "linecolor": "white",
            "ticks": ""
           },
           "bgcolor": "#E5ECF6",
           "radialaxis": {
            "gridcolor": "white",
            "linecolor": "white",
            "ticks": ""
           }
          },
          "scene": {
           "xaxis": {
            "backgroundcolor": "#E5ECF6",
            "gridcolor": "white",
            "gridwidth": 2,
            "linecolor": "white",
            "showbackground": true,
            "ticks": "",
            "zerolinecolor": "white"
           },
           "yaxis": {
            "backgroundcolor": "#E5ECF6",
            "gridcolor": "white",
            "gridwidth": 2,
            "linecolor": "white",
            "showbackground": true,
            "ticks": "",
            "zerolinecolor": "white"
           },
           "zaxis": {
            "backgroundcolor": "#E5ECF6",
            "gridcolor": "white",
            "gridwidth": 2,
            "linecolor": "white",
            "showbackground": true,
            "ticks": "",
            "zerolinecolor": "white"
           }
          },
          "shapedefaults": {
           "line": {
            "color": "#2a3f5f"
           }
          },
          "ternary": {
           "aaxis": {
            "gridcolor": "white",
            "linecolor": "white",
            "ticks": ""
           },
           "baxis": {
            "gridcolor": "white",
            "linecolor": "white",
            "ticks": ""
           },
           "bgcolor": "#E5ECF6",
           "caxis": {
            "gridcolor": "white",
            "linecolor": "white",
            "ticks": ""
           }
          },
          "title": {
           "x": 0.05
          },
          "xaxis": {
           "automargin": true,
           "gridcolor": "white",
           "linecolor": "white",
           "ticks": "",
           "title": {
            "standoff": 15
           },
           "zerolinecolor": "white",
           "zerolinewidth": 2
          },
          "yaxis": {
           "automargin": true,
           "gridcolor": "white",
           "linecolor": "white",
           "ticks": "",
           "title": {
            "standoff": 15
           },
           "zerolinecolor": "white",
           "zerolinewidth": 2
          }
         }
        },
        "title": {
         "text": "Casos de violación por Estado y año (2001-2021)"
        },
        "xaxis": {
         "anchor": "y",
         "domain": [
          0,
          1
         ],
         "title": {
          "text": "Año"
         }
        },
        "yaxis": {
         "anchor": "x",
         "autorange": "reversed",
         "domain": [
          0,
          1
         ],
         "title": {
          "text": "Estado"
         }
        }
       }
      }
     },
     "metadata": {},
     "output_type": "display_data"
    }
   ],
   "source": [
    "# Instalamos otra librería para visualizaciones.\n",
    "\n",
    "import plotly.express as px\n",
    "\n",
    "# Crear un heatmap (mapa de calor) usando Plotly.\n",
    "\n",
    "heatmap_data = crimes_df_cleaned.pivot_table(\n",
    "    values='Casos de violación', \n",
    "    index='Estado', \n",
    "    columns='Año', \n",
    "    aggfunc='sum', \n",
    "    fill_value=0\n",
    ")\n",
    "\n",
    "# Crear el heatmap (mapa de calor) interactivo con título.\n",
    "\n",
    "fig = px.imshow(\n",
    "    heatmap_data,\n",
    "    labels=dict(x=\"Año\", y=\"Estado\", color=\"Casos de violación\"),\n",
    "    x=heatmap_data.columns,\n",
    "    y=heatmap_data.index,\n",
    "    color_continuous_scale=\"YlGnBu\",\n",
    "    aspect=\"auto\",\n",
    "    title=\"Casos de violación por Estado y año (2001-2021)\" \n",
    ")\n",
    "\n",
    "# Mostrar el heatmap (mapa de calor).\n",
    "\n",
    "fig.show()\n"
   ]
  },
  {
   "cell_type": "code",
   "execution_count": 7,
   "metadata": {},
   "outputs": [
    {
     "data": {
      "image/png": "[encoded data removed]",
      "text/plain": [
       "<Figure size 1200x600 with 1 Axes>"
      ]
     },
     "metadata": {},
     "output_type": "display_data"
    }
   ],
   "source": [
    "import matplotlib.pyplot as plt\n",
    "import seaborn as sns\n",
    "\n",
    "# Agrupar por año y sumar todos los tipos de crímenes.\n",
    "\n",
    "crime_trend = crimes_df_cleaned.groupby('Año').sum()\n",
    "\n",
    "# Tendencia de crímenes contra mujeres (2001-2021).\n",
    "\n",
    "plt.figure(figsize=(12, 6))\n",
    "ax = sns.lineplot(data=crime_trend)\n",
    "\n",
    "# Ajustar el título y etiquetas\n",
    "plt.title('Tendencia de crímenes contra mujeres (2001-2021)')\n",
    "plt.xlabel('Año')\n",
    "plt.ylabel('Número de crímenes')\n",
    "\n",
    "# Establecer los valores del eje X como enteros.\n",
    "\n",
    "years = crime_trend.index\n",
    "plt.xticks(ticks=range(min(years), max(years) + 1), rotation=45)\n",
    "\n",
    "# Mostrar la leyenda.\n",
    "\n",
    "plt.legend(title='Tipo de crimen', bbox_to_anchor=(1.05, 1), loc='upper left')\n",
    "\n",
    "# Añadir anotaciones a cada punto en el gráfico.\n",
    "\n",
    "for line in ax.get_lines():\n",
    "    x_data = line.get_xdata()\n",
    "    y_data = line.get_ydata()\n",
    "    for x, y in zip(x_data, y_data):\n",
    "        ax.text(x, y, f'{int(y)}', color=line.get_color(), fontsize=9, ha='center', va='bottom')\n",
    "\n",
    "# Mostrar el gráfico.\n",
    "\n",
    "plt.show()\n"
   ]
  },
  {
   "cell_type": "code",
   "execution_count": 10,
   "metadata": {},
   "outputs": [
    {
     "data": {
      "text/plain": [
       "<Figure size 1200x600 with 0 Axes>"
      ]
     },
     "metadata": {},
     "output_type": "display_data"
    },
    {
     "data": {
      "image/png": "[encoded data removed]",
      "text/plain": [
       "<Figure size 640x480 with 1 Axes>"
      ]
     },
     "metadata": {},
     "output_type": "display_data"
    }
   ],
   "source": [
    "#crimes_df_cleaned = crimes_df.copy()  # Realiza más limpieza si es necesario\n",
    "\n",
    "# Eliminar la columna 'Año'\n",
    "crimes_df_cleaned_eda = crimes_df_cleaned.drop(columns=['Año'])\n",
    "\n",
    "# Total de crímenes por estado\n",
    "state_crime = crimes_df_cleaned_eda.groupby('Estado').sum().sort_values(by='Casos de violación', ascending=False)\n",
    "\n",
    "# Top 10 estados con el mayor número de crímenes\n",
    "top_states = state_crime.head(10)\n",
    "\n",
    "# Graficar\n",
    "plt.figure(figsize=(12, 6))\n",
    "top_states.plot(kind='bar', stacked=True)\n",
    "plt.title('Top 10 Estados con el Mayor Número de Crímenes contra Mujeres')\n",
    "plt.xlabel('Estado')\n",
    "plt.ylabel('Número de Crímenes')\n",
    "plt.xticks(rotation=45)\n",
    "plt.legend(title='Tipo de Crimen', bbox_to_anchor=(1.05, 1), loc='upper left')\n",
    "plt.show()"
   ]
  }
 ],
 "metadata": {
  "kernelspec": {
   "display_name": "base",
   "language": "python",
   "name": "python3"
  },
  "language_info": {
   "codemirror_mode": {
    "name": "ipython",
    "version": 3
   },
   "file_extension": ".py",
   "mimetype": "text/x-python",
   "name": "python",
   "nbconvert_exporter": "python",
   "pygments_lexer": "ipython3",
   "version": "3.11.9"
  }
 },
 "nbformat": 4,
 "nbformat_minor": 2
}
