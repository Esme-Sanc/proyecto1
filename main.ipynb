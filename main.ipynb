{
 "cells": [
  {
   "cell_type": "code",
   "execution_count": 1,
   "metadata": {},
   "outputs": [],
   "source": [
    "# Módulo para instalar librerías faltantes y necesarias para analizar el dataset y realizar la visualización.\n",
    "\n",
    "# pip install plotly\n",
    "\n",
    "# !pip install requests\n",
    "\n",
    "# !pip install pandas requests plotly\n",
    "\n",
    "# !pip install -U kaleido\n",
    "\n",
    "# !pip install statsmodels\n",
    "\n",
    "# !pip install prophet\n",
    "\n",
    "# !pip install prophet\n",
    "\n",
    "# !pip install tabpy\n"
   ]
  },
  {
   "cell_type": "code",
   "execution_count": 2,
   "metadata": {},
   "outputs": [],
   "source": [
    "# Importación de bibliotecas que necesitamos para el análisis de datos.\n",
    "\n",
    "import pandas as pd\n",
    "import numpy as np \n",
    "import matplotlib.pyplot as plt\n",
    "import seaborn as sns\n",
    "import plotly.graph_objects as go\n",
    "import warnings\n",
    "import requests\n",
    "import matplotlib.pyplot as plt\n",
    "# from fbprophet import prophet\n",
    "from sklearn.linear_model import LinearRegression\n",
    "from sklearn.metrics import mean_absolute_error, r2_score\n",
    "from sklearn.ensemble import RandomForestRegressor\n",
    "from sklearn.model_selection import train_test_split\n",
    "from sklearn.metrics import mean_absolute_error, r2_score\n",
    "from sklearn.ensemble import GradientBoostingRegressor\n",
    "import xgboost as xgb\n",
    "import plotly.express as px"
   ]
  },
  {
   "cell_type": "code",
   "execution_count": 3,
   "metadata": {},
   "outputs": [
    {
     "name": "stdout",
     "output_type": "stream",
     "text": [
      "CrimesOnWomenData.csv - 5 primeras  filas:\n",
      "   Unnamed: 0              State  Year  Rape   K&A   DD   AoW   AoM    DV  WT\n",
      "0           0     ANDHRA PRADESH  2001   871   765  420  3544  2271  5791   7\n",
      "1           1  ARUNACHAL PRADESH  2001    33    55    0    78     3    11   0\n",
      "2           2              ASSAM  2001   817  1070   59   850     4  1248   0\n",
      "3           3              BIHAR  2001   888   518  859   562    21  1558  83\n",
      "4           4       CHHATTISGARH  2001   959   171   70  1763   161   840   0\n",
      "\n",
      "Description.csv - 5 primeras filas:\n",
      "   Unnamed: 0 Column Names         Explanation\n",
      "0           0        State               State\n",
      "1           1         Year                Year\n",
      "2           2         Rape   No. of Rape cases\n",
      "3           3          K&A  Kidnap And Assault\n",
      "4           4           DD        Dowry Deaths\n"
     ]
    }
   ],
   "source": [
    "# Lectura y extracción del dataset.\n",
    "\n",
    "# Ignore all warnings () \n",
    "warnings.filterwarnings('ignore') \n",
    "\n",
    "# Carga de los ficheros de datos, en nuestro caso están en .csv\n",
    "\n",
    "crimes_df = pd.read_csv('C:/Users/le Roj/Desktop/Jupyter Notebook/Data/Crime Women India/CrimesOnWomenData.csv')\n",
    "description_df = pd.read_csv('C:/Users/le Roj/Desktop/Jupyter Notebook/Data/Crime Women India/description.csv')\n",
    "\n",
    "# Mostrar las primeras 5 filas de los ficheros.\n",
    "\n",
    "print(\"CrimesOnWomenData.csv - 5 primeras  filas:\")\n",
    "print(crimes_df.head())\n",
    "\n",
    "print(\"\\nDescription.csv - 5 primeras filas:\")\n",
    "print(description_df.head())"
   ]
  },
  {
   "cell_type": "code",
   "execution_count": 4,
   "metadata": {},
   "outputs": [
    {
     "name": "stdout",
     "output_type": "stream",
     "text": [
      "Index(['Unnamed: 0', 'State', 'Year', 'Rape', 'K&A', 'DD', 'AoW', 'AoM', 'DV',\n",
      "       'WT'],\n",
      "      dtype='object')\n"
     ]
    }
   ],
   "source": [
    "print(crimes_df.columns)\n"
   ]
  },
  {
   "cell_type": "code",
   "execution_count": 5,
   "metadata": {},
   "outputs": [],
   "source": [
    "# Elimina filas si hay NaN en las columnas específicas (por ejemplo, 'Casos de violación' y 'Secuestros y asaltos')\n",
    "columns_to_check = ['Unnamed: 0', 'State', 'Year', 'Rape', 'K&A', 'DD', 'AoW', 'AoM', 'DV',\n",
    "       'WT']\n",
    "crimes_df.dropna(subset=columns_to_check, inplace=True)\n"
   ]
  },
  {
   "cell_type": "code",
   "execution_count": 6,
   "metadata": {},
   "outputs": [],
   "source": [
    "# Elimina columnas que contengan NaN\n",
    "crimes_df.dropna(axis=1, inplace=True)\n"
   ]
  },
  {
   "cell_type": "code",
   "execution_count": 7,
   "metadata": {},
   "outputs": [
    {
     "name": "stdout",
     "output_type": "stream",
     "text": [
      "\n",
      "Renamed Columns:\n",
      "Index(['Unnamed: 0', 'Estado', 'Año', 'Casos de violación',\n",
      "       'Secuestros y asaltos', 'Muertes por la dote', 'Asalto a mujeres',\n",
      "       'Asalto a menores (niñas y adolescentes)', 'Violencia doméstica',\n",
      "       'Brujería'],\n",
      "      dtype='object')\n"
     ]
    }
   ],
   "source": [
    "# Crear un diccionario para renombrar las columnas\n",
    "\n",
    "column_names = {\n",
    "    'Rape': 'Casos de violación',\n",
    "    'K&A': 'Secuestros y asaltos',\n",
    "    'DD': 'Muertes por la dote',\n",
    "    'AoW': 'Asalto a mujeres',\n",
    "    'AoM': 'Asalto a menores (niñas y adolescentes)',\n",
    "    'DV': 'Violencia doméstica',\n",
    "    'WT': 'Brujería',\n",
    "    'State' : 'Estado',\n",
    "    'Year' : 'Año',\n",
    "}\n",
    "\n",
    "# Renombrar las columnas en el DataFrame\n",
    "crimes_df.rename(columns=column_names, inplace=True)\n",
    "\n",
    "# Verificar los nombres de las columnas renombradas\n",
    "print(\"\\nRenamed Columns:\")\n",
    "print(crimes_df.columns)\n"
   ]
  },
  {
   "cell_type": "code",
   "execution_count": 8,
   "metadata": {},
   "outputs": [
    {
     "name": "stdout",
     "output_type": "stream",
     "text": [
      "\n",
      "DataFrame después de eliminar NaN:\n",
      "   Unnamed: 0             Estado   Año  Casos de violación  \\\n",
      "0           0     ANDHRA PRADESH  2001                 871   \n",
      "1           1  ARUNACHAL PRADESH  2001                  33   \n",
      "2           2              ASSAM  2001                 817   \n",
      "3           3              BIHAR  2001                 888   \n",
      "4           4       CHHATTISGARH  2001                 959   \n",
      "\n",
      "   Secuestros y asaltos  Muertes por la dote  Asalto a mujeres  \\\n",
      "0                   765                  420              3544   \n",
      "1                    55                    0                78   \n",
      "2                  1070                   59               850   \n",
      "3                   518                  859               562   \n",
      "4                   171                   70              1763   \n",
      "\n",
      "   Asalto a menores (niñas y adolescentes)  Violencia doméstica  Brujería  \n",
      "0                                     2271                 5791         7  \n",
      "1                                        3                   11         0  \n",
      "2                                        4                 1248         0  \n",
      "3                                       21                 1558        83  \n",
      "4                                      161                  840         0  \n"
     ]
    }
   ],
   "source": [
    "# Elimina filas si hay NaN en las columnas específicas\n",
    "columns_to_check = ['Casos de violación', 'Secuestros y asaltos', 'Muertes por la dote', \n",
    "                    'Asalto a mujeres', 'Asalto a menores (niñas y adolescentes)', \n",
    "                    'Violencia doméstica', 'Brujería']\n",
    "crimes_df.dropna(subset=columns_to_check, inplace=True)\n",
    "\n",
    "# Opcional: Verificar el DataFrame después de eliminar NaN\n",
    "print(\"\\nDataFrame después de eliminar NaN:\")\n",
    "print(crimes_df.head())\n"
   ]
  },
  {
   "cell_type": "code",
   "execution_count": 9,
   "metadata": {},
   "outputs": [
    {
     "name": "stdout",
     "output_type": "stream",
     "text": [
      "\n",
      "Cleaned Dataset Columns:\n",
      "Index(['Estado', 'Año', 'Casos de violación', 'Secuestros y asaltos',\n",
      "       'Muertes por la dote', 'Asalto a mujeres',\n",
      "       'Asalto a menores (niñas y adolescentes)', 'Violencia doméstica',\n",
      "       'Brujería'],\n",
      "      dtype='object')\n",
      "\n",
      "First 5 Rows of the Cleaned Dataset:\n",
      "              Estado   Año  Casos de violación  Secuestros y asaltos  \\\n",
      "0     ANDHRA PRADESH  2001                 871                   765   \n",
      "1  ARUNACHAL PRADESH  2001                  33                    55   \n",
      "2              ASSAM  2001                 817                  1070   \n",
      "3              BIHAR  2001                 888                   518   \n",
      "4       CHHATTISGARH  2001                 959                   171   \n",
      "\n",
      "   Muertes por la dote  Asalto a mujeres  \\\n",
      "0                  420              3544   \n",
      "1                    0                78   \n",
      "2                   59               850   \n",
      "3                  859               562   \n",
      "4                   70              1763   \n",
      "\n",
      "   Asalto a menores (niñas y adolescentes)  Violencia doméstica  Brujería  \n",
      "0                                     2271                 5791         7  \n",
      "1                                        3                   11         0  \n",
      "2                                        4                 1248         0  \n",
      "3                                       21                 1558        83  \n",
      "4                                      161                  840         0  \n"
     ]
    }
   ],
   "source": [
    "# Quitamos las columnas que no utilizaremos en el análisis de datos y su visualización. \n",
    "\n",
    "crimes_df_cleaned = crimes_df.drop(columns=['Unnamed: 0'])\n",
    "crimes_df_cleaned['Estado'] = crimes_df_cleaned['Estado'].str.upper()\n",
    "\n",
    "# Verificamos la DataFrame ya limpia.\n",
    "\n",
    "print(\"\\nCleaned Dataset Columns:\")\n",
    "print(crimes_df_cleaned.columns)\n",
    "print(\"\\nFirst 5 Rows of the Cleaned Dataset:\")\n",
    "print(crimes_df_cleaned.head())"
   ]
  },
  {
   "cell_type": "code",
   "execution_count": 10,
   "metadata": {},
   "outputs": [
    {
     "data": {
      "application/vnd.plotly.v1+json": {
       "config": {
        "plotlyServerURL": "https://plot.ly"
       },
       "data": [
        {
         "coloraxis": "coloraxis",
         "hovertemplate": "Año: %{x}<br>Estado: %{y}<br>Casos de violación: %{z}<extra></extra>",
         "name": "0",
         "type": "heatmap",
         "x": [
          2001,
          2002,
          2003,
          2004,
          2005,
          2006,
          2007,
          2008,
          2009,
          2010,
          2011,
          2012,
          2013,
          2014,
          2015,
          2016,
          2017,
          2018,
          2019,
          2020,
          2021
         ],
         "xaxis": "x",
         "y": [
          "A & N ISLANDS",
          "ANDHRA PRADESH",
          "ARUNACHAL PRADESH",
          "ASSAM",
          "BIHAR",
          "CHANDIGARH",
          "CHHATTISGARH",
          "D & N HAVELI",
          "D&N HAVELI",
          "DAMAN & DIU",
          "DELHI UT",
          "GOA",
          "GUJARAT",
          "HARYANA",
          "HIMACHAL PRADESH",
          "JAMMU & KASHMIR",
          "JHARKHAND",
          "KARNATAKA",
          "KERALA",
          "LAKSHADWEEP",
          "MADHYA PRADESH",
          "MAHARASHTRA",
          "MANIPUR",
          "MEGHALAYA",
          "MIZORAM",
          "NAGALAND",
          "ODISHA",
          "PUDUCHERRY",
          "PUNJAB",
          "RAJASTHAN",
          "SIKKIM",
          "TAMIL NADU",
          "TELANGANA",
          "TRIPURA",
          "UTTAR PRADESH",
          "UTTARAKHAND",
          "WEST BENGAL"
         ],
         "yaxis": "y",
         "z": [
          [
           3,
           2,
           2,
           10,
           4,
           6,
           3,
           12,
           18,
           24,
           13,
           12,
           27,
           32,
           36,
           30,
           13,
           30,
           13,
           60,
           74
          ],
          [
           871,
           1002,
           946,
           1016,
           935,
           1049,
           1070,
           1257,
           1188,
           1362,
           1442,
           1341,
           1635,
           961,
           1027,
           994,
           988,
           971,
           1086,
           1095,
           1188
          ],
          [
           33,
           38,
           31,
           42,
           35,
           37,
           48,
           42,
           59,
           47,
           42,
           46,
           75,
           83,
           71,
           92,
           59,
           67,
           63,
           60,
           83
          ],
          [
           817,
           970,
           1095,
           1171,
           1238,
           1244,
           1437,
           1438,
           1631,
           1721,
           1700,
           1716,
           1937,
           1980,
           1733,
           1779,
           1772,
           1648,
           1773,
           1657,
           1733
          ],
          [
           888,
           1040,
           985,
           1390,
           1147,
           1232,
           1555,
           1302,
           929,
           795,
           934,
           927,
           1128,
           1127,
           1041,
           1008,
           605,
           651,
           730,
           806,
           786
          ],
          [
           18,
           18,
           18,
           19,
           33,
           19,
           22,
           20,
           29,
           31,
           27,
           27,
           45,
           59,
           72,
           68,
           65,
           86,
           112,
           4,
           3
          ],
          [
           959,
           992,
           898,
           969,
           990,
           995,
           982,
           978,
           976,
           1012,
           1053,
           1034,
           1380,
           1436,
           1560,
           1626,
           1908,
           2091,
           1036,
           1210,
           1093
          ],
          [
           6,
           4,
           1,
           7,
           5,
           6,
           7,
           6,
           4,
           3,
           0,
           0,
           0,
           0,
           0,
           0,
           0,
           0,
           0,
           0,
           0
          ],
          [
           0,
           0,
           0,
           0,
           0,
           0,
           0,
           0,
           0,
           0,
           4,
           3,
           5,
           5,
           8,
           14,
           1,
           7,
           0,
           997,
           1250
          ],
          [
           0,
           0,
           5,
           1,
           2,
           3,
           1,
           0,
           1,
           1,
           1,
           5,
           8,
           2,
           5,
           12,
           7,
           3,
           4,
           243,
           315
          ],
          [
           0,
           0,
           0,
           0,
           0,
           0,
           0,
           0,
           0,
           0,
           572,
           706,
           1636,
           2096,
           2199,
           2155,
           1229,
           1215,
           1253,
           2,
           2
          ],
          [
           12,
           12,
           31,
           37,
           20,
           21,
           20,
           30,
           47,
           36,
           29,
           55,
           86,
           95,
           86,
           61,
           76,
           61,
           72,
           60,
           72
          ],
          [
           286,
           267,
           236,
           339,
           324,
           354,
           316,
           374,
           433,
           408,
           439,
           473,
           732,
           841,
           503,
           982,
           477,
           553,
           528,
           486,
           589
          ],
          [
           398,
           361,
           353,
           386,
           461,
           608,
           488,
           631,
           603,
           720,
           733,
           668,
           971,
           1174,
           1070,
           1187,
           1099,
           1296,
           1480,
           1373,
           1716
          ],
          [
           124,
           137,
           126,
           153,
           141,
           113,
           159,
           157,
           183,
           160,
           168,
           183,
           250,
           283,
           244,
           252,
           249,
           344,
           359,
           331,
           358
          ],
          [
           169,
           192,
           211,
           218,
           201,
           250,
           288,
           219,
           237,
           245,
           277,
           303,
           378,
           331,
           296,
           256,
           296,
           320,
           223,
           1321,
           1425
          ],
          [
           567,
           797,
           712,
           797,
           753,
           799,
           855,
           791,
           719,
           773,
           784,
           812,
           1204,
           1050,
           1053,
           1109,
           914,
           1090,
           1416,
           504,
           555
          ],
          [
           293,
           292,
           321,
           291,
           343,
           400,
           436,
           446,
           509,
           586,
           636,
           621,
           1030,
           1324,
           589,
           1655,
           546,
           492,
           505,
           637,
           771
          ],
          [
           562,
           499,
           394,
           480,
           478,
           601,
           512,
           568,
           568,
           634,
           1132,
           1019,
           1221,
           1347,
           1256,
           1656,
           2003,
           1945,
           2023,
           2339,
           2947
          ],
          [
           0,
           1,
           2,
           0,
           0,
           0,
           1,
           2,
           1,
           0,
           0,
           0,
           2,
           1,
           0,
           5,
           0,
           2,
           0,
           3,
           0
          ],
          [
           2851,
           2891,
           2738,
           2875,
           2921,
           2900,
           3010,
           2937,
           2998,
           3135,
           3406,
           3425,
           4335,
           5076,
           4391,
           4882,
           5562,
           5433,
           2485,
           2061,
           2496
          ],
          [
           1302,
           1352,
           1268,
           1388,
           1545,
           1500,
           1451,
           1558,
           1483,
           1599,
           1701,
           1839,
           3063,
           3438,
           4144,
           4189,
           1933,
           2142,
           2299,
           32,
           26
          ],
          [
           20,
           14,
           18,
           31,
           25,
           40,
           20,
           38,
           31,
           34,
           53,
           63,
           72,
           75,
           46,
           55,
           40,
           52,
           36,
           67,
           75
          ],
          [
           26,
           38,
           40,
           54,
           63,
           74,
           82,
           88,
           112,
           149,
           130,
           164,
           183,
           118,
           93,
           190,
           119,
           87,
           102,
           33,
           26
          ],
          [
           52,
           76,
           54,
           20,
           37,
           72,
           83,
           77,
           83,
           92,
           77,
           103,
           89,
           120,
           58,
           23,
           25,
           50,
           42,
           4,
           4
          ],
          [
           17,
           17,
           14,
           18,
           17,
           23,
           13,
           19,
           22,
           16,
           23,
           21,
           31,
           30,
           35,
           26,
           10,
           10,
           8,
           1211,
           1456
          ],
          [
           790,
           691,
           725,
           770,
           799,
           985,
           939,
           1113,
           1023,
           1025,
           1112,
           1458,
           1832,
           1978,
           2251,
           1983,
           2070,
           918,
           1382,
           502,
           464
          ],
          [
           9,
           6,
           2,
           4,
           6,
           9,
           9,
           8,
           1,
           3,
           7,
           13,
           17,
           10,
           3,
           6,
           7,
           0,
           10,
           8,
           2
          ],
          [
           298,
           299,
           380,
           390,
           398,
           442,
           519,
           517,
           511,
           546,
           479,
           680,
           888,
           981,
           886,
           838,
           530,
           831,
           1002,
           5310,
           6337
          ],
          [
           1049,
           1051,
           1050,
           1038,
           993,
           1085,
           1238,
           1355,
           1519,
           1571,
           1800,
           2049,
           3285,
           3759,
           3644,
           3656,
           3305,
           4335,
           5997,
           12,
           8
          ],
          [
           8,
           6,
           10,
           3,
           18,
           20,
           24,
           20,
           18,
           18,
           16,
           34,
           43,
           47,
           5,
           92,
           17,
           16,
           11,
           389,
           422
          ],
          [
           423,
           534,
           557,
           618,
           571,
           457,
           523,
           573,
           596,
           686,
           677,
           737,
           923,
           455,
           421,
           319,
           283,
           331,
           362,
           764,
           823
          ],
          [
           0,
           0,
           0,
           0,
           0,
           0,
           0,
           0,
           0,
           0,
           0,
           0,
           0,
           979,
           1105,
           1278,
           552,
           606,
           873,
           79,
           61
          ],
          [
           102,
           108,
           114,
           160,
           162,
           189,
           157,
           204,
           190,
           238,
           205,
           229,
           233,
           239,
           213,
           207,
           95,
           97,
           88,
           2769,
           2845
          ],
          [
           1958,
           1415,
           911,
           1397,
           1217,
           1314,
           1648,
           1871,
           1759,
           1563,
           2042,
           1963,
           3050,
           3467,
           3025,
           4816,
           4246,
           3946,
           3065,
           487,
           534
          ],
          [
           74,
           89,
           107,
           115,
           133,
           147,
           117,
           87,
           111,
           121,
           129,
           148,
           228,
           270,
           283,
           336,
           374,
           561,
           526,
           1128,
           1123
          ],
          [
           709,
           759,
           1002,
           1475,
           1686,
           1731,
           2106,
           2263,
           2336,
           2311,
           2363,
           2046,
           1685,
           1466,
           1199,
           1110,
           1084,
           1069,
           1069,
           2,
           15
          ]
         ]
        }
       ],
       "layout": {
        "coloraxis": {
         "colorbar": {
          "title": {
           "text": "Casos de violación"
          }
         },
         "colorscale": [
          [
           0,
           "rgb(255,255,217)"
          ],
          [
           0.125,
           "rgb(237,248,177)"
          ],
          [
           0.25,
           "rgb(199,233,180)"
          ],
          [
           0.375,
           "rgb(127,205,187)"
          ],
          [
           0.5,
           "rgb(65,182,196)"
          ],
          [
           0.625,
           "rgb(29,145,192)"
          ],
          [
           0.75,
           "rgb(34,94,168)"
          ],
          [
           0.875,
           "rgb(37,52,148)"
          ],
          [
           1,
           "rgb(8,29,88)"
          ]
         ]
        },
        "template": {
         "data": {
          "bar": [
           {
            "error_x": {
             "color": "#2a3f5f"
            },
            "error_y": {
             "color": "#2a3f5f"
            },
            "marker": {
             "line": {
              "color": "#E5ECF6",
              "width": 0.5
             },
             "pattern": {
              "fillmode": "overlay",
              "size": 10,
              "solidity": 0.2
             }
            },
            "type": "bar"
           }
          ],
          "barpolar": [
           {
            "marker": {
             "line": {
              "color": "#E5ECF6",
              "width": 0.5
             },
             "pattern": {
              "fillmode": "overlay",
              "size": 10,
              "solidity": 0.2
             }
            },
            "type": "barpolar"
           }
          ],
          "carpet": [
           {
            "aaxis": {
             "endlinecolor": "#2a3f5f",
             "gridcolor": "white",
             "linecolor": "white",
             "minorgridcolor": "white",
             "startlinecolor": "#2a3f5f"
            },
            "baxis": {
             "endlinecolor": "#2a3f5f",
             "gridcolor": "white",
             "linecolor": "white",
             "minorgridcolor": "white",
             "startlinecolor": "#2a3f5f"
            },
            "type": "carpet"
           }
          ],
          "choropleth": [
           {
            "colorbar": {
             "outlinewidth": 0,
             "ticks": ""
            },
            "type": "choropleth"
           }
          ],
          "contour": [
           {
            "colorbar": {
             "outlinewidth": 0,
             "ticks": ""
            },
            "colorscale": [
             [
              0,
              "#0d0887"
             ],
             [
              0.1111111111111111,
              "#46039f"
             ],
             [
              0.2222222222222222,
              "#7201a8"
             ],
             [
              0.3333333333333333,
              "#9c179e"
             ],
             [
              0.4444444444444444,
              "#bd3786"
             ],
             [
              0.5555555555555556,
              "#d8576b"
             ],
             [
              0.6666666666666666,
              "#ed7953"
             ],
             [
              0.7777777777777778,
              "#fb9f3a"
             ],
             [
              0.8888888888888888,
              "#fdca26"
             ],
             [
              1,
              "#f0f921"
             ]
            ],
            "type": "contour"
           }
          ],
          "contourcarpet": [
           {
            "colorbar": {
             "outlinewidth": 0,
             "ticks": ""
            },
            "type": "contourcarpet"
           }
          ],
          "heatmap": [
           {
            "colorbar": {
             "outlinewidth": 0,
             "ticks": ""
            },
            "colorscale": [
             [
              0,
              "#0d0887"
             ],
             [
              0.1111111111111111,
              "#46039f"
             ],
             [
              0.2222222222222222,
              "#7201a8"
             ],
             [
              0.3333333333333333,
              "#9c179e"
             ],
             [
              0.4444444444444444,
              "#bd3786"
             ],
             [
              0.5555555555555556,
              "#d8576b"
             ],
             [
              0.6666666666666666,
              "#ed7953"
             ],
             [
              0.7777777777777778,
              "#fb9f3a"
             ],
             [
              0.8888888888888888,
              "#fdca26"
             ],
             [
              1,
              "#f0f921"
             ]
            ],
            "type": "heatmap"
           }
          ],
          "heatmapgl": [
           {
            "colorbar": {
             "outlinewidth": 0,
             "ticks": ""
            },
            "colorscale": [
             [
              0,
              "#0d0887"
             ],
             [
              0.1111111111111111,
              "#46039f"
             ],
             [
              0.2222222222222222,
              "#7201a8"
             ],
             [
              0.3333333333333333,
              "#9c179e"
             ],
             [
              0.4444444444444444,
              "#bd3786"
             ],
             [
              0.5555555555555556,
              "#d8576b"
             ],
             [
              0.6666666666666666,
              "#ed7953"
             ],
             [
              0.7777777777777778,
              "#fb9f3a"
             ],
             [
              0.8888888888888888,
              "#fdca26"
             ],
             [
              1,
              "#f0f921"
             ]
            ],
            "type": "heatmapgl"
           }
          ],
          "histogram": [
           {
            "marker": {
             "pattern": {
              "fillmode": "overlay",
              "size": 10,
              "solidity": 0.2
             }
            },
            "type": "histogram"
           }
          ],
          "histogram2d": [
           {
            "colorbar": {
             "outlinewidth": 0,
             "ticks": ""
            },
            "colorscale": [
             [
              0,
              "#0d0887"
             ],
             [
              0.1111111111111111,
              "#46039f"
             ],
             [
              0.2222222222222222,
              "#7201a8"
             ],
             [
              0.3333333333333333,
              "#9c179e"
             ],
             [
              0.4444444444444444,
              "#bd3786"
             ],
             [
              0.5555555555555556,
              "#d8576b"
             ],
             [
              0.6666666666666666,
              "#ed7953"
             ],
             [
              0.7777777777777778,
              "#fb9f3a"
             ],
             [
              0.8888888888888888,
              "#fdca26"
             ],
             [
              1,
              "#f0f921"
             ]
            ],
            "type": "histogram2d"
           }
          ],
          "histogram2dcontour": [
           {
            "colorbar": {
             "outlinewidth": 0,
             "ticks": ""
            },
            "colorscale": [
             [
              0,
              "#0d0887"
             ],
             [
              0.1111111111111111,
              "#46039f"
             ],
             [
              0.2222222222222222,
              "#7201a8"
             ],
             [
              0.3333333333333333,
              "#9c179e"
             ],
             [
              0.4444444444444444,
              "#bd3786"
             ],
             [
              0.5555555555555556,
              "#d8576b"
             ],
             [
              0.6666666666666666,
              "#ed7953"
             ],
             [
              0.7777777777777778,
              "#fb9f3a"
             ],
             [
              0.8888888888888888,
              "#fdca26"
             ],
             [
              1,
              "#f0f921"
             ]
            ],
            "type": "histogram2dcontour"
           }
          ],
          "mesh3d": [
           {
            "colorbar": {
             "outlinewidth": 0,
             "ticks": ""
            },
            "type": "mesh3d"
           }
          ],
          "parcoords": [
           {
            "line": {
             "colorbar": {
              "outlinewidth": 0,
              "ticks": ""
             }
            },
            "type": "parcoords"
           }
          ],
          "pie": [
           {
            "automargin": true,
            "type": "pie"
           }
          ],
          "scatter": [
           {
            "fillpattern": {
             "fillmode": "overlay",
             "size": 10,
             "solidity": 0.2
            },
            "type": "scatter"
           }
          ],
          "scatter3d": [
           {
            "line": {
             "colorbar": {
              "outlinewidth": 0,
              "ticks": ""
             }
            },
            "marker": {
             "colorbar": {
              "outlinewidth": 0,
              "ticks": ""
             }
            },
            "type": "scatter3d"
           }
          ],
          "scattercarpet": [
           {
            "marker": {
             "colorbar": {
              "outlinewidth": 0,
              "ticks": ""
             }
            },
            "type": "scattercarpet"
           }
          ],
          "scattergeo": [
           {
            "marker": {
             "colorbar": {
              "outlinewidth": 0,
              "ticks": ""
             }
            },
            "type": "scattergeo"
           }
          ],
          "scattergl": [
           {
            "marker": {
             "colorbar": {
              "outlinewidth": 0,
              "ticks": ""
             }
            },
            "type": "scattergl"
           }
          ],
          "scattermapbox": [
           {
            "marker": {
             "colorbar": {
              "outlinewidth": 0,
              "ticks": ""
             }
            },
            "type": "scattermapbox"
           }
          ],
          "scatterpolar": [
           {
            "marker": {
             "colorbar": {
              "outlinewidth": 0,
              "ticks": ""
             }
            },
            "type": "scatterpolar"
           }
          ],
          "scatterpolargl": [
           {
            "marker": {
             "colorbar": {
              "outlinewidth": 0,
              "ticks": ""
             }
            },
            "type": "scatterpolargl"
           }
          ],
          "scatterternary": [
           {
            "marker": {
             "colorbar": {
              "outlinewidth": 0,
              "ticks": ""
             }
            },
            "type": "scatterternary"
           }
          ],
          "surface": [
           {
            "colorbar": {
             "outlinewidth": 0,
             "ticks": ""
            },
            "colorscale": [
             [
              0,
              "#0d0887"
             ],
             [
              0.1111111111111111,
              "#46039f"
             ],
             [
              0.2222222222222222,
              "#7201a8"
             ],
             [
              0.3333333333333333,
              "#9c179e"
             ],
             [
              0.4444444444444444,
              "#bd3786"
             ],
             [
              0.5555555555555556,
              "#d8576b"
             ],
             [
              0.6666666666666666,
              "#ed7953"
             ],
             [
              0.7777777777777778,
              "#fb9f3a"
             ],
             [
              0.8888888888888888,
              "#fdca26"
             ],
             [
              1,
              "#f0f921"
             ]
            ],
            "type": "surface"
           }
          ],
          "table": [
           {
            "cells": {
             "fill": {
              "color": "#EBF0F8"
             },
             "line": {
              "color": "white"
             }
            },
            "header": {
             "fill": {
              "color": "#C8D4E3"
             },
             "line": {
              "color": "white"
             }
            },
            "type": "table"
           }
          ]
         },
         "layout": {
          "annotationdefaults": {
           "arrowcolor": "#2a3f5f",
           "arrowhead": 0,
           "arrowwidth": 1
          },
          "autotypenumbers": "strict",
          "coloraxis": {
           "colorbar": {
            "outlinewidth": 0,
            "ticks": ""
           }
          },
          "colorscale": {
           "diverging": [
            [
             0,
             "#8e0152"
            ],
            [
             0.1,
             "#c51b7d"
            ],
            [
             0.2,
             "#de77ae"
            ],
            [
             0.3,
             "#f1b6da"
            ],
            [
             0.4,
             "#fde0ef"
            ],
            [
             0.5,
             "#f7f7f7"
            ],
            [
             0.6,
             "#e6f5d0"
            ],
            [
             0.7,
             "#b8e186"
            ],
            [
             0.8,
             "#7fbc41"
            ],
            [
             0.9,
             "#4d9221"
            ],
            [
             1,
             "#276419"
            ]
           ],
           "sequential": [
            [
             0,
             "#0d0887"
            ],
            [
             0.1111111111111111,
             "#46039f"
            ],
            [
             0.2222222222222222,
             "#7201a8"
            ],
            [
             0.3333333333333333,
             "#9c179e"
            ],
            [
             0.4444444444444444,
             "#bd3786"
            ],
            [
             0.5555555555555556,
             "#d8576b"
            ],
            [
             0.6666666666666666,
             "#ed7953"
            ],
            [
             0.7777777777777778,
             "#fb9f3a"
            ],
            [
             0.8888888888888888,
             "#fdca26"
            ],
            [
             1,
             "#f0f921"
            ]
           ],
           "sequentialminus": [
            [
             0,
             "#0d0887"
            ],
            [
             0.1111111111111111,
             "#46039f"
            ],
            [
             0.2222222222222222,
             "#7201a8"
            ],
            [
             0.3333333333333333,
             "#9c179e"
            ],
            [
             0.4444444444444444,
             "#bd3786"
            ],
            [
             0.5555555555555556,
             "#d8576b"
            ],
            [
             0.6666666666666666,
             "#ed7953"
            ],
            [
             0.7777777777777778,
             "#fb9f3a"
            ],
            [
             0.8888888888888888,
             "#fdca26"
            ],
            [
             1,
             "#f0f921"
            ]
           ]
          },
          "colorway": [
           "#636efa",
           "#EF553B",
           "#00cc96",
           "#ab63fa",
           "#FFA15A",
           "#19d3f3",
           "#FF6692",
           "#B6E880",
           "#FF97FF",
           "#FECB52"
          ],
          "font": {
           "color": "#2a3f5f"
          },
          "geo": {
           "bgcolor": "white",
           "lakecolor": "white",
           "landcolor": "#E5ECF6",
           "showlakes": true,
           "showland": true,
           "subunitcolor": "white"
          },
          "hoverlabel": {
           "align": "left"
          },
          "hovermode": "closest",
          "mapbox": {
           "style": "light"
          },
          "paper_bgcolor": "white",
          "plot_bgcolor": "#E5ECF6",
          "polar": {
           "angularaxis": {
            "gridcolor": "white",
            "linecolor": "white",
            "ticks": ""
           },
           "bgcolor": "#E5ECF6",
           "radialaxis": {
            "gridcolor": "white",
            "linecolor": "white",
            "ticks": ""
           }
          },
          "scene": {
           "xaxis": {
            "backgroundcolor": "#E5ECF6",
            "gridcolor": "white",
            "gridwidth": 2,
            "linecolor": "white",
            "showbackground": true,
            "ticks": "",
            "zerolinecolor": "white"
           },
           "yaxis": {
            "backgroundcolor": "#E5ECF6",
            "gridcolor": "white",
            "gridwidth": 2,
            "linecolor": "white",
            "showbackground": true,
            "ticks": "",
            "zerolinecolor": "white"
           },
           "zaxis": {
            "backgroundcolor": "#E5ECF6",
            "gridcolor": "white",
            "gridwidth": 2,
            "linecolor": "white",
            "showbackground": true,
            "ticks": "",
            "zerolinecolor": "white"
           }
          },
          "shapedefaults": {
           "line": {
            "color": "#2a3f5f"
           }
          },
          "ternary": {
           "aaxis": {
            "gridcolor": "white",
            "linecolor": "white",
            "ticks": ""
           },
           "baxis": {
            "gridcolor": "white",
            "linecolor": "white",
            "ticks": ""
           },
           "bgcolor": "#E5ECF6",
           "caxis": {
            "gridcolor": "white",
            "linecolor": "white",
            "ticks": ""
           }
          },
          "title": {
           "x": 0.05
          },
          "xaxis": {
           "automargin": true,
           "gridcolor": "white",
           "linecolor": "white",
           "ticks": "",
           "title": {
            "standoff": 15
           },
           "zerolinecolor": "white",
           "zerolinewidth": 2
          },
          "yaxis": {
           "automargin": true,
           "gridcolor": "white",
           "linecolor": "white",
           "ticks": "",
           "title": {
            "standoff": 15
           },
           "zerolinecolor": "white",
           "zerolinewidth": 2
          }
         }
        },
        "title": {
         "text": "Casos de violación por Estado y año (2001-2021)"
        },
        "xaxis": {
         "anchor": "y",
         "domain": [
          0,
          1
         ],
         "title": {
          "text": "Año"
         }
        },
        "yaxis": {
         "anchor": "x",
         "autorange": "reversed",
         "domain": [
          0,
          1
         ],
         "title": {
          "text": "Estado"
         }
        }
       }
      }
     },
     "metadata": {},
     "output_type": "display_data"
    }
   ],
   "source": [
    "# Instalamos otra librería para visualizaciones.\n",
    "\n",
    "# import plotly.express as px\n",
    "\n",
    "# Crear un heatmap (mapa de calor) usando Plotly.\n",
    "\n",
    "heatmap_data = crimes_df_cleaned.pivot_table(\n",
    "    values='Casos de violación', \n",
    "    index='Estado', \n",
    "    columns='Año', \n",
    "    aggfunc='sum', \n",
    "    fill_value=0\n",
    ")\n",
    "\n",
    "# Crear el heatmap (mapa de calor) interactivo con título.\n",
    "\n",
    "fig = px.imshow(\n",
    "    heatmap_data,\n",
    "    labels=dict(x=\"Año\", y=\"Estado\", color=\"Casos de violación\"),\n",
    "    x=heatmap_data.columns,\n",
    "    y=heatmap_data.index,\n",
    "    color_continuous_scale=\"YlGnBu\",\n",
    "    aspect=\"auto\",\n",
    "    title=\"Casos de violación por Estado y año (2001-2021)\" \n",
    ")\n",
    "\n",
    "# Mostrar el heatmap (mapa de calor).\n",
    "\n",
    "fig.show()\n"
   ]
  },
  {
   "cell_type": "code",
   "execution_count": 11,
   "metadata": {},
   "outputs": [
    {
     "data": {
      "image/png": "[encoded data removed]",
      "text/plain": [
       "<Figure size 1200x600 with 1 Axes>"
      ]
     },
     "metadata": {},
     "output_type": "display_data"
    }
   ],
   "source": [
    "# import matplotlib.pyplot as plt\n",
    "# import seaborn as sns\n",
    "\n",
    "# Agrupar por año y sumar todos los tipos de crímenes.\n",
    "\n",
    "crime_trend = crimes_df_cleaned.groupby('Año').sum()\n",
    "\n",
    "# Tendencia de crímenes contra mujeres (2001-2021).\n",
    "\n",
    "plt.figure(figsize=(12, 6))\n",
    "ax = sns.lineplot(data=crime_trend)\n",
    "\n",
    "# Ajustar el título y etiquetas\n",
    "plt.title('Tendencia de crímenes contra mujeres (2001-2021)')\n",
    "plt.xlabel('Año')\n",
    "plt.ylabel('Número de crímenes')\n",
    "\n",
    "# Establecer los valores del eje X como enteros.\n",
    "\n",
    "years = crime_trend.index\n",
    "plt.xticks(ticks=range(min(years), max(years) + 1), rotation=45)\n",
    "\n",
    "# Mostrar la leyenda.\n",
    "\n",
    "plt.legend(title='Tipo de crimen', bbox_to_anchor=(1.05, 1), loc='upper left')\n",
    "\n",
    "# Añadir anotaciones a cada punto en el gráfico.\n",
    "\n",
    "for line in ax.get_lines():\n",
    "    x_data = line.get_xdata()\n",
    "    y_data = line.get_ydata()\n",
    "    for x, y in zip(x_data, y_data):\n",
    "        ax.text(x, y, f'{int(y)}', color=line.get_color(), fontsize=9, ha='center', va='bottom')\n",
    "\n",
    "# Mostrar el gráfico.\n",
    "\n",
    "plt.show()\n"
   ]
  },
  {
   "cell_type": "code",
   "execution_count": 12,
   "metadata": {},
   "outputs": [
    {
     "data": {
      "text/plain": [
       "<Figure size 1200x600 with 0 Axes>"
      ]
     },
     "metadata": {},
     "output_type": "display_data"
    },
    {
     "data": {
      "image/png": "[encoded data removed]",
      "text/plain": [
       "<Figure size 640x480 with 1 Axes>"
      ]
     },
     "metadata": {},
     "output_type": "display_data"
    }
   ],
   "source": [
    "#crimes_df_cleaned = crimes_df.copy()  # Realiza más limpieza si es necesario\n",
    "\n",
    "# Eliminar la columna 'Año' para la visualización.\n",
    "\n",
    "crimes_df_cleaned_eda = crimes_df_cleaned.drop(columns=['Año'])\n",
    "\n",
    "# Total de crímenes por Estado.\n",
    "\n",
    "state_crime = crimes_df_cleaned_eda.groupby('Estado').sum().sort_values(by='Casos de violación', ascending=False)\n",
    "\n",
    "# Top 10 Estados con el mayor número de crímenes o delitos.\n",
    "\n",
    "top_states = state_crime.head(10)\n",
    "\n",
    "# Graficar.\n",
    "\n",
    "plt.figure(figsize=(12, 6))\n",
    "top_states.plot(kind='bar', stacked=True)\n",
    "plt.title('Top 10 Estados con el mayor número de crímenes contra mujeres (2001-2021)')\n",
    "plt.xlabel('Estado')\n",
    "plt.ylabel('Número de crímenes o delitos')\n",
    "plt.xticks(rotation=45)\n",
    "plt.legend(title='Tipo de crimen', bbox_to_anchor=(1.05, 1), loc='upper left')\n",
    "plt.show()"
   ]
  },
  {
   "cell_type": "code",
   "execution_count": 13,
   "metadata": {},
   "outputs": [
    {
     "data": {
      "application/vnd.plotly.v1+json": {
       "config": {
        "plotlyServerURL": "https://plot.ly"
       },
       "data": [
        {
         "alignmentgroup": "True",
         "customdata": [
          [
           "Casos de violación"
          ],
          [
           "Casos de violación"
          ],
          [
           "Casos de violación"
          ],
          [
           "Casos de violación"
          ],
          [
           "Casos de violación"
          ],
          [
           "Casos de violación"
          ],
          [
           "Casos de violación"
          ],
          [
           "Casos de violación"
          ],
          [
           "Casos de violación"
          ],
          [
           "Casos de violación"
          ],
          [
           "Secuestros y asaltos"
          ],
          [
           "Secuestros y asaltos"
          ],
          [
           "Secuestros y asaltos"
          ],
          [
           "Secuestros y asaltos"
          ],
          [
           "Secuestros y asaltos"
          ],
          [
           "Secuestros y asaltos"
          ],
          [
           "Secuestros y asaltos"
          ],
          [
           "Secuestros y asaltos"
          ],
          [
           "Secuestros y asaltos"
          ],
          [
           "Secuestros y asaltos"
          ],
          [
           "Muertes por la dote"
          ],
          [
           "Muertes por la dote"
          ],
          [
           "Muertes por la dote"
          ],
          [
           "Muertes por la dote"
          ],
          [
           "Muertes por la dote"
          ],
          [
           "Muertes por la dote"
          ],
          [
           "Muertes por la dote"
          ],
          [
           "Muertes por la dote"
          ],
          [
           "Muertes por la dote"
          ],
          [
           "Muertes por la dote"
          ],
          [
           "Asalto a mujeres"
          ],
          [
           "Asalto a mujeres"
          ],
          [
           "Asalto a mujeres"
          ],
          [
           "Asalto a mujeres"
          ],
          [
           "Asalto a mujeres"
          ],
          [
           "Asalto a mujeres"
          ],
          [
           "Asalto a mujeres"
          ],
          [
           "Asalto a mujeres"
          ],
          [
           "Asalto a mujeres"
          ],
          [
           "Asalto a mujeres"
          ],
          [
           "Asalto a menores (niñas y adolescentes)"
          ],
          [
           "Asalto a menores (niñas y adolescentes)"
          ],
          [
           "Asalto a menores (niñas y adolescentes)"
          ],
          [
           "Asalto a menores (niñas y adolescentes)"
          ],
          [
           "Asalto a menores (niñas y adolescentes)"
          ],
          [
           "Asalto a menores (niñas y adolescentes)"
          ],
          [
           "Asalto a menores (niñas y adolescentes)"
          ],
          [
           "Asalto a menores (niñas y adolescentes)"
          ],
          [
           "Asalto a menores (niñas y adolescentes)"
          ],
          [
           "Asalto a menores (niñas y adolescentes)"
          ],
          [
           "Violencia doméstica"
          ],
          [
           "Violencia doméstica"
          ],
          [
           "Violencia doméstica"
          ],
          [
           "Violencia doméstica"
          ],
          [
           "Violencia doméstica"
          ],
          [
           "Violencia doméstica"
          ],
          [
           "Violencia doméstica"
          ],
          [
           "Violencia doméstica"
          ],
          [
           "Violencia doméstica"
          ],
          [
           "Violencia doméstica"
          ],
          [
           "Brujería"
          ],
          [
           "Brujería"
          ],
          [
           "Brujería"
          ],
          [
           "Brujería"
          ],
          [
           "Brujería"
          ],
          [
           "Brujería"
          ],
          [
           "Brujería"
          ],
          [
           "Brujería"
          ],
          [
           "Brujería"
          ],
          [
           "Brujería"
          ]
         ],
         "hovertemplate": "<b>%{x}</b><br>%{y:.0f}<br>%{customdata}<extra></extra>",
         "legendgroup": "Casos de violación",
         "marker": {
          "color": "#636efa",
          "pattern": {
           "shape": ""
          }
         },
         "name": "Casos de violación",
         "offsetgroup": "Casos de violación",
         "orientation": "v",
         "showlegend": true,
         "text": [
          3467.0476190476193,
          2175.904761904762,
          2085.6666666666665,
          1869.142857142857,
          1532.857142857143,
          1404.095238095238,
          1198.952380952381,
          1187.7272727272727,
          1181.4285714285713,
          1151.6190476190477
         ],
         "textposition": "none",
         "texttemplate": "%{text:.0f}",
         "type": "bar",
         "x": [
          "MADHYA PRADESH",
          "UTTAR PRADESH",
          "RAJASTHAN",
          "MAHARASHTRA",
          "ASSAM",
          "WEST BENGAL",
          "CHHATTISGARH",
          "DELHI UT",
          "ODISHA",
          "KERALA"
         ],
         "xaxis": "x",
         "y": [
          3467.0476190476193,
          2175.904761904762,
          2085.6666666666665,
          1869.142857142857,
          1532.857142857143,
          1404.095238095238,
          1198.952380952381,
          1187.7272727272727,
          1181.4285714285713,
          1151.6190476190477
         ],
         "yaxis": "y"
        },
        {
         "alignmentgroup": "True",
         "customdata": [
          [
           "Casos de violación"
          ],
          [
           "Casos de violación"
          ],
          [
           "Casos de violación"
          ],
          [
           "Casos de violación"
          ],
          [
           "Casos de violación"
          ],
          [
           "Casos de violación"
          ],
          [
           "Casos de violación"
          ],
          [
           "Casos de violación"
          ],
          [
           "Casos de violación"
          ],
          [
           "Casos de violación"
          ],
          [
           "Secuestros y asaltos"
          ],
          [
           "Secuestros y asaltos"
          ],
          [
           "Secuestros y asaltos"
          ],
          [
           "Secuestros y asaltos"
          ],
          [
           "Secuestros y asaltos"
          ],
          [
           "Secuestros y asaltos"
          ],
          [
           "Secuestros y asaltos"
          ],
          [
           "Secuestros y asaltos"
          ],
          [
           "Secuestros y asaltos"
          ],
          [
           "Secuestros y asaltos"
          ],
          [
           "Muertes por la dote"
          ],
          [
           "Muertes por la dote"
          ],
          [
           "Muertes por la dote"
          ],
          [
           "Muertes por la dote"
          ],
          [
           "Muertes por la dote"
          ],
          [
           "Muertes por la dote"
          ],
          [
           "Muertes por la dote"
          ],
          [
           "Muertes por la dote"
          ],
          [
           "Muertes por la dote"
          ],
          [
           "Muertes por la dote"
          ],
          [
           "Asalto a mujeres"
          ],
          [
           "Asalto a mujeres"
          ],
          [
           "Asalto a mujeres"
          ],
          [
           "Asalto a mujeres"
          ],
          [
           "Asalto a mujeres"
          ],
          [
           "Asalto a mujeres"
          ],
          [
           "Asalto a mujeres"
          ],
          [
           "Asalto a mujeres"
          ],
          [
           "Asalto a mujeres"
          ],
          [
           "Asalto a mujeres"
          ],
          [
           "Asalto a menores (niñas y adolescentes)"
          ],
          [
           "Asalto a menores (niñas y adolescentes)"
          ],
          [
           "Asalto a menores (niñas y adolescentes)"
          ],
          [
           "Asalto a menores (niñas y adolescentes)"
          ],
          [
           "Asalto a menores (niñas y adolescentes)"
          ],
          [
           "Asalto a menores (niñas y adolescentes)"
          ],
          [
           "Asalto a menores (niñas y adolescentes)"
          ],
          [
           "Asalto a menores (niñas y adolescentes)"
          ],
          [
           "Asalto a menores (niñas y adolescentes)"
          ],
          [
           "Asalto a menores (niñas y adolescentes)"
          ],
          [
           "Violencia doméstica"
          ],
          [
           "Violencia doméstica"
          ],
          [
           "Violencia doméstica"
          ],
          [
           "Violencia doméstica"
          ],
          [
           "Violencia doméstica"
          ],
          [
           "Violencia doméstica"
          ],
          [
           "Violencia doméstica"
          ],
          [
           "Violencia doméstica"
          ],
          [
           "Violencia doméstica"
          ],
          [
           "Violencia doméstica"
          ],
          [
           "Brujería"
          ],
          [
           "Brujería"
          ],
          [
           "Brujería"
          ],
          [
           "Brujería"
          ],
          [
           "Brujería"
          ],
          [
           "Brujería"
          ],
          [
           "Brujería"
          ],
          [
           "Brujería"
          ],
          [
           "Brujería"
          ],
          [
           "Brujería"
          ]
         ],
         "hovertemplate": "<b>%{x}</b><br>%{y:.0f}<br>%{customdata}<extra></extra>",
         "legendgroup": "Secuestros y asaltos",
         "marker": {
          "color": "#EF553B",
          "pattern": {
           "shape": ""
          }
         },
         "name": "Secuestros y asaltos",
         "offsetgroup": "Secuestros y asaltos",
         "orientation": "v",
         "showlegend": true,
         "text": [
          2737.3809523809523,
          6374.0952380952385,
          2634.285714285714,
          2215.3333333333335,
          3402.9523809523807,
          2463.904761904762,
          787.4285714285714,
          2841,
          1421.2857142857142,
          669.3333333333334
         ],
         "textposition": "none",
         "texttemplate": "%{text:.0f}",
         "type": "bar",
         "x": [
          "MADHYA PRADESH",
          "UTTAR PRADESH",
          "RAJASTHAN",
          "MAHARASHTRA",
          "ASSAM",
          "WEST BENGAL",
          "CHHATTISGARH",
          "DELHI UT",
          "ODISHA",
          "KERALA"
         ],
         "xaxis": "x",
         "y": [
          2737.3809523809523,
          6374.0952380952385,
          2634.285714285714,
          2215.3333333333335,
          3402.9523809523807,
          2463.904761904762,
          787.4285714285714,
          2841,
          1421.2857142857142,
          669.3333333333334
         ],
         "yaxis": "y"
        },
        {
         "alignmentgroup": "True",
         "customdata": [
          [
           "Casos de violación"
          ],
          [
           "Casos de violación"
          ],
          [
           "Casos de violación"
          ],
          [
           "Casos de violación"
          ],
          [
           "Casos de violación"
          ],
          [
           "Casos de violación"
          ],
          [
           "Casos de violación"
          ],
          [
           "Casos de violación"
          ],
          [
           "Casos de violación"
          ],
          [
           "Casos de violación"
          ],
          [
           "Secuestros y asaltos"
          ],
          [
           "Secuestros y asaltos"
          ],
          [
           "Secuestros y asaltos"
          ],
          [
           "Secuestros y asaltos"
          ],
          [
           "Secuestros y asaltos"
          ],
          [
           "Secuestros y asaltos"
          ],
          [
           "Secuestros y asaltos"
          ],
          [
           "Secuestros y asaltos"
          ],
          [
           "Secuestros y asaltos"
          ],
          [
           "Secuestros y asaltos"
          ],
          [
           "Muertes por la dote"
          ],
          [
           "Muertes por la dote"
          ],
          [
           "Muertes por la dote"
          ],
          [
           "Muertes por la dote"
          ],
          [
           "Muertes por la dote"
          ],
          [
           "Muertes por la dote"
          ],
          [
           "Muertes por la dote"
          ],
          [
           "Muertes por la dote"
          ],
          [
           "Muertes por la dote"
          ],
          [
           "Muertes por la dote"
          ],
          [
           "Asalto a mujeres"
          ],
          [
           "Asalto a mujeres"
          ],
          [
           "Asalto a mujeres"
          ],
          [
           "Asalto a mujeres"
          ],
          [
           "Asalto a mujeres"
          ],
          [
           "Asalto a mujeres"
          ],
          [
           "Asalto a mujeres"
          ],
          [
           "Asalto a mujeres"
          ],
          [
           "Asalto a mujeres"
          ],
          [
           "Asalto a mujeres"
          ],
          [
           "Asalto a menores (niñas y adolescentes)"
          ],
          [
           "Asalto a menores (niñas y adolescentes)"
          ],
          [
           "Asalto a menores (niñas y adolescentes)"
          ],
          [
           "Asalto a menores (niñas y adolescentes)"
          ],
          [
           "Asalto a menores (niñas y adolescentes)"
          ],
          [
           "Asalto a menores (niñas y adolescentes)"
          ],
          [
           "Asalto a menores (niñas y adolescentes)"
          ],
          [
           "Asalto a menores (niñas y adolescentes)"
          ],
          [
           "Asalto a menores (niñas y adolescentes)"
          ],
          [
           "Asalto a menores (niñas y adolescentes)"
          ],
          [
           "Violencia doméstica"
          ],
          [
           "Violencia doméstica"
          ],
          [
           "Violencia doméstica"
          ],
          [
           "Violencia doméstica"
          ],
          [
           "Violencia doméstica"
          ],
          [
           "Violencia doméstica"
          ],
          [
           "Violencia doméstica"
          ],
          [
           "Violencia doméstica"
          ],
          [
           "Violencia doméstica"
          ],
          [
           "Violencia doméstica"
          ],
          [
           "Brujería"
          ],
          [
           "Brujería"
          ],
          [
           "Brujería"
          ],
          [
           "Brujería"
          ],
          [
           "Brujería"
          ],
          [
           "Brujería"
          ],
          [
           "Brujería"
          ],
          [
           "Brujería"
          ],
          [
           "Brujería"
          ],
          [
           "Brujería"
          ]
         ],
         "hovertemplate": "<b>%{x}</b><br>%{y:.0f}<br>%{customdata}<extra></extra>",
         "legendgroup": "Muertes por la dote",
         "marker": {
          "color": "#00cc96",
          "pattern": {
           "shape": ""
          }
         },
         "name": "Muertes por la dote",
         "offsetgroup": "Muertes por la dote",
         "orientation": "v",
         "showlegend": true,
         "text": [
          634.0952380952381,
          1934.047619047619,
          369.95238095238096,
          274.0952380952381,
          131.28571428571428,
          384.5238095238095,
          85.57142857142857,
          100.54545454545455,
          358.14285714285717,
          72.61904761904762
         ],
         "textposition": "none",
         "texttemplate": "%{text:.0f}",
         "type": "bar",
         "x": [
          "MADHYA PRADESH",
          "UTTAR PRADESH",
          "RAJASTHAN",
          "MAHARASHTRA",
          "ASSAM",
          "WEST BENGAL",
          "CHHATTISGARH",
          "DELHI UT",
          "ODISHA",
          "KERALA"
         ],
         "xaxis": "x",
         "y": [
          634.0952380952381,
          1934.047619047619,
          369.95238095238096,
          274.0952380952381,
          131.28571428571428,
          384.5238095238095,
          85.57142857142857,
          100.54545454545455,
          358.14285714285717,
          72.61904761904762
         ],
         "yaxis": "y"
        },
        {
         "alignmentgroup": "True",
         "customdata": [
          [
           "Casos de violación"
          ],
          [
           "Casos de violación"
          ],
          [
           "Casos de violación"
          ],
          [
           "Casos de violación"
          ],
          [
           "Casos de violación"
          ],
          [
           "Casos de violación"
          ],
          [
           "Casos de violación"
          ],
          [
           "Casos de violación"
          ],
          [
           "Casos de violación"
          ],
          [
           "Casos de violación"
          ],
          [
           "Secuestros y asaltos"
          ],
          [
           "Secuestros y asaltos"
          ],
          [
           "Secuestros y asaltos"
          ],
          [
           "Secuestros y asaltos"
          ],
          [
           "Secuestros y asaltos"
          ],
          [
           "Secuestros y asaltos"
          ],
          [
           "Secuestros y asaltos"
          ],
          [
           "Secuestros y asaltos"
          ],
          [
           "Secuestros y asaltos"
          ],
          [
           "Secuestros y asaltos"
          ],
          [
           "Muertes por la dote"
          ],
          [
           "Muertes por la dote"
          ],
          [
           "Muertes por la dote"
          ],
          [
           "Muertes por la dote"
          ],
          [
           "Muertes por la dote"
          ],
          [
           "Muertes por la dote"
          ],
          [
           "Muertes por la dote"
          ],
          [
           "Muertes por la dote"
          ],
          [
           "Muertes por la dote"
          ],
          [
           "Muertes por la dote"
          ],
          [
           "Asalto a mujeres"
          ],
          [
           "Asalto a mujeres"
          ],
          [
           "Asalto a mujeres"
          ],
          [
           "Asalto a mujeres"
          ],
          [
           "Asalto a mujeres"
          ],
          [
           "Asalto a mujeres"
          ],
          [
           "Asalto a mujeres"
          ],
          [
           "Asalto a mujeres"
          ],
          [
           "Asalto a mujeres"
          ],
          [
           "Asalto a mujeres"
          ],
          [
           "Asalto a menores (niñas y adolescentes)"
          ],
          [
           "Asalto a menores (niñas y adolescentes)"
          ],
          [
           "Asalto a menores (niñas y adolescentes)"
          ],
          [
           "Asalto a menores (niñas y adolescentes)"
          ],
          [
           "Asalto a menores (niñas y adolescentes)"
          ],
          [
           "Asalto a menores (niñas y adolescentes)"
          ],
          [
           "Asalto a menores (niñas y adolescentes)"
          ],
          [
           "Asalto a menores (niñas y adolescentes)"
          ],
          [
           "Asalto a menores (niñas y adolescentes)"
          ],
          [
           "Asalto a menores (niñas y adolescentes)"
          ],
          [
           "Violencia doméstica"
          ],
          [
           "Violencia doméstica"
          ],
          [
           "Violencia doméstica"
          ],
          [
           "Violencia doméstica"
          ],
          [
           "Violencia doméstica"
          ],
          [
           "Violencia doméstica"
          ],
          [
           "Violencia doméstica"
          ],
          [
           "Violencia doméstica"
          ],
          [
           "Violencia doméstica"
          ],
          [
           "Violencia doméstica"
          ],
          [
           "Brujería"
          ],
          [
           "Brujería"
          ],
          [
           "Brujería"
          ],
          [
           "Brujería"
          ],
          [
           "Brujería"
          ],
          [
           "Brujería"
          ],
          [
           "Brujería"
          ],
          [
           "Brujería"
          ],
          [
           "Brujería"
          ],
          [
           "Brujería"
          ]
         ],
         "hovertemplate": "<b>%{x}</b><br>%{y:.0f}<br>%{customdata}<extra></extra>",
         "legendgroup": "Asalto a mujeres",
         "marker": {
          "color": "#ab63fa",
          "pattern": {
           "shape": ""
          }
         },
         "name": "Asalto a mujeres",
         "offsetgroup": "Asalto a mujeres",
         "orientation": "v",
         "showlegend": true,
         "text": [
          7238.0952380952385,
          4745.238095238095,
          3231.190476190476,
          5119.952380952381,
          2243.5714285714284,
          2429.2380952380954,
          1586.1904761904761,
          2367.181818181818,
          3974.904761904762,
          3289.5714285714284
         ],
         "textposition": "none",
         "texttemplate": "%{text:.0f}",
         "type": "bar",
         "x": [
          "MADHYA PRADESH",
          "UTTAR PRADESH",
          "RAJASTHAN",
          "MAHARASHTRA",
          "ASSAM",
          "WEST BENGAL",
          "CHHATTISGARH",
          "DELHI UT",
          "ODISHA",
          "KERALA"
         ],
         "xaxis": "x",
         "y": [
          7238.0952380952385,
          4745.238095238095,
          3231.190476190476,
          5119.952380952381,
          2243.5714285714284,
          2429.2380952380954,
          1586.1904761904761,
          2367.181818181818,
          3974.904761904762,
          3289.5714285714284
         ],
         "yaxis": "y"
        },
        {
         "alignmentgroup": "True",
         "customdata": [
          [
           "Casos de violación"
          ],
          [
           "Casos de violación"
          ],
          [
           "Casos de violación"
          ],
          [
           "Casos de violación"
          ],
          [
           "Casos de violación"
          ],
          [
           "Casos de violación"
          ],
          [
           "Casos de violación"
          ],
          [
           "Casos de violación"
          ],
          [
           "Casos de violación"
          ],
          [
           "Casos de violación"
          ],
          [
           "Secuestros y asaltos"
          ],
          [
           "Secuestros y asaltos"
          ],
          [
           "Secuestros y asaltos"
          ],
          [
           "Secuestros y asaltos"
          ],
          [
           "Secuestros y asaltos"
          ],
          [
           "Secuestros y asaltos"
          ],
          [
           "Secuestros y asaltos"
          ],
          [
           "Secuestros y asaltos"
          ],
          [
           "Secuestros y asaltos"
          ],
          [
           "Secuestros y asaltos"
          ],
          [
           "Muertes por la dote"
          ],
          [
           "Muertes por la dote"
          ],
          [
           "Muertes por la dote"
          ],
          [
           "Muertes por la dote"
          ],
          [
           "Muertes por la dote"
          ],
          [
           "Muertes por la dote"
          ],
          [
           "Muertes por la dote"
          ],
          [
           "Muertes por la dote"
          ],
          [
           "Muertes por la dote"
          ],
          [
           "Muertes por la dote"
          ],
          [
           "Asalto a mujeres"
          ],
          [
           "Asalto a mujeres"
          ],
          [
           "Asalto a mujeres"
          ],
          [
           "Asalto a mujeres"
          ],
          [
           "Asalto a mujeres"
          ],
          [
           "Asalto a mujeres"
          ],
          [
           "Asalto a mujeres"
          ],
          [
           "Asalto a mujeres"
          ],
          [
           "Asalto a mujeres"
          ],
          [
           "Asalto a mujeres"
          ],
          [
           "Asalto a menores (niñas y adolescentes)"
          ],
          [
           "Asalto a menores (niñas y adolescentes)"
          ],
          [
           "Asalto a menores (niñas y adolescentes)"
          ],
          [
           "Asalto a menores (niñas y adolescentes)"
          ],
          [
           "Asalto a menores (niñas y adolescentes)"
          ],
          [
           "Asalto a menores (niñas y adolescentes)"
          ],
          [
           "Asalto a menores (niñas y adolescentes)"
          ],
          [
           "Asalto a menores (niñas y adolescentes)"
          ],
          [
           "Asalto a menores (niñas y adolescentes)"
          ],
          [
           "Asalto a menores (niñas y adolescentes)"
          ],
          [
           "Violencia doméstica"
          ],
          [
           "Violencia doméstica"
          ],
          [
           "Violencia doméstica"
          ],
          [
           "Violencia doméstica"
          ],
          [
           "Violencia doméstica"
          ],
          [
           "Violencia doméstica"
          ],
          [
           "Violencia doméstica"
          ],
          [
           "Violencia doméstica"
          ],
          [
           "Violencia doméstica"
          ],
          [
           "Violencia doméstica"
          ],
          [
           "Brujería"
          ],
          [
           "Brujería"
          ],
          [
           "Brujería"
          ],
          [
           "Brujería"
          ],
          [
           "Brujería"
          ],
          [
           "Brujería"
          ],
          [
           "Brujería"
          ],
          [
           "Brujería"
          ],
          [
           "Brujería"
          ],
          [
           "Brujería"
          ]
         ],
         "hovertemplate": "<b>%{x}</b><br>%{y:.0f}<br>%{customdata}<extra></extra>",
         "legendgroup": "Asalto a menores (niñas y adolescentes)",
         "marker": {
          "color": "#FFA15A",
          "pattern": {
           "shape": ""
          }
         },
         "name": "Asalto a menores (niñas y adolescentes)",
         "offsetgroup": "Asalto a menores (niñas y adolescentes)",
         "orientation": "v",
         "showlegend": true,
         "text": [
          1030.047619047619,
          2215.4285714285716,
          112.61904761904762,
          1461.5714285714287,
          128.47619047619048,
          273.8095238095238,
          208.66666666666666,
          549.6363636363636,
          363.3809523809524,
          422.5238095238095
         ],
         "textposition": "none",
         "texttemplate": "%{text:.0f}",
         "type": "bar",
         "x": [
          "MADHYA PRADESH",
          "UTTAR PRADESH",
          "RAJASTHAN",
          "MAHARASHTRA",
          "ASSAM",
          "WEST BENGAL",
          "CHHATTISGARH",
          "DELHI UT",
          "ODISHA",
          "KERALA"
         ],
         "xaxis": "x",
         "y": [
          1030.047619047619,
          2215.4285714285716,
          112.61904761904762,
          1461.5714285714287,
          128.47619047619048,
          273.8095238095238,
          208.66666666666666,
          549.6363636363636,
          363.3809523809524,
          422.5238095238095
         ],
         "yaxis": "y"
        },
        {
         "alignmentgroup": "True",
         "customdata": [
          [
           "Casos de violación"
          ],
          [
           "Casos de violación"
          ],
          [
           "Casos de violación"
          ],
          [
           "Casos de violación"
          ],
          [
           "Casos de violación"
          ],
          [
           "Casos de violación"
          ],
          [
           "Casos de violación"
          ],
          [
           "Casos de violación"
          ],
          [
           "Casos de violación"
          ],
          [
           "Casos de violación"
          ],
          [
           "Secuestros y asaltos"
          ],
          [
           "Secuestros y asaltos"
          ],
          [
           "Secuestros y asaltos"
          ],
          [
           "Secuestros y asaltos"
          ],
          [
           "Secuestros y asaltos"
          ],
          [
           "Secuestros y asaltos"
          ],
          [
           "Secuestros y asaltos"
          ],
          [
           "Secuestros y asaltos"
          ],
          [
           "Secuestros y asaltos"
          ],
          [
           "Secuestros y asaltos"
          ],
          [
           "Muertes por la dote"
          ],
          [
           "Muertes por la dote"
          ],
          [
           "Muertes por la dote"
          ],
          [
           "Muertes por la dote"
          ],
          [
           "Muertes por la dote"
          ],
          [
           "Muertes por la dote"
          ],
          [
           "Muertes por la dote"
          ],
          [
           "Muertes por la dote"
          ],
          [
           "Muertes por la dote"
          ],
          [
           "Muertes por la dote"
          ],
          [
           "Asalto a mujeres"
          ],
          [
           "Asalto a mujeres"
          ],
          [
           "Asalto a mujeres"
          ],
          [
           "Asalto a mujeres"
          ],
          [
           "Asalto a mujeres"
          ],
          [
           "Asalto a mujeres"
          ],
          [
           "Asalto a mujeres"
          ],
          [
           "Asalto a mujeres"
          ],
          [
           "Asalto a mujeres"
          ],
          [
           "Asalto a mujeres"
          ],
          [
           "Asalto a menores (niñas y adolescentes)"
          ],
          [
           "Asalto a menores (niñas y adolescentes)"
          ],
          [
           "Asalto a menores (niñas y adolescentes)"
          ],
          [
           "Asalto a menores (niñas y adolescentes)"
          ],
          [
           "Asalto a menores (niñas y adolescentes)"
          ],
          [
           "Asalto a menores (niñas y adolescentes)"
          ],
          [
           "Asalto a menores (niñas y adolescentes)"
          ],
          [
           "Asalto a menores (niñas y adolescentes)"
          ],
          [
           "Asalto a menores (niñas y adolescentes)"
          ],
          [
           "Asalto a menores (niñas y adolescentes)"
          ],
          [
           "Violencia doméstica"
          ],
          [
           "Violencia doméstica"
          ],
          [
           "Violencia doméstica"
          ],
          [
           "Violencia doméstica"
          ],
          [
           "Violencia doméstica"
          ],
          [
           "Violencia doméstica"
          ],
          [
           "Violencia doméstica"
          ],
          [
           "Violencia doméstica"
          ],
          [
           "Violencia doméstica"
          ],
          [
           "Violencia doméstica"
          ],
          [
           "Brujería"
          ],
          [
           "Brujería"
          ],
          [
           "Brujería"
          ],
          [
           "Brujería"
          ],
          [
           "Brujería"
          ],
          [
           "Brujería"
          ],
          [
           "Brujería"
          ],
          [
           "Brujería"
          ],
          [
           "Brujería"
          ],
          [
           "Brujería"
          ]
         ],
         "hovertemplate": "<b>%{x}</b><br>%{y:.0f}<br>%{customdata}<extra></extra>",
         "legendgroup": "Violencia doméstica",
         "marker": {
          "color": "#19d3f3",
          "pattern": {
           "shape": ""
          }
         },
         "name": "Violencia doméstica",
         "offsetgroup": "Violencia doméstica",
         "orientation": "v",
         "showlegend": true,
         "text": [
          4548.619047619048,
          7764.857142857143,
          9594.666666666666,
          6350.333333333333,
          6448.333333333333,
          12487.380952380952,
          780.047619047619,
          2465.3636363636365,
          1962.952380952381,
          4013.190476190476
         ],
         "textposition": "none",
         "texttemplate": "%{text:.0f}",
         "type": "bar",
         "x": [
          "MADHYA PRADESH",
          "UTTAR PRADESH",
          "RAJASTHAN",
          "MAHARASHTRA",
          "ASSAM",
          "WEST BENGAL",
          "CHHATTISGARH",
          "DELHI UT",
          "ODISHA",
          "KERALA"
         ],
         "xaxis": "x",
         "y": [
          4548.619047619048,
          7764.857142857143,
          9594.666666666666,
          6350.333333333333,
          6448.333333333333,
          12487.380952380952,
          780.047619047619,
          2465.3636363636365,
          1962.952380952381,
          4013.190476190476
         ],
         "yaxis": "y"
        },
        {
         "alignmentgroup": "True",
         "customdata": [
          [
           "Casos de violación"
          ],
          [
           "Casos de violación"
          ],
          [
           "Casos de violación"
          ],
          [
           "Casos de violación"
          ],
          [
           "Casos de violación"
          ],
          [
           "Casos de violación"
          ],
          [
           "Casos de violación"
          ],
          [
           "Casos de violación"
          ],
          [
           "Casos de violación"
          ],
          [
           "Casos de violación"
          ],
          [
           "Secuestros y asaltos"
          ],
          [
           "Secuestros y asaltos"
          ],
          [
           "Secuestros y asaltos"
          ],
          [
           "Secuestros y asaltos"
          ],
          [
           "Secuestros y asaltos"
          ],
          [
           "Secuestros y asaltos"
          ],
          [
           "Secuestros y asaltos"
          ],
          [
           "Secuestros y asaltos"
          ],
          [
           "Secuestros y asaltos"
          ],
          [
           "Secuestros y asaltos"
          ],
          [
           "Muertes por la dote"
          ],
          [
           "Muertes por la dote"
          ],
          [
           "Muertes por la dote"
          ],
          [
           "Muertes por la dote"
          ],
          [
           "Muertes por la dote"
          ],
          [
           "Muertes por la dote"
          ],
          [
           "Muertes por la dote"
          ],
          [
           "Muertes por la dote"
          ],
          [
           "Muertes por la dote"
          ],
          [
           "Muertes por la dote"
          ],
          [
           "Asalto a mujeres"
          ],
          [
           "Asalto a mujeres"
          ],
          [
           "Asalto a mujeres"
          ],
          [
           "Asalto a mujeres"
          ],
          [
           "Asalto a mujeres"
          ],
          [
           "Asalto a mujeres"
          ],
          [
           "Asalto a mujeres"
          ],
          [
           "Asalto a mujeres"
          ],
          [
           "Asalto a mujeres"
          ],
          [
           "Asalto a mujeres"
          ],
          [
           "Asalto a menores (niñas y adolescentes)"
          ],
          [
           "Asalto a menores (niñas y adolescentes)"
          ],
          [
           "Asalto a menores (niñas y adolescentes)"
          ],
          [
           "Asalto a menores (niñas y adolescentes)"
          ],
          [
           "Asalto a menores (niñas y adolescentes)"
          ],
          [
           "Asalto a menores (niñas y adolescentes)"
          ],
          [
           "Asalto a menores (niñas y adolescentes)"
          ],
          [
           "Asalto a menores (niñas y adolescentes)"
          ],
          [
           "Asalto a menores (niñas y adolescentes)"
          ],
          [
           "Asalto a menores (niñas y adolescentes)"
          ],
          [
           "Violencia doméstica"
          ],
          [
           "Violencia doméstica"
          ],
          [
           "Violencia doméstica"
          ],
          [
           "Violencia doméstica"
          ],
          [
           "Violencia doméstica"
          ],
          [
           "Violencia doméstica"
          ],
          [
           "Violencia doméstica"
          ],
          [
           "Violencia doméstica"
          ],
          [
           "Violencia doméstica"
          ],
          [
           "Violencia doméstica"
          ],
          [
           "Brujería"
          ],
          [
           "Brujería"
          ],
          [
           "Brujería"
          ],
          [
           "Brujería"
          ],
          [
           "Brujería"
          ],
          [
           "Brujería"
          ],
          [
           "Brujería"
          ],
          [
           "Brujería"
          ],
          [
           "Brujería"
          ],
          [
           "Brujería"
          ]
         ],
         "hovertemplate": "<b>%{x}</b><br>%{y:.0f}<br>%{customdata}<extra></extra>",
         "legendgroup": "Brujería",
         "marker": {
          "color": "#FF6692",
          "pattern": {
           "shape": ""
          }
         },
         "name": "Brujería",
         "offsetgroup": "Brujería",
         "orientation": "v",
         "showlegend": true,
         "text": [
          18.857142857142858,
          15.857142857142858,
          31.80952380952381,
          120.61904761904762,
          16.333333333333332,
          44.76190476190476,
          4.904761904761905,
          9.363636363636363,
          12.857142857142858,
          47.142857142857146
         ],
         "textposition": "none",
         "texttemplate": "%{text:.0f}",
         "type": "bar",
         "x": [
          "MADHYA PRADESH",
          "UTTAR PRADESH",
          "RAJASTHAN",
          "MAHARASHTRA",
          "ASSAM",
          "WEST BENGAL",
          "CHHATTISGARH",
          "DELHI UT",
          "ODISHA",
          "KERALA"
         ],
         "xaxis": "x",
         "y": [
          18.857142857142858,
          15.857142857142858,
          31.80952380952381,
          120.61904761904762,
          16.333333333333332,
          44.76190476190476,
          4.904761904761905,
          9.363636363636363,
          12.857142857142858,
          47.142857142857146
         ],
         "yaxis": "y"
        }
       ],
       "layout": {
        "barmode": "group",
        "legend": {
         "title": {
          "text": "Tipo de crimen"
         },
         "tracegroupgap": 0
        },
        "template": {
         "data": {
          "bar": [
           {
            "error_x": {
             "color": "#2a3f5f"
            },
            "error_y": {
             "color": "#2a3f5f"
            },
            "marker": {
             "line": {
              "color": "#E5ECF6",
              "width": 0.5
             },
             "pattern": {
              "fillmode": "overlay",
              "size": 10,
              "solidity": 0.2
             }
            },
            "type": "bar"
           }
          ],
          "barpolar": [
           {
            "marker": {
             "line": {
              "color": "#E5ECF6",
              "width": 0.5
             },
             "pattern": {
              "fillmode": "overlay",
              "size": 10,
              "solidity": 0.2
             }
            },
            "type": "barpolar"
           }
          ],
          "carpet": [
           {
            "aaxis": {
             "endlinecolor": "#2a3f5f",
             "gridcolor": "white",
             "linecolor": "white",
             "minorgridcolor": "white",
             "startlinecolor": "#2a3f5f"
            },
            "baxis": {
             "endlinecolor": "#2a3f5f",
             "gridcolor": "white",
             "linecolor": "white",
             "minorgridcolor": "white",
             "startlinecolor": "#2a3f5f"
            },
            "type": "carpet"
           }
          ],
          "choropleth": [
           {
            "colorbar": {
             "outlinewidth": 0,
             "ticks": ""
            },
            "type": "choropleth"
           }
          ],
          "contour": [
           {
            "colorbar": {
             "outlinewidth": 0,
             "ticks": ""
            },
            "colorscale": [
             [
              0,
              "#0d0887"
             ],
             [
              0.1111111111111111,
              "#46039f"
             ],
             [
              0.2222222222222222,
              "#7201a8"
             ],
             [
              0.3333333333333333,
              "#9c179e"
             ],
             [
              0.4444444444444444,
              "#bd3786"
             ],
             [
              0.5555555555555556,
              "#d8576b"
             ],
             [
              0.6666666666666666,
              "#ed7953"
             ],
             [
              0.7777777777777778,
              "#fb9f3a"
             ],
             [
              0.8888888888888888,
              "#fdca26"
             ],
             [
              1,
              "#f0f921"
             ]
            ],
            "type": "contour"
           }
          ],
          "contourcarpet": [
           {
            "colorbar": {
             "outlinewidth": 0,
             "ticks": ""
            },
            "type": "contourcarpet"
           }
          ],
          "heatmap": [
           {
            "colorbar": {
             "outlinewidth": 0,
             "ticks": ""
            },
            "colorscale": [
             [
              0,
              "#0d0887"
             ],
             [
              0.1111111111111111,
              "#46039f"
             ],
             [
              0.2222222222222222,
              "#7201a8"
             ],
             [
              0.3333333333333333,
              "#9c179e"
             ],
             [
              0.4444444444444444,
              "#bd3786"
             ],
             [
              0.5555555555555556,
              "#d8576b"
             ],
             [
              0.6666666666666666,
              "#ed7953"
             ],
             [
              0.7777777777777778,
              "#fb9f3a"
             ],
             [
              0.8888888888888888,
              "#fdca26"
             ],
             [
              1,
              "#f0f921"
             ]
            ],
            "type": "heatmap"
           }
          ],
          "heatmapgl": [
           {
            "colorbar": {
             "outlinewidth": 0,
             "ticks": ""
            },
            "colorscale": [
             [
              0,
              "#0d0887"
             ],
             [
              0.1111111111111111,
              "#46039f"
             ],
             [
              0.2222222222222222,
              "#7201a8"
             ],
             [
              0.3333333333333333,
              "#9c179e"
             ],
             [
              0.4444444444444444,
              "#bd3786"
             ],
             [
              0.5555555555555556,
              "#d8576b"
             ],
             [
              0.6666666666666666,
              "#ed7953"
             ],
             [
              0.7777777777777778,
              "#fb9f3a"
             ],
             [
              0.8888888888888888,
              "#fdca26"
             ],
             [
              1,
              "#f0f921"
             ]
            ],
            "type": "heatmapgl"
           }
          ],
          "histogram": [
           {
            "marker": {
             "pattern": {
              "fillmode": "overlay",
              "size": 10,
              "solidity": 0.2
             }
            },
            "type": "histogram"
           }
          ],
          "histogram2d": [
           {
            "colorbar": {
             "outlinewidth": 0,
             "ticks": ""
            },
            "colorscale": [
             [
              0,
              "#0d0887"
             ],
             [
              0.1111111111111111,
              "#46039f"
             ],
             [
              0.2222222222222222,
              "#7201a8"
             ],
             [
              0.3333333333333333,
              "#9c179e"
             ],
             [
              0.4444444444444444,
              "#bd3786"
             ],
             [
              0.5555555555555556,
              "#d8576b"
             ],
             [
              0.6666666666666666,
              "#ed7953"
             ],
             [
              0.7777777777777778,
              "#fb9f3a"
             ],
             [
              0.8888888888888888,
              "#fdca26"
             ],
             [
              1,
              "#f0f921"
             ]
            ],
            "type": "histogram2d"
           }
          ],
          "histogram2dcontour": [
           {
            "colorbar": {
             "outlinewidth": 0,
             "ticks": ""
            },
            "colorscale": [
             [
              0,
              "#0d0887"
             ],
             [
              0.1111111111111111,
              "#46039f"
             ],
             [
              0.2222222222222222,
              "#7201a8"
             ],
             [
              0.3333333333333333,
              "#9c179e"
             ],
             [
              0.4444444444444444,
              "#bd3786"
             ],
             [
              0.5555555555555556,
              "#d8576b"
             ],
             [
              0.6666666666666666,
              "#ed7953"
             ],
             [
              0.7777777777777778,
              "#fb9f3a"
             ],
             [
              0.8888888888888888,
              "#fdca26"
             ],
             [
              1,
              "#f0f921"
             ]
            ],
            "type": "histogram2dcontour"
           }
          ],
          "mesh3d": [
           {
            "colorbar": {
             "outlinewidth": 0,
             "ticks": ""
            },
            "type": "mesh3d"
           }
          ],
          "parcoords": [
           {
            "line": {
             "colorbar": {
              "outlinewidth": 0,
              "ticks": ""
             }
            },
            "type": "parcoords"
           }
          ],
          "pie": [
           {
            "automargin": true,
            "type": "pie"
           }
          ],
          "scatter": [
           {
            "fillpattern": {
             "fillmode": "overlay",
             "size": 10,
             "solidity": 0.2
            },
            "type": "scatter"
           }
          ],
          "scatter3d": [
           {
            "line": {
             "colorbar": {
              "outlinewidth": 0,
              "ticks": ""
             }
            },
            "marker": {
             "colorbar": {
              "outlinewidth": 0,
              "ticks": ""
             }
            },
            "type": "scatter3d"
           }
          ],
          "scattercarpet": [
           {
            "marker": {
             "colorbar": {
              "outlinewidth": 0,
              "ticks": ""
             }
            },
            "type": "scattercarpet"
           }
          ],
          "scattergeo": [
           {
            "marker": {
             "colorbar": {
              "outlinewidth": 0,
              "ticks": ""
             }
            },
            "type": "scattergeo"
           }
          ],
          "scattergl": [
           {
            "marker": {
             "colorbar": {
              "outlinewidth": 0,
              "ticks": ""
             }
            },
            "type": "scattergl"
           }
          ],
          "scattermapbox": [
           {
            "marker": {
             "colorbar": {
              "outlinewidth": 0,
              "ticks": ""
             }
            },
            "type": "scattermapbox"
           }
          ],
          "scatterpolar": [
           {
            "marker": {
             "colorbar": {
              "outlinewidth": 0,
              "ticks": ""
             }
            },
            "type": "scatterpolar"
           }
          ],
          "scatterpolargl": [
           {
            "marker": {
             "colorbar": {
              "outlinewidth": 0,
              "ticks": ""
             }
            },
            "type": "scatterpolargl"
           }
          ],
          "scatterternary": [
           {
            "marker": {
             "colorbar": {
              "outlinewidth": 0,
              "ticks": ""
             }
            },
            "type": "scatterternary"
           }
          ],
          "surface": [
           {
            "colorbar": {
             "outlinewidth": 0,
             "ticks": ""
            },
            "colorscale": [
             [
              0,
              "#0d0887"
             ],
             [
              0.1111111111111111,
              "#46039f"
             ],
             [
              0.2222222222222222,
              "#7201a8"
             ],
             [
              0.3333333333333333,
              "#9c179e"
             ],
             [
              0.4444444444444444,
              "#bd3786"
             ],
             [
              0.5555555555555556,
              "#d8576b"
             ],
             [
              0.6666666666666666,
              "#ed7953"
             ],
             [
              0.7777777777777778,
              "#fb9f3a"
             ],
             [
              0.8888888888888888,
              "#fdca26"
             ],
             [
              1,
              "#f0f921"
             ]
            ],
            "type": "surface"
           }
          ],
          "table": [
           {
            "cells": {
             "fill": {
              "color": "#EBF0F8"
             },
             "line": {
              "color": "white"
             }
            },
            "header": {
             "fill": {
              "color": "#C8D4E3"
             },
             "line": {
              "color": "white"
             }
            },
            "type": "table"
           }
          ]
         },
         "layout": {
          "annotationdefaults": {
           "arrowcolor": "#2a3f5f",
           "arrowhead": 0,
           "arrowwidth": 1
          },
          "autotypenumbers": "strict",
          "coloraxis": {
           "colorbar": {
            "outlinewidth": 0,
            "ticks": ""
           }
          },
          "colorscale": {
           "diverging": [
            [
             0,
             "#8e0152"
            ],
            [
             0.1,
             "#c51b7d"
            ],
            [
             0.2,
             "#de77ae"
            ],
            [
             0.3,
             "#f1b6da"
            ],
            [
             0.4,
             "#fde0ef"
            ],
            [
             0.5,
             "#f7f7f7"
            ],
            [
             0.6,
             "#e6f5d0"
            ],
            [
             0.7,
             "#b8e186"
            ],
            [
             0.8,
             "#7fbc41"
            ],
            [
             0.9,
             "#4d9221"
            ],
            [
             1,
             "#276419"
            ]
           ],
           "sequential": [
            [
             0,
             "#0d0887"
            ],
            [
             0.1111111111111111,
             "#46039f"
            ],
            [
             0.2222222222222222,
             "#7201a8"
            ],
            [
             0.3333333333333333,
             "#9c179e"
            ],
            [
             0.4444444444444444,
             "#bd3786"
            ],
            [
             0.5555555555555556,
             "#d8576b"
            ],
            [
             0.6666666666666666,
             "#ed7953"
            ],
            [
             0.7777777777777778,
             "#fb9f3a"
            ],
            [
             0.8888888888888888,
             "#fdca26"
            ],
            [
             1,
             "#f0f921"
            ]
           ],
           "sequentialminus": [
            [
             0,
             "#0d0887"
            ],
            [
             0.1111111111111111,
             "#46039f"
            ],
            [
             0.2222222222222222,
             "#7201a8"
            ],
            [
             0.3333333333333333,
             "#9c179e"
            ],
            [
             0.4444444444444444,
             "#bd3786"
            ],
            [
             0.5555555555555556,
             "#d8576b"
            ],
            [
             0.6666666666666666,
             "#ed7953"
            ],
            [
             0.7777777777777778,
             "#fb9f3a"
            ],
            [
             0.8888888888888888,
             "#fdca26"
            ],
            [
             1,
             "#f0f921"
            ]
           ]
          },
          "colorway": [
           "#636efa",
           "#EF553B",
           "#00cc96",
           "#ab63fa",
           "#FFA15A",
           "#19d3f3",
           "#FF6692",
           "#B6E880",
           "#FF97FF",
           "#FECB52"
          ],
          "font": {
           "color": "#2a3f5f"
          },
          "geo": {
           "bgcolor": "white",
           "lakecolor": "white",
           "landcolor": "#E5ECF6",
           "showlakes": true,
           "showland": true,
           "subunitcolor": "white"
          },
          "hoverlabel": {
           "align": "left"
          },
          "hovermode": "closest",
          "mapbox": {
           "style": "light"
          },
          "paper_bgcolor": "white",
          "plot_bgcolor": "#E5ECF6",
          "polar": {
           "angularaxis": {
            "gridcolor": "white",
            "linecolor": "white",
            "ticks": ""
           },
           "bgcolor": "#E5ECF6",
           "radialaxis": {
            "gridcolor": "white",
            "linecolor": "white",
            "ticks": ""
           }
          },
          "scene": {
           "xaxis": {
            "backgroundcolor": "#E5ECF6",
            "gridcolor": "white",
            "gridwidth": 2,
            "linecolor": "white",
            "showbackground": true,
            "ticks": "",
            "zerolinecolor": "white"
           },
           "yaxis": {
            "backgroundcolor": "#E5ECF6",
            "gridcolor": "white",
            "gridwidth": 2,
            "linecolor": "white",
            "showbackground": true,
            "ticks": "",
            "zerolinecolor": "white"
           },
           "zaxis": {
            "backgroundcolor": "#E5ECF6",
            "gridcolor": "white",
            "gridwidth": 2,
            "linecolor": "white",
            "showbackground": true,
            "ticks": "",
            "zerolinecolor": "white"
           }
          },
          "shapedefaults": {
           "line": {
            "color": "#2a3f5f"
           }
          },
          "ternary": {
           "aaxis": {
            "gridcolor": "white",
            "linecolor": "white",
            "ticks": ""
           },
           "baxis": {
            "gridcolor": "white",
            "linecolor": "white",
            "ticks": ""
           },
           "bgcolor": "#E5ECF6",
           "caxis": {
            "gridcolor": "white",
            "linecolor": "white",
            "ticks": ""
           }
          },
          "title": {
           "x": 0.05
          },
          "xaxis": {
           "automargin": true,
           "gridcolor": "white",
           "linecolor": "white",
           "ticks": "",
           "title": {
            "standoff": 15
           },
           "zerolinecolor": "white",
           "zerolinewidth": 2
          },
          "yaxis": {
           "automargin": true,
           "gridcolor": "white",
           "linecolor": "white",
           "ticks": "",
           "title": {
            "standoff": 15
           },
           "zerolinecolor": "white",
           "zerolinewidth": 2
          }
         }
        },
        "title": {
         "text": "Número promedio de diferentes tipos de crímenes en los 10 Estados con mayor incidencia"
        },
        "xaxis": {
         "anchor": "y",
         "domain": [
          0,
          1
         ],
         "tickangle": -45,
         "title": {
          "text": "Estado"
         }
        },
        "yaxis": {
         "anchor": "x",
         "domain": [
          0,
          1
         ],
         "title": {
          "text": "Número promedio de crímenes o delitos"
         }
        }
       }
      }
     },
     "metadata": {},
     "output_type": "display_data"
    }
   ],
   "source": [
    "# Eliminar la columna 'Año' para preparar el DataFrame\n",
    "crimes_df_cleaned_eda = crimes_df_cleaned.drop(columns=['Año'])\n",
    "\n",
    "# Calcular el promedio de cada tipo de crimen para los 10 estados con el mayor número total de crímenes\n",
    "top_states_mean_crime = crimes_df_cleaned_eda.groupby('Estado').mean().sort_values(by='Casos de violación', ascending=False).head(10).reset_index()\n",
    "\n",
    "# Derretir el DataFrame para tener una columna para el tipo de crimen\n",
    "top_states_mean_crime_melted = top_states_mean_crime.melt(id_vars=['Estado'], var_name='Tipo de crimen', value_name='Número promedio')\n",
    "\n",
    "# Crear el gráfico de barras interactivo\n",
    "fig = px.bar(\n",
    "    top_states_mean_crime_melted,\n",
    "    x='Estado',\n",
    "    y='Número promedio',\n",
    "    color='Tipo de crimen',\n",
    "    title='Número promedio de diferentes tipos de crímenes en los 10 Estados con mayor incidencia',\n",
    "    labels={'Número promedio': 'Número promedio de crímenes o delitos', 'Tipo de crimen': 'Tipo de crimen'},\n",
    "    text='Número promedio',  # Muestra el valor solo cuando se pasa el cursor sobre la barra\n",
    ")\n",
    "\n",
    "# Ajustar el diseño del gráfico\n",
    "fig.update_layout(\n",
    "    xaxis_title='Estado',\n",
    "    yaxis_title='Número promedio de crímenes o delitos',\n",
    "    xaxis_tickangle=-45,\n",
    "    barmode='group'  # Si prefieres un gráfico de barras agrupadas\n",
    ")\n",
    "\n",
    "# Configurar el formato de texto para mostrar enteros y hacer los valores interactivos\n",
    "fig.update_traces(\n",
    "    texttemplate='%{text:.0f}',  # Formato de los textos como enteros\n",
    "    textposition='none',  # No mostrar los textos fijos en el gráfico\n",
    "    hovertemplate='<b>%{x}</b><br>%{y:.0f}<br>%{customdata}<extra></extra>',  # Texto que aparece al pasar el cursor\n",
    "    customdata=top_states_mean_crime_melted[['Tipo de crimen']].astype(str),  # Incluir el tipo de crimen en customdata\n",
    ")\n",
    "\n",
    "# Mostrar el gráfico\n",
    "fig.show()"
   ]
  },
  {
   "cell_type": "code",
   "execution_count": 14,
   "metadata": {},
   "outputs": [
    {
     "name": "stdout",
     "output_type": "stream",
     "text": [
      "Index(['Estado', 'Casos de violación', 'Secuestros y asaltos',\n",
      "       'Muertes por la dote', 'Asalto a mujeres',\n",
      "       'Asalto a menores (niñas y adolescentes)', 'Violencia doméstica',\n",
      "       'Brujería'],\n",
      "      dtype='object')\n"
     ]
    }
   ],
   "source": [
    "print(crime_trend.columns)\n"
   ]
  },
  {
   "cell_type": "code",
   "execution_count": 15,
   "metadata": {},
   "outputs": [],
   "source": [
    "# Selecciona solo las columnas numéricas\n",
    "numeric_columns = crime_trend.select_dtypes(include=['number']).columns\n",
    "\n",
    "# Agrega una columna para el total de crímenes sumando solo las columnas numéricas\n",
    "crime_trend['Total Crímenes'] = crime_trend[numeric_columns].sum(axis=1)\n"
   ]
  },
  {
   "cell_type": "code",
   "execution_count": 16,
   "metadata": {},
   "outputs": [],
   "source": [
    "crime_trend.index = crime_trend.index.astype(int)\n"
   ]
  },
  {
   "cell_type": "code",
   "execution_count": 17,
   "metadata": {},
   "outputs": [
    {
     "data": {
      "application/vnd.plotly.v1+json": {
       "config": {
        "plotlyServerURL": "https://plot.ly"
       },
       "data": [
        {
         "hoverinfo": "x+y",
         "mode": "lines+markers",
         "name": "Total de crímenes o delitos",
         "type": "scatter",
         "x": [
          2001,
          2002,
          2003,
          2004,
          2005,
          2006,
          2007,
          2008,
          2009,
          2010,
          2011,
          2012,
          2013,
          2014,
          2015,
          2016,
          2017,
          2018,
          2019,
          2020,
          2021
         ],
         "y": [
          257074,
          257944,
          256284,
          280144,
          278666,
          299484,
          340392,
          365514,
          381234,
          401068,
          357058,
          470050,
          596888,
          666432,
          647704,
          671538,
          611794,
          628186,
          667434,
          604372,
          696184
         ]
        }
       ],
       "layout": {
        "hovermode": "x unified",
        "template": {
         "data": {
          "bar": [
           {
            "error_x": {
             "color": "#2a3f5f"
            },
            "error_y": {
             "color": "#2a3f5f"
            },
            "marker": {
             "line": {
              "color": "#E5ECF6",
              "width": 0.5
             },
             "pattern": {
              "fillmode": "overlay",
              "size": 10,
              "solidity": 0.2
             }
            },
            "type": "bar"
           }
          ],
          "barpolar": [
           {
            "marker": {
             "line": {
              "color": "#E5ECF6",
              "width": 0.5
             },
             "pattern": {
              "fillmode": "overlay",
              "size": 10,
              "solidity": 0.2
             }
            },
            "type": "barpolar"
           }
          ],
          "carpet": [
           {
            "aaxis": {
             "endlinecolor": "#2a3f5f",
             "gridcolor": "white",
             "linecolor": "white",
             "minorgridcolor": "white",
             "startlinecolor": "#2a3f5f"
            },
            "baxis": {
             "endlinecolor": "#2a3f5f",
             "gridcolor": "white",
             "linecolor": "white",
             "minorgridcolor": "white",
             "startlinecolor": "#2a3f5f"
            },
            "type": "carpet"
           }
          ],
          "choropleth": [
           {
            "colorbar": {
             "outlinewidth": 0,
             "ticks": ""
            },
            "type": "choropleth"
           }
          ],
          "contour": [
           {
            "colorbar": {
             "outlinewidth": 0,
             "ticks": ""
            },
            "colorscale": [
             [
              0,
              "#0d0887"
             ],
             [
              0.1111111111111111,
              "#46039f"
             ],
             [
              0.2222222222222222,
              "#7201a8"
             ],
             [
              0.3333333333333333,
              "#9c179e"
             ],
             [
              0.4444444444444444,
              "#bd3786"
             ],
             [
              0.5555555555555556,
              "#d8576b"
             ],
             [
              0.6666666666666666,
              "#ed7953"
             ],
             [
              0.7777777777777778,
              "#fb9f3a"
             ],
             [
              0.8888888888888888,
              "#fdca26"
             ],
             [
              1,
              "#f0f921"
             ]
            ],
            "type": "contour"
           }
          ],
          "contourcarpet": [
           {
            "colorbar": {
             "outlinewidth": 0,
             "ticks": ""
            },
            "type": "contourcarpet"
           }
          ],
          "heatmap": [
           {
            "colorbar": {
             "outlinewidth": 0,
             "ticks": ""
            },
            "colorscale": [
             [
              0,
              "#0d0887"
             ],
             [
              0.1111111111111111,
              "#46039f"
             ],
             [
              0.2222222222222222,
              "#7201a8"
             ],
             [
              0.3333333333333333,
              "#9c179e"
             ],
             [
              0.4444444444444444,
              "#bd3786"
             ],
             [
              0.5555555555555556,
              "#d8576b"
             ],
             [
              0.6666666666666666,
              "#ed7953"
             ],
             [
              0.7777777777777778,
              "#fb9f3a"
             ],
             [
              0.8888888888888888,
              "#fdca26"
             ],
             [
              1,
              "#f0f921"
             ]
            ],
            "type": "heatmap"
           }
          ],
          "heatmapgl": [
           {
            "colorbar": {
             "outlinewidth": 0,
             "ticks": ""
            },
            "colorscale": [
             [
              0,
              "#0d0887"
             ],
             [
              0.1111111111111111,
              "#46039f"
             ],
             [
              0.2222222222222222,
              "#7201a8"
             ],
             [
              0.3333333333333333,
              "#9c179e"
             ],
             [
              0.4444444444444444,
              "#bd3786"
             ],
             [
              0.5555555555555556,
              "#d8576b"
             ],
             [
              0.6666666666666666,
              "#ed7953"
             ],
             [
              0.7777777777777778,
              "#fb9f3a"
             ],
             [
              0.8888888888888888,
              "#fdca26"
             ],
             [
              1,
              "#f0f921"
             ]
            ],
            "type": "heatmapgl"
           }
          ],
          "histogram": [
           {
            "marker": {
             "pattern": {
              "fillmode": "overlay",
              "size": 10,
              "solidity": 0.2
             }
            },
            "type": "histogram"
           }
          ],
          "histogram2d": [
           {
            "colorbar": {
             "outlinewidth": 0,
             "ticks": ""
            },
            "colorscale": [
             [
              0,
              "#0d0887"
             ],
             [
              0.1111111111111111,
              "#46039f"
             ],
             [
              0.2222222222222222,
              "#7201a8"
             ],
             [
              0.3333333333333333,
              "#9c179e"
             ],
             [
              0.4444444444444444,
              "#bd3786"
             ],
             [
              0.5555555555555556,
              "#d8576b"
             ],
             [
              0.6666666666666666,
              "#ed7953"
             ],
             [
              0.7777777777777778,
              "#fb9f3a"
             ],
             [
              0.8888888888888888,
              "#fdca26"
             ],
             [
              1,
              "#f0f921"
             ]
            ],
            "type": "histogram2d"
           }
          ],
          "histogram2dcontour": [
           {
            "colorbar": {
             "outlinewidth": 0,
             "ticks": ""
            },
            "colorscale": [
             [
              0,
              "#0d0887"
             ],
             [
              0.1111111111111111,
              "#46039f"
             ],
             [
              0.2222222222222222,
              "#7201a8"
             ],
             [
              0.3333333333333333,
              "#9c179e"
             ],
             [
              0.4444444444444444,
              "#bd3786"
             ],
             [
              0.5555555555555556,
              "#d8576b"
             ],
             [
              0.6666666666666666,
              "#ed7953"
             ],
             [
              0.7777777777777778,
              "#fb9f3a"
             ],
             [
              0.8888888888888888,
              "#fdca26"
             ],
             [
              1,
              "#f0f921"
             ]
            ],
            "type": "histogram2dcontour"
           }
          ],
          "mesh3d": [
           {
            "colorbar": {
             "outlinewidth": 0,
             "ticks": ""
            },
            "type": "mesh3d"
           }
          ],
          "parcoords": [
           {
            "line": {
             "colorbar": {
              "outlinewidth": 0,
              "ticks": ""
             }
            },
            "type": "parcoords"
           }
          ],
          "pie": [
           {
            "automargin": true,
            "type": "pie"
           }
          ],
          "scatter": [
           {
            "fillpattern": {
             "fillmode": "overlay",
             "size": 10,
             "solidity": 0.2
            },
            "type": "scatter"
           }
          ],
          "scatter3d": [
           {
            "line": {
             "colorbar": {
              "outlinewidth": 0,
              "ticks": ""
             }
            },
            "marker": {
             "colorbar": {
              "outlinewidth": 0,
              "ticks": ""
             }
            },
            "type": "scatter3d"
           }
          ],
          "scattercarpet": [
           {
            "marker": {
             "colorbar": {
              "outlinewidth": 0,
              "ticks": ""
             }
            },
            "type": "scattercarpet"
           }
          ],
          "scattergeo": [
           {
            "marker": {
             "colorbar": {
              "outlinewidth": 0,
              "ticks": ""
             }
            },
            "type": "scattergeo"
           }
          ],
          "scattergl": [
           {
            "marker": {
             "colorbar": {
              "outlinewidth": 0,
              "ticks": ""
             }
            },
            "type": "scattergl"
           }
          ],
          "scattermapbox": [
           {
            "marker": {
             "colorbar": {
              "outlinewidth": 0,
              "ticks": ""
             }
            },
            "type": "scattermapbox"
           }
          ],
          "scatterpolar": [
           {
            "marker": {
             "colorbar": {
              "outlinewidth": 0,
              "ticks": ""
             }
            },
            "type": "scatterpolar"
           }
          ],
          "scatterpolargl": [
           {
            "marker": {
             "colorbar": {
              "outlinewidth": 0,
              "ticks": ""
             }
            },
            "type": "scatterpolargl"
           }
          ],
          "scatterternary": [
           {
            "marker": {
             "colorbar": {
              "outlinewidth": 0,
              "ticks": ""
             }
            },
            "type": "scatterternary"
           }
          ],
          "surface": [
           {
            "colorbar": {
             "outlinewidth": 0,
             "ticks": ""
            },
            "colorscale": [
             [
              0,
              "#0d0887"
             ],
             [
              0.1111111111111111,
              "#46039f"
             ],
             [
              0.2222222222222222,
              "#7201a8"
             ],
             [
              0.3333333333333333,
              "#9c179e"
             ],
             [
              0.4444444444444444,
              "#bd3786"
             ],
             [
              0.5555555555555556,
              "#d8576b"
             ],
             [
              0.6666666666666666,
              "#ed7953"
             ],
             [
              0.7777777777777778,
              "#fb9f3a"
             ],
             [
              0.8888888888888888,
              "#fdca26"
             ],
             [
              1,
              "#f0f921"
             ]
            ],
            "type": "surface"
           }
          ],
          "table": [
           {
            "cells": {
             "fill": {
              "color": "#EBF0F8"
             },
             "line": {
              "color": "white"
             }
            },
            "header": {
             "fill": {
              "color": "#C8D4E3"
             },
             "line": {
              "color": "white"
             }
            },
            "type": "table"
           }
          ]
         },
         "layout": {
          "annotationdefaults": {
           "arrowcolor": "#2a3f5f",
           "arrowhead": 0,
           "arrowwidth": 1
          },
          "autotypenumbers": "strict",
          "coloraxis": {
           "colorbar": {
            "outlinewidth": 0,
            "ticks": ""
           }
          },
          "colorscale": {
           "diverging": [
            [
             0,
             "#8e0152"
            ],
            [
             0.1,
             "#c51b7d"
            ],
            [
             0.2,
             "#de77ae"
            ],
            [
             0.3,
             "#f1b6da"
            ],
            [
             0.4,
             "#fde0ef"
            ],
            [
             0.5,
             "#f7f7f7"
            ],
            [
             0.6,
             "#e6f5d0"
            ],
            [
             0.7,
             "#b8e186"
            ],
            [
             0.8,
             "#7fbc41"
            ],
            [
             0.9,
             "#4d9221"
            ],
            [
             1,
             "#276419"
            ]
           ],
           "sequential": [
            [
             0,
             "#0d0887"
            ],
            [
             0.1111111111111111,
             "#46039f"
            ],
            [
             0.2222222222222222,
             "#7201a8"
            ],
            [
             0.3333333333333333,
             "#9c179e"
            ],
            [
             0.4444444444444444,
             "#bd3786"
            ],
            [
             0.5555555555555556,
             "#d8576b"
            ],
            [
             0.6666666666666666,
             "#ed7953"
            ],
            [
             0.7777777777777778,
             "#fb9f3a"
            ],
            [
             0.8888888888888888,
             "#fdca26"
            ],
            [
             1,
             "#f0f921"
            ]
           ],
           "sequentialminus": [
            [
             0,
             "#0d0887"
            ],
            [
             0.1111111111111111,
             "#46039f"
            ],
            [
             0.2222222222222222,
             "#7201a8"
            ],
            [
             0.3333333333333333,
             "#9c179e"
            ],
            [
             0.4444444444444444,
             "#bd3786"
            ],
            [
             0.5555555555555556,
             "#d8576b"
            ],
            [
             0.6666666666666666,
             "#ed7953"
            ],
            [
             0.7777777777777778,
             "#fb9f3a"
            ],
            [
             0.8888888888888888,
             "#fdca26"
            ],
            [
             1,
             "#f0f921"
            ]
           ]
          },
          "colorway": [
           "#636efa",
           "#EF553B",
           "#00cc96",
           "#ab63fa",
           "#FFA15A",
           "#19d3f3",
           "#FF6692",
           "#B6E880",
           "#FF97FF",
           "#FECB52"
          ],
          "font": {
           "color": "#2a3f5f"
          },
          "geo": {
           "bgcolor": "white",
           "lakecolor": "white",
           "landcolor": "#E5ECF6",
           "showlakes": true,
           "showland": true,
           "subunitcolor": "white"
          },
          "hoverlabel": {
           "align": "left"
          },
          "hovermode": "closest",
          "mapbox": {
           "style": "light"
          },
          "paper_bgcolor": "white",
          "plot_bgcolor": "#E5ECF6",
          "polar": {
           "angularaxis": {
            "gridcolor": "white",
            "linecolor": "white",
            "ticks": ""
           },
           "bgcolor": "#E5ECF6",
           "radialaxis": {
            "gridcolor": "white",
            "linecolor": "white",
            "ticks": ""
           }
          },
          "scene": {
           "xaxis": {
            "backgroundcolor": "#E5ECF6",
            "gridcolor": "white",
            "gridwidth": 2,
            "linecolor": "white",
            "showbackground": true,
            "ticks": "",
            "zerolinecolor": "white"
           },
           "yaxis": {
            "backgroundcolor": "#E5ECF6",
            "gridcolor": "white",
            "gridwidth": 2,
            "linecolor": "white",
            "showbackground": true,
            "ticks": "",
            "zerolinecolor": "white"
           },
           "zaxis": {
            "backgroundcolor": "#E5ECF6",
            "gridcolor": "white",
            "gridwidth": 2,
            "linecolor": "white",
            "showbackground": true,
            "ticks": "",
            "zerolinecolor": "white"
           }
          },
          "shapedefaults": {
           "line": {
            "color": "#2a3f5f"
           }
          },
          "ternary": {
           "aaxis": {
            "gridcolor": "white",
            "linecolor": "white",
            "ticks": ""
           },
           "baxis": {
            "gridcolor": "white",
            "linecolor": "white",
            "ticks": ""
           },
           "bgcolor": "#E5ECF6",
           "caxis": {
            "gridcolor": "white",
            "linecolor": "white",
            "ticks": ""
           }
          },
          "title": {
           "x": 0.05
          },
          "xaxis": {
           "automargin": true,
           "gridcolor": "white",
           "linecolor": "white",
           "ticks": "",
           "title": {
            "standoff": 15
           },
           "zerolinecolor": "white",
           "zerolinewidth": 2
          },
          "yaxis": {
           "automargin": true,
           "gridcolor": "white",
           "linecolor": "white",
           "ticks": "",
           "title": {
            "standoff": 15
           },
           "zerolinecolor": "white",
           "zerolinewidth": 2
          }
         }
        },
        "title": {
         "text": "Tendencia de crímenes contra mujeres en India (2001-2021)"
        },
        "xaxis": {
         "dtick": 1,
         "tickmode": "linear",
         "title": {
          "text": "Año"
         }
        },
        "yaxis": {
         "tickformat": ",d",
         "title": {
          "text": "Número total de crímenes o delitos"
         }
        }
       }
      }
     },
     "metadata": {},
     "output_type": "display_data"
    }
   ],
   "source": [
    "# import plotly.graph_objects as go\n",
    "\n",
    "if 'Total de crímenes o delitos' not in crime_trend.columns:\n",
    "    # Selecciona solo las columnas numéricas\n",
    "    numeric_columns = crime_trend.select_dtypes(include=['number']).columns\n",
    "    \n",
    "    # Agrega una columna para el total de crímenes sumando solo las columnas numéricas\n",
    "    crime_trend['Total de crímenes o delitos'] = crime_trend[numeric_columns].sum(axis=1)\n",
    "\n",
    "# Asegúrate de que el índice sea entero\n",
    "crime_trend.index = crime_trend.index.astype(int)\n",
    "\n",
    "# Crear el gráfico de líneas interactivo\n",
    "fig = go.Figure()\n",
    "\n",
    "# Añadir una línea para el total de crímenes\n",
    "fig.add_trace(go.Scatter(\n",
    "    x=crime_trend.index,\n",
    "    y=crime_trend['Total de crímenes o delitos'],\n",
    "    mode='lines+markers',\n",
    "    name='Total de crímenes o delitos',\n",
    "    hoverinfo='x+y',  # Solo mostrar el año y el total de crímenes en el hover\n",
    "))\n",
    "\n",
    "# Ajustar el diseño del gráfico\n",
    "fig.update_layout(\n",
    "    title='Tendencia de crímenes contra mujeres en India (2001-2021)',\n",
    "    xaxis_title='Año',\n",
    "    yaxis_title='Número total de crímenes o delitos',\n",
    "    xaxis=dict(\n",
    "        tickmode='linear',\n",
    "        dtick=1  # Mostrar los ticks para cada año\n",
    "    ),\n",
    "    yaxis=dict(\n",
    "        tickformat=',d'  # Formato de números enteros en el eje Y\n",
    "    ),\n",
    "    hovermode='x unified'  # Mostrar información del hover de forma unificada\n",
    ")\n",
    "\n",
    "# Mostrar el gráfico\n",
    "fig.show()\n"
   ]
  },
  {
   "cell_type": "code",
   "execution_count": 18,
   "metadata": {},
   "outputs": [
    {
     "data": {
      "application/vnd.plotly.v1+json": {
       "config": {
        "plotlyServerURL": "https://plot.ly"
       },
       "data": [
        {
         "hoverinfo": "x+y",
         "mode": "lines+markers",
         "name": "Datos Reales",
         "type": "scatter",
         "x": [
          2001,
          2002,
          2003,
          2004,
          2005,
          2006,
          2007,
          2008,
          2009,
          2010,
          2011,
          2012,
          2013,
          2014,
          2015,
          2016,
          2017,
          2018,
          2019,
          2020,
          2021
         ],
         "y": [
          257074,
          257944,
          256284,
          280144,
          278666,
          299484,
          340392,
          365514,
          381234,
          401068,
          357058,
          470050,
          596888,
          666432,
          647704,
          671538,
          611794,
          628186,
          667434,
          604372,
          696184
         ]
        },
        {
         "hoverinfo": "x+y",
         "line": {
          "dash": "dash"
         },
         "mode": "lines",
         "name": "Regresión Lineal\nPendiente: 25617.89, Intersección: -51053986.05",
         "type": "scatter",
         "x": [
          2001,
          2002,
          2003,
          2004,
          2005,
          2006,
          2007,
          2008,
          2009,
          2010,
          2011,
          2012,
          2013,
          2014,
          2015,
          2016,
          2017,
          2018,
          2019,
          2020,
          2021
         ],
         "y": [
          207413.6623376608,
          233031.55324675143,
          258649.44415584207,
          284267.3350649327,
          309885.22597402334,
          335503.11688312143,
          361121.00779221207,
          386738.8987013027,
          412356.78961039335,
          437974.680519484,
          463592.5714285746,
          489210.46233766526,
          514828.3532467559,
          540446.2441558465,
          566064.1350649372,
          591682.0259740278,
          617299.9168831185,
          642917.8077922091,
          668535.6987012997,
          694153.5896103904,
          719771.480519481
         ]
        }
       ],
       "layout": {
        "hovermode": "x unified",
        "template": {
         "data": {
          "bar": [
           {
            "error_x": {
             "color": "#2a3f5f"
            },
            "error_y": {
             "color": "#2a3f5f"
            },
            "marker": {
             "line": {
              "color": "#E5ECF6",
              "width": 0.5
             },
             "pattern": {
              "fillmode": "overlay",
              "size": 10,
              "solidity": 0.2
             }
            },
            "type": "bar"
           }
          ],
          "barpolar": [
           {
            "marker": {
             "line": {
              "color": "#E5ECF6",
              "width": 0.5
             },
             "pattern": {
              "fillmode": "overlay",
              "size": 10,
              "solidity": 0.2
             }
            },
            "type": "barpolar"
           }
          ],
          "carpet": [
           {
            "aaxis": {
             "endlinecolor": "#2a3f5f",
             "gridcolor": "white",
             "linecolor": "white",
             "minorgridcolor": "white",
             "startlinecolor": "#2a3f5f"
            },
            "baxis": {
             "endlinecolor": "#2a3f5f",
             "gridcolor": "white",
             "linecolor": "white",
             "minorgridcolor": "white",
             "startlinecolor": "#2a3f5f"
            },
            "type": "carpet"
           }
          ],
          "choropleth": [
           {
            "colorbar": {
             "outlinewidth": 0,
             "ticks": ""
            },
            "type": "choropleth"
           }
          ],
          "contour": [
           {
            "colorbar": {
             "outlinewidth": 0,
             "ticks": ""
            },
            "colorscale": [
             [
              0,
              "#0d0887"
             ],
             [
              0.1111111111111111,
              "#46039f"
             ],
             [
              0.2222222222222222,
              "#7201a8"
             ],
             [
              0.3333333333333333,
              "#9c179e"
             ],
             [
              0.4444444444444444,
              "#bd3786"
             ],
             [
              0.5555555555555556,
              "#d8576b"
             ],
             [
              0.6666666666666666,
              "#ed7953"
             ],
             [
              0.7777777777777778,
              "#fb9f3a"
             ],
             [
              0.8888888888888888,
              "#fdca26"
             ],
             [
              1,
              "#f0f921"
             ]
            ],
            "type": "contour"
           }
          ],
          "contourcarpet": [
           {
            "colorbar": {
             "outlinewidth": 0,
             "ticks": ""
            },
            "type": "contourcarpet"
           }
          ],
          "heatmap": [
           {
            "colorbar": {
             "outlinewidth": 0,
             "ticks": ""
            },
            "colorscale": [
             [
              0,
              "#0d0887"
             ],
             [
              0.1111111111111111,
              "#46039f"
             ],
             [
              0.2222222222222222,
              "#7201a8"
             ],
             [
              0.3333333333333333,
              "#9c179e"
             ],
             [
              0.4444444444444444,
              "#bd3786"
             ],
             [
              0.5555555555555556,
              "#d8576b"
             ],
             [
              0.6666666666666666,
              "#ed7953"
             ],
             [
              0.7777777777777778,
              "#fb9f3a"
             ],
             [
              0.8888888888888888,
              "#fdca26"
             ],
             [
              1,
              "#f0f921"
             ]
            ],
            "type": "heatmap"
           }
          ],
          "heatmapgl": [
           {
            "colorbar": {
             "outlinewidth": 0,
             "ticks": ""
            },
            "colorscale": [
             [
              0,
              "#0d0887"
             ],
             [
              0.1111111111111111,
              "#46039f"
             ],
             [
              0.2222222222222222,
              "#7201a8"
             ],
             [
              0.3333333333333333,
              "#9c179e"
             ],
             [
              0.4444444444444444,
              "#bd3786"
             ],
             [
              0.5555555555555556,
              "#d8576b"
             ],
             [
              0.6666666666666666,
              "#ed7953"
             ],
             [
              0.7777777777777778,
              "#fb9f3a"
             ],
             [
              0.8888888888888888,
              "#fdca26"
             ],
             [
              1,
              "#f0f921"
             ]
            ],
            "type": "heatmapgl"
           }
          ],
          "histogram": [
           {
            "marker": {
             "pattern": {
              "fillmode": "overlay",
              "size": 10,
              "solidity": 0.2
             }
            },
            "type": "histogram"
           }
          ],
          "histogram2d": [
           {
            "colorbar": {
             "outlinewidth": 0,
             "ticks": ""
            },
            "colorscale": [
             [
              0,
              "#0d0887"
             ],
             [
              0.1111111111111111,
              "#46039f"
             ],
             [
              0.2222222222222222,
              "#7201a8"
             ],
             [
              0.3333333333333333,
              "#9c179e"
             ],
             [
              0.4444444444444444,
              "#bd3786"
             ],
             [
              0.5555555555555556,
              "#d8576b"
             ],
             [
              0.6666666666666666,
              "#ed7953"
             ],
             [
              0.7777777777777778,
              "#fb9f3a"
             ],
             [
              0.8888888888888888,
              "#fdca26"
             ],
             [
              1,
              "#f0f921"
             ]
            ],
            "type": "histogram2d"
           }
          ],
          "histogram2dcontour": [
           {
            "colorbar": {
             "outlinewidth": 0,
             "ticks": ""
            },
            "colorscale": [
             [
              0,
              "#0d0887"
             ],
             [
              0.1111111111111111,
              "#46039f"
             ],
             [
              0.2222222222222222,
              "#7201a8"
             ],
             [
              0.3333333333333333,
              "#9c179e"
             ],
             [
              0.4444444444444444,
              "#bd3786"
             ],
             [
              0.5555555555555556,
              "#d8576b"
             ],
             [
              0.6666666666666666,
              "#ed7953"
             ],
             [
              0.7777777777777778,
              "#fb9f3a"
             ],
             [
              0.8888888888888888,
              "#fdca26"
             ],
             [
              1,
              "#f0f921"
             ]
            ],
            "type": "histogram2dcontour"
           }
          ],
          "mesh3d": [
           {
            "colorbar": {
             "outlinewidth": 0,
             "ticks": ""
            },
            "type": "mesh3d"
           }
          ],
          "parcoords": [
           {
            "line": {
             "colorbar": {
              "outlinewidth": 0,
              "ticks": ""
             }
            },
            "type": "parcoords"
           }
          ],
          "pie": [
           {
            "automargin": true,
            "type": "pie"
           }
          ],
          "scatter": [
           {
            "fillpattern": {
             "fillmode": "overlay",
             "size": 10,
             "solidity": 0.2
            },
            "type": "scatter"
           }
          ],
          "scatter3d": [
           {
            "line": {
             "colorbar": {
              "outlinewidth": 0,
              "ticks": ""
             }
            },
            "marker": {
             "colorbar": {
              "outlinewidth": 0,
              "ticks": ""
             }
            },
            "type": "scatter3d"
           }
          ],
          "scattercarpet": [
           {
            "marker": {
             "colorbar": {
              "outlinewidth": 0,
              "ticks": ""
             }
            },
            "type": "scattercarpet"
           }
          ],
          "scattergeo": [
           {
            "marker": {
             "colorbar": {
              "outlinewidth": 0,
              "ticks": ""
             }
            },
            "type": "scattergeo"
           }
          ],
          "scattergl": [
           {
            "marker": {
             "colorbar": {
              "outlinewidth": 0,
              "ticks": ""
             }
            },
            "type": "scattergl"
           }
          ],
          "scattermapbox": [
           {
            "marker": {
             "colorbar": {
              "outlinewidth": 0,
              "ticks": ""
             }
            },
            "type": "scattermapbox"
           }
          ],
          "scatterpolar": [
           {
            "marker": {
             "colorbar": {
              "outlinewidth": 0,
              "ticks": ""
             }
            },
            "type": "scatterpolar"
           }
          ],
          "scatterpolargl": [
           {
            "marker": {
             "colorbar": {
              "outlinewidth": 0,
              "ticks": ""
             }
            },
            "type": "scatterpolargl"
           }
          ],
          "scatterternary": [
           {
            "marker": {
             "colorbar": {
              "outlinewidth": 0,
              "ticks": ""
             }
            },
            "type": "scatterternary"
           }
          ],
          "surface": [
           {
            "colorbar": {
             "outlinewidth": 0,
             "ticks": ""
            },
            "colorscale": [
             [
              0,
              "#0d0887"
             ],
             [
              0.1111111111111111,
              "#46039f"
             ],
             [
              0.2222222222222222,
              "#7201a8"
             ],
             [
              0.3333333333333333,
              "#9c179e"
             ],
             [
              0.4444444444444444,
              "#bd3786"
             ],
             [
              0.5555555555555556,
              "#d8576b"
             ],
             [
              0.6666666666666666,
              "#ed7953"
             ],
             [
              0.7777777777777778,
              "#fb9f3a"
             ],
             [
              0.8888888888888888,
              "#fdca26"
             ],
             [
              1,
              "#f0f921"
             ]
            ],
            "type": "surface"
           }
          ],
          "table": [
           {
            "cells": {
             "fill": {
              "color": "#EBF0F8"
             },
             "line": {
              "color": "white"
             }
            },
            "header": {
             "fill": {
              "color": "#C8D4E3"
             },
             "line": {
              "color": "white"
             }
            },
            "type": "table"
           }
          ]
         },
         "layout": {
          "annotationdefaults": {
           "arrowcolor": "#2a3f5f",
           "arrowhead": 0,
           "arrowwidth": 1
          },
          "autotypenumbers": "strict",
          "coloraxis": {
           "colorbar": {
            "outlinewidth": 0,
            "ticks": ""
           }
          },
          "colorscale": {
           "diverging": [
            [
             0,
             "#8e0152"
            ],
            [
             0.1,
             "#c51b7d"
            ],
            [
             0.2,
             "#de77ae"
            ],
            [
             0.3,
             "#f1b6da"
            ],
            [
             0.4,
             "#fde0ef"
            ],
            [
             0.5,
             "#f7f7f7"
            ],
            [
             0.6,
             "#e6f5d0"
            ],
            [
             0.7,
             "#b8e186"
            ],
            [
             0.8,
             "#7fbc41"
            ],
            [
             0.9,
             "#4d9221"
            ],
            [
             1,
             "#276419"
            ]
           ],
           "sequential": [
            [
             0,
             "#0d0887"
            ],
            [
             0.1111111111111111,
             "#46039f"
            ],
            [
             0.2222222222222222,
             "#7201a8"
            ],
            [
             0.3333333333333333,
             "#9c179e"
            ],
            [
             0.4444444444444444,
             "#bd3786"
            ],
            [
             0.5555555555555556,
             "#d8576b"
            ],
            [
             0.6666666666666666,
             "#ed7953"
            ],
            [
             0.7777777777777778,
             "#fb9f3a"
            ],
            [
             0.8888888888888888,
             "#fdca26"
            ],
            [
             1,
             "#f0f921"
            ]
           ],
           "sequentialminus": [
            [
             0,
             "#0d0887"
            ],
            [
             0.1111111111111111,
             "#46039f"
            ],
            [
             0.2222222222222222,
             "#7201a8"
            ],
            [
             0.3333333333333333,
             "#9c179e"
            ],
            [
             0.4444444444444444,
             "#bd3786"
            ],
            [
             0.5555555555555556,
             "#d8576b"
            ],
            [
             0.6666666666666666,
             "#ed7953"
            ],
            [
             0.7777777777777778,
             "#fb9f3a"
            ],
            [
             0.8888888888888888,
             "#fdca26"
            ],
            [
             1,
             "#f0f921"
            ]
           ]
          },
          "colorway": [
           "#636efa",
           "#EF553B",
           "#00cc96",
           "#ab63fa",
           "#FFA15A",
           "#19d3f3",
           "#FF6692",
           "#B6E880",
           "#FF97FF",
           "#FECB52"
          ],
          "font": {
           "color": "#2a3f5f"
          },
          "geo": {
           "bgcolor": "white",
           "lakecolor": "white",
           "landcolor": "#E5ECF6",
           "showlakes": true,
           "showland": true,
           "subunitcolor": "white"
          },
          "hoverlabel": {
           "align": "left"
          },
          "hovermode": "closest",
          "mapbox": {
           "style": "light"
          },
          "paper_bgcolor": "white",
          "plot_bgcolor": "#E5ECF6",
          "polar": {
           "angularaxis": {
            "gridcolor": "white",
            "linecolor": "white",
            "ticks": ""
           },
           "bgcolor": "#E5ECF6",
           "radialaxis": {
            "gridcolor": "white",
            "linecolor": "white",
            "ticks": ""
           }
          },
          "scene": {
           "xaxis": {
            "backgroundcolor": "#E5ECF6",
            "gridcolor": "white",
            "gridwidth": 2,
            "linecolor": "white",
            "showbackground": true,
            "ticks": "",
            "zerolinecolor": "white"
           },
           "yaxis": {
            "backgroundcolor": "#E5ECF6",
            "gridcolor": "white",
            "gridwidth": 2,
            "linecolor": "white",
            "showbackground": true,
            "ticks": "",
            "zerolinecolor": "white"
           },
           "zaxis": {
            "backgroundcolor": "#E5ECF6",
            "gridcolor": "white",
            "gridwidth": 2,
            "linecolor": "white",
            "showbackground": true,
            "ticks": "",
            "zerolinecolor": "white"
           }
          },
          "shapedefaults": {
           "line": {
            "color": "#2a3f5f"
           }
          },
          "ternary": {
           "aaxis": {
            "gridcolor": "white",
            "linecolor": "white",
            "ticks": ""
           },
           "baxis": {
            "gridcolor": "white",
            "linecolor": "white",
            "ticks": ""
           },
           "bgcolor": "#E5ECF6",
           "caxis": {
            "gridcolor": "white",
            "linecolor": "white",
            "ticks": ""
           }
          },
          "title": {
           "x": 0.05
          },
          "xaxis": {
           "automargin": true,
           "gridcolor": "white",
           "linecolor": "white",
           "ticks": "",
           "title": {
            "standoff": 15
           },
           "zerolinecolor": "white",
           "zerolinewidth": 2
          },
          "yaxis": {
           "automargin": true,
           "gridcolor": "white",
           "linecolor": "white",
           "ticks": "",
           "title": {
            "standoff": 15
           },
           "zerolinecolor": "white",
           "zerolinewidth": 2
          }
         }
        },
        "title": {
         "text": "Tendencia de crímenes contra mujeres en India (2001-2021)"
        },
        "xaxis": {
         "dtick": 1,
         "tickmode": "linear",
         "title": {
          "text": "Año"
         }
        },
        "yaxis": {
         "tickformat": ",d",
         "title": {
          "text": "Número total de crímenes o delitos"
         }
        }
       }
      }
     },
     "metadata": {},
     "output_type": "display_data"
    },
    {
     "name": "stdout",
     "output_type": "stream",
     "text": [
      "Pendiente de la regresión: 25617.89\n",
      "Intersección de la regresión: -51053986.05\n",
      "La hipótesis es válida: La tasa de crímenes ha aumentado.\n",
      "\n",
      "Análisis de los últimos cuatro años:\n",
      " Año  Total de crímenes o delitos    Predicción\n",
      "2018                       628186 642917.807792\n",
      "2019                       667434 668535.698701\n",
      "2020                       604372 694153.589610\n",
      "2021                       696184 719771.480519\n",
      "\n",
      "Cambio porcentual en los últimos cuatro años (sin 'NaN'):\n",
      " Año  Cambio porcentual\n",
      "2019           6.247831\n",
      "2020          -9.448425\n",
      "2021          15.191306\n",
      "\n",
      "Análisis general de la tendencia (2001-2021):\n",
      "Número total de crímenes en 2001: 257074.00\n",
      "Número total de crímenes en 2021: 696184.00\n",
      "Cambio absoluto en el periodo: 439110.00\n",
      "Cambio porcentual en el periodo: 170.81%\n"
     ]
    }
   ],
   "source": [
    "# Verifica si 'Total de crímenes o delitos' ya existe\n",
    "if 'Total de crímenes o delitos' not in crime_trend.columns:\n",
    "    # Selecciona solo las columnas numéricas\n",
    "    numeric_columns = crime_trend.select_dtypes(include=['number']).columns\n",
    "    \n",
    "    # Agrega una columna para el total de crímenes sumando solo las columnas numéricas\n",
    "    crime_trend['Total de crímenes o delitos'] = crime_trend[numeric_columns].sum(axis=1)\n",
    "\n",
    "# Asegúrate de que el índice sea entero\n",
    "crime_trend.index = crime_trend.index.astype(int)\n",
    "\n",
    "# Convertir el índice a una columna para la regresión\n",
    "crime_trend_reset = crime_trend.reset_index()\n",
    "crime_trend_reset.rename(columns={'index': 'Año'}, inplace=True)\n",
    "\n",
    "# Preparar los datos para la regresión lineal\n",
    "X = crime_trend_reset[['Año']].values.reshape(-1, 1)  # Año como variable independiente\n",
    "y = crime_trend_reset['Total de crímenes o delitos'].values  # Total de crímenes como variable dependiente\n",
    "\n",
    "# Crear el modelo de regresión lineal\n",
    "model = LinearRegression()\n",
    "model.fit(X, y)\n",
    "\n",
    "# Predicciones\n",
    "crime_trend_reset['Predicción'] = model.predict(X)\n",
    "\n",
    "# Coeficiente de la regresión\n",
    "coef = model.coef_[0]\n",
    "intercept = model.intercept_\n",
    "\n",
    "# Crear el gráfico\n",
    "fig = go.Figure()\n",
    "\n",
    "# Línea de los datos\n",
    "fig.add_trace(go.Scatter(\n",
    "    x=crime_trend_reset['Año'],\n",
    "    y=crime_trend_reset['Total de crímenes o delitos'],\n",
    "    mode='lines+markers',\n",
    "    name='Datos Reales',\n",
    "    hoverinfo='x+y',\n",
    "))\n",
    "\n",
    "# Línea de la regresión\n",
    "fig.add_trace(go.Scatter(\n",
    "    x=crime_trend_reset['Año'],\n",
    "    y=crime_trend_reset['Predicción'],\n",
    "    mode='lines',\n",
    "    name=f'Regresión Lineal\\nPendiente: {coef:.2f}, Intersección: {intercept:.2f}',\n",
    "    line=dict(dash='dash'),\n",
    "    hoverinfo='x+y',\n",
    "))\n",
    "\n",
    "# Ajustar el diseño del gráfico\n",
    "fig.update_layout(\n",
    "    title='Tendencia de crímenes contra mujeres en India (2001-2021)',\n",
    "    xaxis_title='Año',\n",
    "    yaxis_title='Número total de crímenes o delitos',\n",
    "    xaxis=dict(\n",
    "        tickmode='linear',\n",
    "        dtick=1\n",
    "    ),\n",
    "    yaxis=dict(\n",
    "        tickformat=',d'\n",
    "    ),\n",
    "    hovermode='x unified'\n",
    ")\n",
    "\n",
    "# Mostrar el gráfico\n",
    "fig.show()\n",
    "\n",
    "# Imprimir el coeficiente de la regresión\n",
    "print(f'Pendiente de la regresión: {coef:.2f}')\n",
    "print(f'Intersección de la regresión: {intercept:.2f}')\n",
    "\n",
    "# Evaluar la validez de la hipótesis\n",
    "if coef > 0:\n",
    "    print(\"La hipótesis es válida: La tasa de crímenes ha aumentado.\")\n",
    "elif coef < 0:\n",
    "    print(\"La hipótesis es inválida: La tasa de crímenes ha disminuido.\")\n",
    "else:\n",
    "    print(\"La hipótesis no puede ser validada: No hay cambio en la tasa de crímenes.\")\n",
    "\n",
    "# Análisis detallado de los últimos cuatro años\n",
    "recent_years = crime_trend_reset[crime_trend_reset['Año'] >= crime_trend_reset['Año'].max() - 3]\n",
    "recent_years_summary = recent_years[['Año', 'Total de crímenes o delitos', 'Predicción']]\n",
    "\n",
    "print(\"\\nAnálisis de los últimos cuatro años:\")\n",
    "print(recent_years_summary.to_string(index=False))\n",
    "\n",
    "# Calcular el cambio porcentual, ignorando el primer año donde no hay comparación previa\n",
    "recent_years['Cambio porcentual'] = recent_years['Total de crímenes o delitos'].pct_change() * 100\n",
    "\n",
    "# Filtrar filas con cambio porcentual calculado\n",
    "recent_years_filtered = recent_years.dropna(subset=['Cambio porcentual'])\n",
    "\n",
    "print(\"\\nCambio porcentual en los últimos cuatro años (sin 'NaN'):\")\n",
    "print(recent_years_filtered[['Año', 'Cambio porcentual']].to_string(index=False))\n",
    "\n",
    "# Análisis de la tendencia completa\n",
    "print(\"\\nAnálisis general de la tendencia (2001-2021):\")\n",
    "total_crimes_start = crime_trend_reset.iloc[0]['Total de crímenes o delitos']\n",
    "total_crimes_end = crime_trend_reset.iloc[-1]['Total de crímenes o delitos']\n",
    "total_crimes_change = total_crimes_end - total_crimes_start\n",
    "total_crimes_change_pct = (total_crimes_change / total_crimes_start) * 100\n",
    "\n",
    "print(f'Número total de crímenes en 2001: {total_crimes_start:.2f}')\n",
    "print(f'Número total de crímenes en 2021: {total_crimes_end:.2f}')\n",
    "print(f'Cambio absoluto en el periodo: {total_crimes_change:.2f}')\n",
    "print(f'Cambio porcentual en el periodo: {total_crimes_change_pct:.2f}%')"
   ]
  },
  {
   "cell_type": "code",
   "execution_count": 19,
   "metadata": {},
   "outputs": [
    {
     "name": "stdout",
     "output_type": "stream",
     "text": [
      "           Estado   Año  Casos de violación  Secuestros y asaltos  \\\n",
      "0  ANDHRA PRADESH  2001                 871                   765   \n",
      "1  ANDHRA PRADESH  2002                1002                   854   \n",
      "2  ANDHRA PRADESH  2003                 946                   931   \n",
      "3  ANDHRA PRADESH  2004                1016                  1030   \n",
      "4  ANDHRA PRADESH  2005                 935                   995   \n",
      "\n",
      "   Muertes por la dote  Asalto a mujeres  \\\n",
      "0                  420              3544   \n",
      "1                  449              3799   \n",
      "2                  466              4128   \n",
      "3                  512              3817   \n",
      "4                  443              3595   \n",
      "\n",
      "   Asalto a menores (niñas y adolescentes)  Violencia doméstica  Brujería  \\\n",
      "0                                     2271                 5791         7   \n",
      "1                                     2024                 7018         0   \n",
      "2                                     2286                 8167         5   \n",
      "3                                     2310                 8388         2   \n",
      "4                                     2508                 8696         3   \n",
      "\n",
      "   Total de crímenes  \n",
      "0              13669  \n",
      "1              15146  \n",
      "2              16929  \n",
      "3              17075  \n",
      "4              17175  \n"
     ]
    }
   ],
   "source": [
    "\n",
    "# Supongamos que tienes el DataFrame original en crimes_df_cleaned\n",
    "# Primero, asegurémonos de que el DataFrame contiene la columna 'Año'\n",
    "if 'Año' not in crimes_df_cleaned.columns:\n",
    "    print(\"La columna 'Año' no está en el DataFrame.\")\n",
    "else:\n",
    "    # Crear una columna total de crímenes\n",
    "    crimes_df_cleaned['Total de crímenes'] = crimes_df_cleaned[['Casos de violación', 'Secuestros y asaltos', 'Muertes por la dote', 'Asalto a mujeres', 'Asalto a menores (niñas y adolescentes)', 'Violencia doméstica', 'Brujería']].sum(axis=1)\n",
    "\n",
    "    # Agrupar por estado y calcular el total de crímenes por estado\n",
    "    total_crimes_by_state = crimes_df_cleaned.groupby('Estado')['Total de crímenes'].sum().reset_index()\n",
    "    \n",
    "    # Obtener los 10 estados con mayor incidencia\n",
    "    top_10_states = total_crimes_by_state.sort_values(by='Total de crímenes', ascending=False).head(10)['Estado'].tolist()\n",
    "\n",
    "    # Filtrar los datos para los 10 estados con mayor incidencia\n",
    "    top_10_crimes_filtered = crimes_df_cleaned[crimes_df_cleaned['Estado'].isin(top_10_states)]\n",
    "\n",
    "    # Agrupar por estado y año\n",
    "    regional_trend_top_10 = top_10_crimes_filtered.groupby(['Estado', 'Año']).sum().reset_index()\n",
    "\n",
    "    # Verificar el DataFrame\n",
    "    print(regional_trend_top_10.head())\n"
   ]
  },
  {
   "cell_type": "code",
   "execution_count": 20,
   "metadata": {},
   "outputs": [
    {
     "data": {
      "application/vnd.plotly.v1+json": {
       "config": {
        "plotlyServerURL": "https://plot.ly"
       },
       "data": [
        {
         "hovertemplate": "Estado=ANDHRA PRADESH<br>Año=%{x}<br>Número total de crímenes=%{y}<extra></extra>",
         "legendgroup": "ANDHRA PRADESH",
         "line": {
          "color": "#636efa",
          "dash": "solid"
         },
         "marker": {
          "symbol": "circle"
         },
         "mode": "lines",
         "name": "ANDHRA PRADESH",
         "orientation": "v",
         "showlegend": true,
         "type": "scatter",
         "x": [
          2001,
          2002,
          2003,
          2004,
          2005,
          2006,
          2007,
          2008,
          2009,
          2010,
          2011,
          2012,
          2013,
          2014,
          2015,
          2016,
          2017,
          2018,
          2019,
          2020,
          2021
         ],
         "xaxis": "x",
         "y": [
          13669,
          15146,
          16929,
          17075,
          17175,
          19006,
          22304,
          21796,
          23224,
          24757,
          21184,
          25639,
          30927,
          14335,
          13896,
          14594,
          16256,
          15038,
          16062,
          15562,
          16549
         ],
         "yaxis": "y"
        },
        {
         "hovertemplate": "Estado=ASSAM<br>Año=%{x}<br>Número total de crímenes=%{y}<extra></extra>",
         "legendgroup": "ASSAM",
         "line": {
          "color": "#EF553B",
          "dash": "solid"
         },
         "marker": {
          "symbol": "circle"
         },
         "mode": "lines",
         "name": "ASSAM",
         "orientation": "v",
         "showlegend": true,
         "type": "scatter",
         "x": [
          2001,
          2002,
          2003,
          2004,
          2005,
          2006,
          2007,
          2008,
          2009,
          2010,
          2011,
          2012,
          2013,
          2014,
          2015,
          2016,
          2017,
          2018,
          2019,
          2020,
          2021
         ],
         "xaxis": "x",
         "y": [
          4048,
          5001,
          5198,
          5636,
          5920,
          6741,
          6807,
          8082,
          9644,
          11493,
          10288,
          13498,
          17406,
          19179,
          23052,
          20716,
          20996,
          23746,
          25877,
          23327,
          25325
         ],
         "yaxis": "y"
        },
        {
         "hovertemplate": "Estado=BIHAR<br>Año=%{x}<br>Número total de crímenes=%{y}<extra></extra>",
         "legendgroup": "BIHAR",
         "line": {
          "color": "#00cc96",
          "dash": "solid"
         },
         "marker": {
          "symbol": "circle"
         },
         "mode": "lines",
         "name": "BIHAR",
         "orientation": "v",
         "showlegend": true,
         "type": "scatter",
         "x": [
          2001,
          2002,
          2003,
          2004,
          2005,
          2006,
          2007,
          2008,
          2009,
          2010,
          2011,
          2012,
          2013,
          2014,
          2015,
          2016,
          2017,
          2018,
          2019,
          2020,
          2021
         ],
         "xaxis": "x",
         "y": [
          4489,
          4953,
          5184,
          6847,
          5202,
          5818,
          6543,
          7335,
          7511,
          7450,
          8038,
          9867,
          11709,
          13611,
          11442,
          11783,
          11866,
          12589,
          13635,
          11078,
          12936
         ],
         "yaxis": "y"
        },
        {
         "hovertemplate": "Estado=KERALA<br>Año=%{x}<br>Número total de crímenes=%{y}<extra></extra>",
         "legendgroup": "KERALA",
         "line": {
          "color": "#ab63fa",
          "dash": "solid"
         },
         "marker": {
          "symbol": "circle"
         },
         "mode": "lines",
         "name": "KERALA",
         "orientation": "v",
         "showlegend": true,
         "type": "scatter",
         "x": [
          2001,
          2002,
          2003,
          2004,
          2005,
          2006,
          2007,
          2008,
          2009,
          2010,
          2011,
          2012,
          2013,
          2014,
          2015,
          2016,
          2017,
          2018,
          2019,
          2020,
          2021
         ],
         "xaxis": "x",
         "y": [
          5270,
          5668,
          5474,
          6268,
          6425,
          7301,
          7601,
          7906,
          7703,
          9110,
          7515,
          10924,
          11193,
          11850,
          10391,
          10717,
          9910,
          9190,
          10180,
          18861,
          23529
         ],
         "yaxis": "y"
        },
        {
         "hovertemplate": "Estado=MADHYA PRADESH<br>Año=%{x}<br>Número total de crímenes=%{y}<extra></extra>",
         "legendgroup": "MADHYA PRADESH",
         "line": {
          "color": "#FFA15A",
          "dash": "solid"
         },
         "marker": {
          "symbol": "circle"
         },
         "mode": "lines",
         "name": "MADHYA PRADESH",
         "orientation": "v",
         "showlegend": true,
         "type": "scatter",
         "x": [
          2001,
          2002,
          2003,
          2004,
          2005,
          2006,
          2007,
          2008,
          2009,
          2010,
          2011,
          2012,
          2013,
          2014,
          2015,
          2016,
          2017,
          2018,
          2019,
          2020,
          2021
         ],
         "xaxis": "x",
         "y": [
          14504,
          15222,
          14485,
          15140,
          14474,
          14275,
          15299,
          14866,
          15716,
          16382,
          9823,
          16725,
          21982,
          30115,
          25516,
          28544,
          27049,
          25365,
          20392,
          25260,
          32023
         ],
         "yaxis": "y"
        },
        {
         "hovertemplate": "Estado=MAHARASHTRA<br>Año=%{x}<br>Número total de crímenes=%{y}<extra></extra>",
         "legendgroup": "MAHARASHTRA",
         "line": {
          "color": "#19d3f3",
          "dash": "solid"
         },
         "marker": {
          "symbol": "circle"
         },
         "mode": "lines",
         "name": "MAHARASHTRA",
         "orientation": "v",
         "showlegend": true,
         "type": "scatter",
         "x": [
          2001,
          2002,
          2003,
          2004,
          2005,
          2006,
          2007,
          2008,
          2009,
          2010,
          2011,
          2012,
          2013,
          2014,
          2015,
          2016,
          2017,
          2018,
          2019,
          2020,
          2021
         ],
         "xaxis": "x",
         "y": [
          12255,
          11113,
          11057,
          11828,
          13117,
          14010,
          14555,
          15485,
          14726,
          15391,
          11889,
          16318,
          24852,
          27885,
          33993,
          33578,
          25557,
          28138,
          29529,
          158,
          198
         ],
         "yaxis": "y"
        },
        {
         "hovertemplate": "Estado=ODISHA<br>Año=%{x}<br>Número total de crímenes=%{y}<extra></extra>",
         "legendgroup": "ODISHA",
         "line": {
          "color": "#FF6692",
          "dash": "solid"
         },
         "marker": {
          "symbol": "circle"
         },
         "mode": "lines",
         "name": "ODISHA",
         "orientation": "v",
         "showlegend": true,
         "type": "scatter",
         "x": [
          2001,
          2002,
          2003,
          2004,
          2005,
          2006,
          2007,
          2008,
          2009,
          2010,
          2011,
          2012,
          2013,
          2014,
          2015,
          2016,
          2017,
          2018,
          2019,
          2020,
          2021
         ],
         "xaxis": "x",
         "y": [
          4897,
          4331,
          4523,
          4685,
          5773,
          5387,
          5804,
          6958,
          7161,
          7534,
          5163,
          10500,
          12157,
          14551,
          16219,
          16721,
          17337,
          16374,
          20260,
          3847,
          4592
         ],
         "yaxis": "y"
        },
        {
         "hovertemplate": "Estado=RAJASTHAN<br>Año=%{x}<br>Número total de crímenes=%{y}<extra></extra>",
         "legendgroup": "RAJASTHAN",
         "line": {
          "color": "#B6E880",
          "dash": "solid"
         },
         "marker": {
          "symbol": "circle"
         },
         "mode": "lines",
         "name": "RAJASTHAN",
         "orientation": "v",
         "showlegend": true,
         "type": "scatter",
         "x": [
          2001,
          2002,
          2003,
          2004,
          2005,
          2006,
          2007,
          2008,
          2009,
          2010,
          2011,
          2012,
          2013,
          2014,
          2015,
          2016,
          2017,
          2018,
          2019,
          2020,
          2021
         ],
         "xaxis": "x",
         "y": [
          12057,
          11934,
          11671,
          12946,
          11431,
          12686,
          14046,
          14309,
          17145,
          18017,
          17335,
          21005,
          27807,
          30901,
          28205,
          27317,
          24101,
          26581,
          39699,
          42,
          29
         ],
         "yaxis": "y"
        },
        {
         "hovertemplate": "Estado=UTTAR PRADESH<br>Año=%{x}<br>Número total de crímenes=%{y}<extra></extra>",
         "legendgroup": "UTTAR PRADESH",
         "line": {
          "color": "#FF97FF",
          "dash": "solid"
         },
         "marker": {
          "symbol": "circle"
         },
         "mode": "lines",
         "name": "UTTAR PRADESH",
         "orientation": "v",
         "showlegend": true,
         "type": "scatter",
         "x": [
          2001,
          2002,
          2003,
          2004,
          2005,
          2006,
          2007,
          2008,
          2009,
          2010,
          2011,
          2012,
          2013,
          2014,
          2015,
          2016,
          2017,
          2018,
          2019,
          2020,
          2021
         ],
         "xaxis": "x",
         "y": [
          19858,
          15317,
          12426,
          14964,
          14258,
          15677,
          20141,
          23188,
          22941,
          20030,
          19056,
          23064,
          31268,
          39774,
          37998,
          52246,
          47139,
          48603,
          47480,
          2094,
          2212
         ],
         "yaxis": "y"
        },
        {
         "hovertemplate": "Estado=WEST BENGAL<br>Año=%{x}<br>Número total de crímenes=%{y}<extra></extra>",
         "legendgroup": "WEST BENGAL",
         "line": {
          "color": "#FECB52",
          "dash": "solid"
         },
         "marker": {
          "symbol": "circle"
         },
         "mode": "lines",
         "name": "WEST BENGAL",
         "orientation": "v",
         "showlegend": true,
         "type": "scatter",
         "x": [
          2001,
          2002,
          2003,
          2004,
          2005,
          2006,
          2007,
          2008,
          2009,
          2010,
          2011,
          2012,
          2013,
          2014,
          2015,
          2016,
          2017,
          2018,
          2019,
          2020,
          2021
         ],
         "xaxis": "x",
         "y": [
          6533,
          6794,
          8338,
          10865,
          11794,
          12690,
          16432,
          20779,
          23196,
          26014,
          26652,
          30682,
          29706,
          36516,
          31642,
          30368,
          26962,
          26600,
          26600,
          23,
          56
         ],
         "yaxis": "y"
        }
       ],
       "layout": {
        "hovermode": "x unified",
        "legend": {
         "title": {
          "text": "Estado"
         },
         "tracegroupgap": 0
        },
        "template": {
         "data": {
          "bar": [
           {
            "error_x": {
             "color": "#2a3f5f"
            },
            "error_y": {
             "color": "#2a3f5f"
            },
            "marker": {
             "line": {
              "color": "#E5ECF6",
              "width": 0.5
             },
             "pattern": {
              "fillmode": "overlay",
              "size": 10,
              "solidity": 0.2
             }
            },
            "type": "bar"
           }
          ],
          "barpolar": [
           {
            "marker": {
             "line": {
              "color": "#E5ECF6",
              "width": 0.5
             },
             "pattern": {
              "fillmode": "overlay",
              "size": 10,
              "solidity": 0.2
             }
            },
            "type": "barpolar"
           }
          ],
          "carpet": [
           {
            "aaxis": {
             "endlinecolor": "#2a3f5f",
             "gridcolor": "white",
             "linecolor": "white",
             "minorgridcolor": "white",
             "startlinecolor": "#2a3f5f"
            },
            "baxis": {
             "endlinecolor": "#2a3f5f",
             "gridcolor": "white",
             "linecolor": "white",
             "minorgridcolor": "white",
             "startlinecolor": "#2a3f5f"
            },
            "type": "carpet"
           }
          ],
          "choropleth": [
           {
            "colorbar": {
             "outlinewidth": 0,
             "ticks": ""
            },
            "type": "choropleth"
           }
          ],
          "contour": [
           {
            "colorbar": {
             "outlinewidth": 0,
             "ticks": ""
            },
            "colorscale": [
             [
              0,
              "#0d0887"
             ],
             [
              0.1111111111111111,
              "#46039f"
             ],
             [
              0.2222222222222222,
              "#7201a8"
             ],
             [
              0.3333333333333333,
              "#9c179e"
             ],
             [
              0.4444444444444444,
              "#bd3786"
             ],
             [
              0.5555555555555556,
              "#d8576b"
             ],
             [
              0.6666666666666666,
              "#ed7953"
             ],
             [
              0.7777777777777778,
              "#fb9f3a"
             ],
             [
              0.8888888888888888,
              "#fdca26"
             ],
             [
              1,
              "#f0f921"
             ]
            ],
            "type": "contour"
           }
          ],
          "contourcarpet": [
           {
            "colorbar": {
             "outlinewidth": 0,
             "ticks": ""
            },
            "type": "contourcarpet"
           }
          ],
          "heatmap": [
           {
            "colorbar": {
             "outlinewidth": 0,
             "ticks": ""
            },
            "colorscale": [
             [
              0,
              "#0d0887"
             ],
             [
              0.1111111111111111,
              "#46039f"
             ],
             [
              0.2222222222222222,
              "#7201a8"
             ],
             [
              0.3333333333333333,
              "#9c179e"
             ],
             [
              0.4444444444444444,
              "#bd3786"
             ],
             [
              0.5555555555555556,
              "#d8576b"
             ],
             [
              0.6666666666666666,
              "#ed7953"
             ],
             [
              0.7777777777777778,
              "#fb9f3a"
             ],
             [
              0.8888888888888888,
              "#fdca26"
             ],
             [
              1,
              "#f0f921"
             ]
            ],
            "type": "heatmap"
           }
          ],
          "heatmapgl": [
           {
            "colorbar": {
             "outlinewidth": 0,
             "ticks": ""
            },
            "colorscale": [
             [
              0,
              "#0d0887"
             ],
             [
              0.1111111111111111,
              "#46039f"
             ],
             [
              0.2222222222222222,
              "#7201a8"
             ],
             [
              0.3333333333333333,
              "#9c179e"
             ],
             [
              0.4444444444444444,
              "#bd3786"
             ],
             [
              0.5555555555555556,
              "#d8576b"
             ],
             [
              0.6666666666666666,
              "#ed7953"
             ],
             [
              0.7777777777777778,
              "#fb9f3a"
             ],
             [
              0.8888888888888888,
              "#fdca26"
             ],
             [
              1,
              "#f0f921"
             ]
            ],
            "type": "heatmapgl"
           }
          ],
          "histogram": [
           {
            "marker": {
             "pattern": {
              "fillmode": "overlay",
              "size": 10,
              "solidity": 0.2
             }
            },
            "type": "histogram"
           }
          ],
          "histogram2d": [
           {
            "colorbar": {
             "outlinewidth": 0,
             "ticks": ""
            },
            "colorscale": [
             [
              0,
              "#0d0887"
             ],
             [
              0.1111111111111111,
              "#46039f"
             ],
             [
              0.2222222222222222,
              "#7201a8"
             ],
             [
              0.3333333333333333,
              "#9c179e"
             ],
             [
              0.4444444444444444,
              "#bd3786"
             ],
             [
              0.5555555555555556,
              "#d8576b"
             ],
             [
              0.6666666666666666,
              "#ed7953"
             ],
             [
              0.7777777777777778,
              "#fb9f3a"
             ],
             [
              0.8888888888888888,
              "#fdca26"
             ],
             [
              1,
              "#f0f921"
             ]
            ],
            "type": "histogram2d"
           }
          ],
          "histogram2dcontour": [
           {
            "colorbar": {
             "outlinewidth": 0,
             "ticks": ""
            },
            "colorscale": [
             [
              0,
              "#0d0887"
             ],
             [
              0.1111111111111111,
              "#46039f"
             ],
             [
              0.2222222222222222,
              "#7201a8"
             ],
             [
              0.3333333333333333,
              "#9c179e"
             ],
             [
              0.4444444444444444,
              "#bd3786"
             ],
             [
              0.5555555555555556,
              "#d8576b"
             ],
             [
              0.6666666666666666,
              "#ed7953"
             ],
             [
              0.7777777777777778,
              "#fb9f3a"
             ],
             [
              0.8888888888888888,
              "#fdca26"
             ],
             [
              1,
              "#f0f921"
             ]
            ],
            "type": "histogram2dcontour"
           }
          ],
          "mesh3d": [
           {
            "colorbar": {
             "outlinewidth": 0,
             "ticks": ""
            },
            "type": "mesh3d"
           }
          ],
          "parcoords": [
           {
            "line": {
             "colorbar": {
              "outlinewidth": 0,
              "ticks": ""
             }
            },
            "type": "parcoords"
           }
          ],
          "pie": [
           {
            "automargin": true,
            "type": "pie"
           }
          ],
          "scatter": [
           {
            "fillpattern": {
             "fillmode": "overlay",
             "size": 10,
             "solidity": 0.2
            },
            "type": "scatter"
           }
          ],
          "scatter3d": [
           {
            "line": {
             "colorbar": {
              "outlinewidth": 0,
              "ticks": ""
             }
            },
            "marker": {
             "colorbar": {
              "outlinewidth": 0,
              "ticks": ""
             }
            },
            "type": "scatter3d"
           }
          ],
          "scattercarpet": [
           {
            "marker": {
             "colorbar": {
              "outlinewidth": 0,
              "ticks": ""
             }
            },
            "type": "scattercarpet"
           }
          ],
          "scattergeo": [
           {
            "marker": {
             "colorbar": {
              "outlinewidth": 0,
              "ticks": ""
             }
            },
            "type": "scattergeo"
           }
          ],
          "scattergl": [
           {
            "marker": {
             "colorbar": {
              "outlinewidth": 0,
              "ticks": ""
             }
            },
            "type": "scattergl"
           }
          ],
          "scattermapbox": [
           {
            "marker": {
             "colorbar": {
              "outlinewidth": 0,
              "ticks": ""
             }
            },
            "type": "scattermapbox"
           }
          ],
          "scatterpolar": [
           {
            "marker": {
             "colorbar": {
              "outlinewidth": 0,
              "ticks": ""
             }
            },
            "type": "scatterpolar"
           }
          ],
          "scatterpolargl": [
           {
            "marker": {
             "colorbar": {
              "outlinewidth": 0,
              "ticks": ""
             }
            },
            "type": "scatterpolargl"
           }
          ],
          "scatterternary": [
           {
            "marker": {
             "colorbar": {
              "outlinewidth": 0,
              "ticks": ""
             }
            },
            "type": "scatterternary"
           }
          ],
          "surface": [
           {
            "colorbar": {
             "outlinewidth": 0,
             "ticks": ""
            },
            "colorscale": [
             [
              0,
              "#0d0887"
             ],
             [
              0.1111111111111111,
              "#46039f"
             ],
             [
              0.2222222222222222,
              "#7201a8"
             ],
             [
              0.3333333333333333,
              "#9c179e"
             ],
             [
              0.4444444444444444,
              "#bd3786"
             ],
             [
              0.5555555555555556,
              "#d8576b"
             ],
             [
              0.6666666666666666,
              "#ed7953"
             ],
             [
              0.7777777777777778,
              "#fb9f3a"
             ],
             [
              0.8888888888888888,
              "#fdca26"
             ],
             [
              1,
              "#f0f921"
             ]
            ],
            "type": "surface"
           }
          ],
          "table": [
           {
            "cells": {
             "fill": {
              "color": "#EBF0F8"
             },
             "line": {
              "color": "white"
             }
            },
            "header": {
             "fill": {
              "color": "#C8D4E3"
             },
             "line": {
              "color": "white"
             }
            },
            "type": "table"
           }
          ]
         },
         "layout": {
          "annotationdefaults": {
           "arrowcolor": "#2a3f5f",
           "arrowhead": 0,
           "arrowwidth": 1
          },
          "autotypenumbers": "strict",
          "coloraxis": {
           "colorbar": {
            "outlinewidth": 0,
            "ticks": ""
           }
          },
          "colorscale": {
           "diverging": [
            [
             0,
             "#8e0152"
            ],
            [
             0.1,
             "#c51b7d"
            ],
            [
             0.2,
             "#de77ae"
            ],
            [
             0.3,
             "#f1b6da"
            ],
            [
             0.4,
             "#fde0ef"
            ],
            [
             0.5,
             "#f7f7f7"
            ],
            [
             0.6,
             "#e6f5d0"
            ],
            [
             0.7,
             "#b8e186"
            ],
            [
             0.8,
             "#7fbc41"
            ],
            [
             0.9,
             "#4d9221"
            ],
            [
             1,
             "#276419"
            ]
           ],
           "sequential": [
            [
             0,
             "#0d0887"
            ],
            [
             0.1111111111111111,
             "#46039f"
            ],
            [
             0.2222222222222222,
             "#7201a8"
            ],
            [
             0.3333333333333333,
             "#9c179e"
            ],
            [
             0.4444444444444444,
             "#bd3786"
            ],
            [
             0.5555555555555556,
             "#d8576b"
            ],
            [
             0.6666666666666666,
             "#ed7953"
            ],
            [
             0.7777777777777778,
             "#fb9f3a"
            ],
            [
             0.8888888888888888,
             "#fdca26"
            ],
            [
             1,
             "#f0f921"
            ]
           ],
           "sequentialminus": [
            [
             0,
             "#0d0887"
            ],
            [
             0.1111111111111111,
             "#46039f"
            ],
            [
             0.2222222222222222,
             "#7201a8"
            ],
            [
             0.3333333333333333,
             "#9c179e"
            ],
            [
             0.4444444444444444,
             "#bd3786"
            ],
            [
             0.5555555555555556,
             "#d8576b"
            ],
            [
             0.6666666666666666,
             "#ed7953"
            ],
            [
             0.7777777777777778,
             "#fb9f3a"
            ],
            [
             0.8888888888888888,
             "#fdca26"
            ],
            [
             1,
             "#f0f921"
            ]
           ]
          },
          "colorway": [
           "#636efa",
           "#EF553B",
           "#00cc96",
           "#ab63fa",
           "#FFA15A",
           "#19d3f3",
           "#FF6692",
           "#B6E880",
           "#FF97FF",
           "#FECB52"
          ],
          "font": {
           "color": "#2a3f5f"
          },
          "geo": {
           "bgcolor": "white",
           "lakecolor": "white",
           "landcolor": "#E5ECF6",
           "showlakes": true,
           "showland": true,
           "subunitcolor": "white"
          },
          "hoverlabel": {
           "align": "left"
          },
          "hovermode": "closest",
          "mapbox": {
           "style": "light"
          },
          "paper_bgcolor": "white",
          "plot_bgcolor": "#E5ECF6",
          "polar": {
           "angularaxis": {
            "gridcolor": "white",
            "linecolor": "white",
            "ticks": ""
           },
           "bgcolor": "#E5ECF6",
           "radialaxis": {
            "gridcolor": "white",
            "linecolor": "white",
            "ticks": ""
           }
          },
          "scene": {
           "xaxis": {
            "backgroundcolor": "#E5ECF6",
            "gridcolor": "white",
            "gridwidth": 2,
            "linecolor": "white",
            "showbackground": true,
            "ticks": "",
            "zerolinecolor": "white"
           },
           "yaxis": {
            "backgroundcolor": "#E5ECF6",
            "gridcolor": "white",
            "gridwidth": 2,
            "linecolor": "white",
            "showbackground": true,
            "ticks": "",
            "zerolinecolor": "white"
           },
           "zaxis": {
            "backgroundcolor": "#E5ECF6",
            "gridcolor": "white",
            "gridwidth": 2,
            "linecolor": "white",
            "showbackground": true,
            "ticks": "",
            "zerolinecolor": "white"
           }
          },
          "shapedefaults": {
           "line": {
            "color": "#2a3f5f"
           }
          },
          "ternary": {
           "aaxis": {
            "gridcolor": "white",
            "linecolor": "white",
            "ticks": ""
           },
           "baxis": {
            "gridcolor": "white",
            "linecolor": "white",
            "ticks": ""
           },
           "bgcolor": "#E5ECF6",
           "caxis": {
            "gridcolor": "white",
            "linecolor": "white",
            "ticks": ""
           }
          },
          "title": {
           "x": 0.05
          },
          "xaxis": {
           "automargin": true,
           "gridcolor": "white",
           "linecolor": "white",
           "ticks": "",
           "title": {
            "standoff": 15
           },
           "zerolinecolor": "white",
           "zerolinewidth": 2
          },
          "yaxis": {
           "automargin": true,
           "gridcolor": "white",
           "linecolor": "white",
           "ticks": "",
           "title": {
            "standoff": 15
           },
           "zerolinecolor": "white",
           "zerolinewidth": 2
          }
         }
        },
        "title": {
         "text": "Tendencias de crímenes en los 10 estados con mayor incidencia en India (2001-2021)"
        },
        "xaxis": {
         "anchor": "y",
         "domain": [
          0,
          1
         ],
         "dtick": 1,
         "tickmode": "linear",
         "title": {
          "text": "Año"
         }
        },
        "yaxis": {
         "anchor": "x",
         "domain": [
          0,
          1
         ],
         "tickformat": ",d",
         "title": {
          "text": "Número total de crímenes"
         }
        }
       }
      }
     },
     "metadata": {},
     "output_type": "display_data"
    }
   ],
   "source": [
    "# Crear el gráfico de líneas para los 10 estados con mayor incidencia\n",
    "fig = px.line(\n",
    "    regional_trend_top_10,\n",
    "    x='Año',\n",
    "    y='Total de crímenes',\n",
    "    color='Estado',\n",
    "    title='Tendencias de crímenes en los 10 estados con mayor incidencia en India (2001-2021)',\n",
    "    labels={'Año': 'Año', 'Total de crímenes': 'Número total de crímenes', 'Estado': 'Estado'}\n",
    ")\n",
    "\n",
    "# Ajustar el diseño del gráfico\n",
    "fig.update_layout(\n",
    "    xaxis_title='Año',\n",
    "    yaxis_title='Número total de crímenes',\n",
    "    xaxis=dict(\n",
    "        tickmode='linear',\n",
    "        dtick=1\n",
    "    ),\n",
    "    yaxis=dict(\n",
    "        tickformat=',d'\n",
    "    ),\n",
    "    hovermode='x unified'\n",
    ")\n",
    "\n",
    "# Mostrar el gráfico\n",
    "fig.show()\n"
   ]
  },
  {
   "cell_type": "code",
   "execution_count": 21,
   "metadata": {},
   "outputs": [
    {
     "data": {
      "application/vnd.plotly.v1+json": {
       "config": {
        "plotlyServerURL": "https://plot.ly"
       },
       "data": [
        {
         "alignmentgroup": "True",
         "cliponaxis": false,
         "hovertemplate": "Estado=%{x}<br>Número de casos=%{text}<extra></extra>",
         "legendgroup": "",
         "marker": {
          "color": "#636efa",
          "pattern": {
           "shape": ""
          }
         },
         "name": "",
         "offsetgroup": "",
         "orientation": "v",
         "showlegend": false,
         "text": [
          424,
          23424,
          1153,
          32190,
          21006,
          795,
          25178,
          49,
          2294,
          619,
          13065,
          1019,
          9940,
          17776,
          4474,
          7656,
          18054,
          12723,
          24184,
          20,
          72808,
          39252,
          905,
          1971,
          1241,
          3037,
          24810,
          140,
          23062,
          43799,
          1237,
          11633,
          5533,
          8844,
          45694,
          6207,
          29486
         ],
         "textposition": "outside",
         "texttemplate": "%{text}",
         "type": "bar",
         "x": [
          "A & N ISLANDS",
          "ANDHRA PRADESH",
          "ARUNACHAL PRADESH",
          "ASSAM",
          "BIHAR",
          "CHANDIGARH",
          "CHHATTISGARH",
          "D & N HAVELI",
          "D&N HAVELI",
          "DAMAN & DIU",
          "DELHI UT",
          "GOA",
          "GUJARAT",
          "HARYANA",
          "HIMACHAL PRADESH",
          "JAMMU & KASHMIR",
          "JHARKHAND",
          "KARNATAKA",
          "KERALA",
          "LAKSHADWEEP",
          "MADHYA PRADESH",
          "MAHARASHTRA",
          "MANIPUR",
          "MEGHALAYA",
          "MIZORAM",
          "NAGALAND",
          "ODISHA",
          "PUDUCHERRY",
          "PUNJAB",
          "RAJASTHAN",
          "SIKKIM",
          "TAMIL NADU",
          "TELANGANA",
          "TRIPURA",
          "UTTAR PRADESH",
          "UTTARAKHAND",
          "WEST BENGAL"
         ],
         "xaxis": "x",
         "y": [
          424,
          23424,
          1153,
          32190,
          21006,
          795,
          25178,
          49,
          2294,
          619,
          13065,
          1019,
          9940,
          17776,
          4474,
          7656,
          18054,
          12723,
          24184,
          20,
          72808,
          39252,
          905,
          1971,
          1241,
          3037,
          24810,
          140,
          23062,
          43799,
          1237,
          11633,
          5533,
          8844,
          45694,
          6207,
          29486
         ],
         "yaxis": "y"
        }
       ],
       "layout": {
        "barmode": "relative",
        "legend": {
         "tracegroupgap": 0
        },
        "template": {
         "data": {
          "bar": [
           {
            "error_x": {
             "color": "#2a3f5f"
            },
            "error_y": {
             "color": "#2a3f5f"
            },
            "marker": {
             "line": {
              "color": "#E5ECF6",
              "width": 0.5
             },
             "pattern": {
              "fillmode": "overlay",
              "size": 10,
              "solidity": 0.2
             }
            },
            "type": "bar"
           }
          ],
          "barpolar": [
           {
            "marker": {
             "line": {
              "color": "#E5ECF6",
              "width": 0.5
             },
             "pattern": {
              "fillmode": "overlay",
              "size": 10,
              "solidity": 0.2
             }
            },
            "type": "barpolar"
           }
          ],
          "carpet": [
           {
            "aaxis": {
             "endlinecolor": "#2a3f5f",
             "gridcolor": "white",
             "linecolor": "white",
             "minorgridcolor": "white",
             "startlinecolor": "#2a3f5f"
            },
            "baxis": {
             "endlinecolor": "#2a3f5f",
             "gridcolor": "white",
             "linecolor": "white",
             "minorgridcolor": "white",
             "startlinecolor": "#2a3f5f"
            },
            "type": "carpet"
           }
          ],
          "choropleth": [
           {
            "colorbar": {
             "outlinewidth": 0,
             "ticks": ""
            },
            "type": "choropleth"
           }
          ],
          "contour": [
           {
            "colorbar": {
             "outlinewidth": 0,
             "ticks": ""
            },
            "colorscale": [
             [
              0,
              "#0d0887"
             ],
             [
              0.1111111111111111,
              "#46039f"
             ],
             [
              0.2222222222222222,
              "#7201a8"
             ],
             [
              0.3333333333333333,
              "#9c179e"
             ],
             [
              0.4444444444444444,
              "#bd3786"
             ],
             [
              0.5555555555555556,
              "#d8576b"
             ],
             [
              0.6666666666666666,
              "#ed7953"
             ],
             [
              0.7777777777777778,
              "#fb9f3a"
             ],
             [
              0.8888888888888888,
              "#fdca26"
             ],
             [
              1,
              "#f0f921"
             ]
            ],
            "type": "contour"
           }
          ],
          "contourcarpet": [
           {
            "colorbar": {
             "outlinewidth": 0,
             "ticks": ""
            },
            "type": "contourcarpet"
           }
          ],
          "heatmap": [
           {
            "colorbar": {
             "outlinewidth": 0,
             "ticks": ""
            },
            "colorscale": [
             [
              0,
              "#0d0887"
             ],
             [
              0.1111111111111111,
              "#46039f"
             ],
             [
              0.2222222222222222,
              "#7201a8"
             ],
             [
              0.3333333333333333,
              "#9c179e"
             ],
             [
              0.4444444444444444,
              "#bd3786"
             ],
             [
              0.5555555555555556,
              "#d8576b"
             ],
             [
              0.6666666666666666,
              "#ed7953"
             ],
             [
              0.7777777777777778,
              "#fb9f3a"
             ],
             [
              0.8888888888888888,
              "#fdca26"
             ],
             [
              1,
              "#f0f921"
             ]
            ],
            "type": "heatmap"
           }
          ],
          "heatmapgl": [
           {
            "colorbar": {
             "outlinewidth": 0,
             "ticks": ""
            },
            "colorscale": [
             [
              0,
              "#0d0887"
             ],
             [
              0.1111111111111111,
              "#46039f"
             ],
             [
              0.2222222222222222,
              "#7201a8"
             ],
             [
              0.3333333333333333,
              "#9c179e"
             ],
             [
              0.4444444444444444,
              "#bd3786"
             ],
             [
              0.5555555555555556,
              "#d8576b"
             ],
             [
              0.6666666666666666,
              "#ed7953"
             ],
             [
              0.7777777777777778,
              "#fb9f3a"
             ],
             [
              0.8888888888888888,
              "#fdca26"
             ],
             [
              1,
              "#f0f921"
             ]
            ],
            "type": "heatmapgl"
           }
          ],
          "histogram": [
           {
            "marker": {
             "pattern": {
              "fillmode": "overlay",
              "size": 10,
              "solidity": 0.2
             }
            },
            "type": "histogram"
           }
          ],
          "histogram2d": [
           {
            "colorbar": {
             "outlinewidth": 0,
             "ticks": ""
            },
            "colorscale": [
             [
              0,
              "#0d0887"
             ],
             [
              0.1111111111111111,
              "#46039f"
             ],
             [
              0.2222222222222222,
              "#7201a8"
             ],
             [
              0.3333333333333333,
              "#9c179e"
             ],
             [
              0.4444444444444444,
              "#bd3786"
             ],
             [
              0.5555555555555556,
              "#d8576b"
             ],
             [
              0.6666666666666666,
              "#ed7953"
             ],
             [
              0.7777777777777778,
              "#fb9f3a"
             ],
             [
              0.8888888888888888,
              "#fdca26"
             ],
             [
              1,
              "#f0f921"
             ]
            ],
            "type": "histogram2d"
           }
          ],
          "histogram2dcontour": [
           {
            "colorbar": {
             "outlinewidth": 0,
             "ticks": ""
            },
            "colorscale": [
             [
              0,
              "#0d0887"
             ],
             [
              0.1111111111111111,
              "#46039f"
             ],
             [
              0.2222222222222222,
              "#7201a8"
             ],
             [
              0.3333333333333333,
              "#9c179e"
             ],
             [
              0.4444444444444444,
              "#bd3786"
             ],
             [
              0.5555555555555556,
              "#d8576b"
             ],
             [
              0.6666666666666666,
              "#ed7953"
             ],
             [
              0.7777777777777778,
              "#fb9f3a"
             ],
             [
              0.8888888888888888,
              "#fdca26"
             ],
             [
              1,
              "#f0f921"
             ]
            ],
            "type": "histogram2dcontour"
           }
          ],
          "mesh3d": [
           {
            "colorbar": {
             "outlinewidth": 0,
             "ticks": ""
            },
            "type": "mesh3d"
           }
          ],
          "parcoords": [
           {
            "line": {
             "colorbar": {
              "outlinewidth": 0,
              "ticks": ""
             }
            },
            "type": "parcoords"
           }
          ],
          "pie": [
           {
            "automargin": true,
            "type": "pie"
           }
          ],
          "scatter": [
           {
            "fillpattern": {
             "fillmode": "overlay",
             "size": 10,
             "solidity": 0.2
            },
            "type": "scatter"
           }
          ],
          "scatter3d": [
           {
            "line": {
             "colorbar": {
              "outlinewidth": 0,
              "ticks": ""
             }
            },
            "marker": {
             "colorbar": {
              "outlinewidth": 0,
              "ticks": ""
             }
            },
            "type": "scatter3d"
           }
          ],
          "scattercarpet": [
           {
            "marker": {
             "colorbar": {
              "outlinewidth": 0,
              "ticks": ""
             }
            },
            "type": "scattercarpet"
           }
          ],
          "scattergeo": [
           {
            "marker": {
             "colorbar": {
              "outlinewidth": 0,
              "ticks": ""
             }
            },
            "type": "scattergeo"
           }
          ],
          "scattergl": [
           {
            "marker": {
             "colorbar": {
              "outlinewidth": 0,
              "ticks": ""
             }
            },
            "type": "scattergl"
           }
          ],
          "scattermapbox": [
           {
            "marker": {
             "colorbar": {
              "outlinewidth": 0,
              "ticks": ""
             }
            },
            "type": "scattermapbox"
           }
          ],
          "scatterpolar": [
           {
            "marker": {
             "colorbar": {
              "outlinewidth": 0,
              "ticks": ""
             }
            },
            "type": "scatterpolar"
           }
          ],
          "scatterpolargl": [
           {
            "marker": {
             "colorbar": {
              "outlinewidth": 0,
              "ticks": ""
             }
            },
            "type": "scatterpolargl"
           }
          ],
          "scatterternary": [
           {
            "marker": {
             "colorbar": {
              "outlinewidth": 0,
              "ticks": ""
             }
            },
            "type": "scatterternary"
           }
          ],
          "surface": [
           {
            "colorbar": {
             "outlinewidth": 0,
             "ticks": ""
            },
            "colorscale": [
             [
              0,
              "#0d0887"
             ],
             [
              0.1111111111111111,
              "#46039f"
             ],
             [
              0.2222222222222222,
              "#7201a8"
             ],
             [
              0.3333333333333333,
              "#9c179e"
             ],
             [
              0.4444444444444444,
              "#bd3786"
             ],
             [
              0.5555555555555556,
              "#d8576b"
             ],
             [
              0.6666666666666666,
              "#ed7953"
             ],
             [
              0.7777777777777778,
              "#fb9f3a"
             ],
             [
              0.8888888888888888,
              "#fdca26"
             ],
             [
              1,
              "#f0f921"
             ]
            ],
            "type": "surface"
           }
          ],
          "table": [
           {
            "cells": {
             "fill": {
              "color": "#EBF0F8"
             },
             "line": {
              "color": "white"
             }
            },
            "header": {
             "fill": {
              "color": "#C8D4E3"
             },
             "line": {
              "color": "white"
             }
            },
            "type": "table"
           }
          ]
         },
         "layout": {
          "annotationdefaults": {
           "arrowcolor": "#2a3f5f",
           "arrowhead": 0,
           "arrowwidth": 1
          },
          "autotypenumbers": "strict",
          "coloraxis": {
           "colorbar": {
            "outlinewidth": 0,
            "ticks": ""
           }
          },
          "colorscale": {
           "diverging": [
            [
             0,
             "#8e0152"
            ],
            [
             0.1,
             "#c51b7d"
            ],
            [
             0.2,
             "#de77ae"
            ],
            [
             0.3,
             "#f1b6da"
            ],
            [
             0.4,
             "#fde0ef"
            ],
            [
             0.5,
             "#f7f7f7"
            ],
            [
             0.6,
             "#e6f5d0"
            ],
            [
             0.7,
             "#b8e186"
            ],
            [
             0.8,
             "#7fbc41"
            ],
            [
             0.9,
             "#4d9221"
            ],
            [
             1,
             "#276419"
            ]
           ],
           "sequential": [
            [
             0,
             "#0d0887"
            ],
            [
             0.1111111111111111,
             "#46039f"
            ],
            [
             0.2222222222222222,
             "#7201a8"
            ],
            [
             0.3333333333333333,
             "#9c179e"
            ],
            [
             0.4444444444444444,
             "#bd3786"
            ],
            [
             0.5555555555555556,
             "#d8576b"
            ],
            [
             0.6666666666666666,
             "#ed7953"
            ],
            [
             0.7777777777777778,
             "#fb9f3a"
            ],
            [
             0.8888888888888888,
             "#fdca26"
            ],
            [
             1,
             "#f0f921"
            ]
           ],
           "sequentialminus": [
            [
             0,
             "#0d0887"
            ],
            [
             0.1111111111111111,
             "#46039f"
            ],
            [
             0.2222222222222222,
             "#7201a8"
            ],
            [
             0.3333333333333333,
             "#9c179e"
            ],
            [
             0.4444444444444444,
             "#bd3786"
            ],
            [
             0.5555555555555556,
             "#d8576b"
            ],
            [
             0.6666666666666666,
             "#ed7953"
            ],
            [
             0.7777777777777778,
             "#fb9f3a"
            ],
            [
             0.8888888888888888,
             "#fdca26"
            ],
            [
             1,
             "#f0f921"
            ]
           ]
          },
          "colorway": [
           "#636efa",
           "#EF553B",
           "#00cc96",
           "#ab63fa",
           "#FFA15A",
           "#19d3f3",
           "#FF6692",
           "#B6E880",
           "#FF97FF",
           "#FECB52"
          ],
          "font": {
           "color": "#2a3f5f"
          },
          "geo": {
           "bgcolor": "white",
           "lakecolor": "white",
           "landcolor": "#E5ECF6",
           "showlakes": true,
           "showland": true,
           "subunitcolor": "white"
          },
          "hoverlabel": {
           "align": "left"
          },
          "hovermode": "closest",
          "mapbox": {
           "style": "light"
          },
          "paper_bgcolor": "white",
          "plot_bgcolor": "#E5ECF6",
          "polar": {
           "angularaxis": {
            "gridcolor": "white",
            "linecolor": "white",
            "ticks": ""
           },
           "bgcolor": "#E5ECF6",
           "radialaxis": {
            "gridcolor": "white",
            "linecolor": "white",
            "ticks": ""
           }
          },
          "scene": {
           "xaxis": {
            "backgroundcolor": "#E5ECF6",
            "gridcolor": "white",
            "gridwidth": 2,
            "linecolor": "white",
            "showbackground": true,
            "ticks": "",
            "zerolinecolor": "white"
           },
           "yaxis": {
            "backgroundcolor": "#E5ECF6",
            "gridcolor": "white",
            "gridwidth": 2,
            "linecolor": "white",
            "showbackground": true,
            "ticks": "",
            "zerolinecolor": "white"
           },
           "zaxis": {
            "backgroundcolor": "#E5ECF6",
            "gridcolor": "white",
            "gridwidth": 2,
            "linecolor": "white",
            "showbackground": true,
            "ticks": "",
            "zerolinecolor": "white"
           }
          },
          "shapedefaults": {
           "line": {
            "color": "#2a3f5f"
           }
          },
          "ternary": {
           "aaxis": {
            "gridcolor": "white",
            "linecolor": "white",
            "ticks": ""
           },
           "baxis": {
            "gridcolor": "white",
            "linecolor": "white",
            "ticks": ""
           },
           "bgcolor": "#E5ECF6",
           "caxis": {
            "gridcolor": "white",
            "linecolor": "white",
            "ticks": ""
           }
          },
          "title": {
           "x": 0.05
          },
          "xaxis": {
           "automargin": true,
           "gridcolor": "white",
           "linecolor": "white",
           "ticks": "",
           "title": {
            "standoff": 15
           },
           "zerolinecolor": "white",
           "zerolinewidth": 2
          },
          "yaxis": {
           "automargin": true,
           "gridcolor": "white",
           "linecolor": "white",
           "ticks": "",
           "title": {
            "standoff": 15
           },
           "zerolinecolor": "white",
           "zerolinewidth": 2
          }
         }
        },
        "title": {
         "text": "Número total de casos de violación por estado (2001-2021)"
        },
        "xaxis": {
         "anchor": "y",
         "domain": [
          0,
          1
         ],
         "tickangle": -90,
         "title": {
          "text": "Estado"
         }
        },
        "yaxis": {
         "anchor": "x",
         "domain": [
          0,
          1
         ],
         "title": {
          "text": "Número de casos"
         }
        }
       }
      }
     },
     "metadata": {},
     "output_type": "display_data"
    }
   ],
   "source": [
    "# Agrupamos los datos por estado y calculamos la suma total de cada tipo de crimen por estado.\n",
    "crimes_by_state = crimes_df_cleaned.groupby('Estado').sum().reset_index()\n",
    "\n",
    "# Crea un gráfico de barras interactivo usando Plotly\n",
    "fig = px.bar(crimes_by_state, \n",
    "             x='Estado', \n",
    "             y='Casos de violación', \n",
    "             title='Número total de casos de violación por estado (2001-2021)', \n",
    "             labels={'Casos de violación': 'Número de casos'},\n",
    "             text='Casos de violación')  # Añade el valor sobre las barras\n",
    "\n",
    "# Configura el diseño para mostrar los valores en el gráfico\n",
    "fig.update_traces(texttemplate='%{text}', textposition='outside', cliponaxis=False)\n",
    "\n",
    "# Ajusta el diseño del gráfico\n",
    "fig.update_layout(\n",
    "    xaxis_title='Estado',\n",
    "    yaxis_title='Número de casos',\n",
    "    xaxis_tickangle=-90\n",
    ")\n",
    "\n",
    "# Muestra el gráfico\n",
    "fig.show()"
   ]
  },
  {
   "cell_type": "code",
   "execution_count": 22,
   "metadata": {},
   "outputs": [
    {
     "data": {
      "image/png": "[encoded data removed]",
      "text/plain": [
       "<Figure size 1000x600 with 2 Axes>"
      ]
     },
     "metadata": {},
     "output_type": "display_data"
    }
   ],
   "source": [
    "# Calculamos la correlación entre los diferentes tipos de crímenes.\n",
    "correlation_matrix = crimes_df_cleaned[['Casos de violación', 'Secuestros y asaltos', 'Muertes por la dote', 'Asalto a mujeres', 'Violencia doméstica']].corr()\n",
    "\n",
    "# Visualizamos la matriz de correlación usando un mapa de calor.\n",
    "plt.figure(figsize=(10,6))\n",
    "sns.heatmap(correlation_matrix, annot=True, cmap='coolwarm', vmin=-1, vmax=1)\n",
    "plt.title('Matriz de correlación entre los diferentes tipos de crímenes')\n",
    "plt.show()\n"
   ]
  },
  {
   "cell_type": "code",
   "execution_count": 23,
   "metadata": {},
   "outputs": [
    {
     "name": "stdout",
     "output_type": "stream",
     "text": [
      "Matriz de correlación:\n",
      "                                         Casos de violación  \\\n",
      "Casos de violación                                 1.000000   \n",
      "Secuestros y asaltos                               0.926402   \n",
      "Muertes por la dote                                0.385711   \n",
      "Asalto a mujeres                                   0.843228   \n",
      "Asalto a menores (niñas y adolescentes)            0.460076   \n",
      "Violencia doméstica                                0.892958   \n",
      "Brujería                                           0.790396   \n",
      "Total de crímenes o delitos                        0.964727   \n",
      "\n",
      "                                         Secuestros y asaltos  \\\n",
      "Casos de violación                                   0.926402   \n",
      "Secuestros y asaltos                                 1.000000   \n",
      "Muertes por la dote                                  0.155775   \n",
      "Asalto a mujeres                                     0.890649   \n",
      "Asalto a menores (niñas y adolescentes)              0.162037   \n",
      "Violencia doméstica                                  0.904545   \n",
      "Brujería                                             0.672913   \n",
      "Total de crímenes o delitos                          0.973900   \n",
      "\n",
      "                                         Muertes por la dote  \\\n",
      "Casos de violación                                  0.385711   \n",
      "Secuestros y asaltos                                0.155775   \n",
      "Muertes por la dote                                 1.000000   \n",
      "Asalto a mujeres                                    0.014047   \n",
      "Asalto a menores (niñas y adolescentes)             0.365411   \n",
      "Violencia doméstica                                 0.444130   \n",
      "Brujería                                            0.455098   \n",
      "Total de crímenes o delitos                         0.271924   \n",
      "\n",
      "                                         Asalto a mujeres  \\\n",
      "Casos de violación                               0.843228   \n",
      "Secuestros y asaltos                             0.890649   \n",
      "Muertes por la dote                              0.014047   \n",
      "Asalto a mujeres                                 1.000000   \n",
      "Asalto a menores (niñas y adolescentes)          0.260461   \n",
      "Violencia doméstica                              0.737574   \n",
      "Brujería                                         0.448030   \n",
      "Total de crímenes o delitos                      0.917694   \n",
      "\n",
      "                                         Asalto a menores (niñas y adolescentes)  \\\n",
      "Casos de violación                                                      0.460076   \n",
      "Secuestros y asaltos                                                    0.162037   \n",
      "Muertes por la dote                                                     0.365411   \n",
      "Asalto a mujeres                                                        0.260461   \n",
      "Asalto a menores (niñas y adolescentes)                                 1.000000   \n",
      "Violencia doméstica                                                     0.202232   \n",
      "Brujería                                                                0.402695   \n",
      "Total de crímenes o delitos                                             0.314652   \n",
      "\n",
      "                                         Violencia doméstica  Brujería  \\\n",
      "Casos de violación                                  0.892958  0.790396   \n",
      "Secuestros y asaltos                                0.904545  0.672913   \n",
      "Muertes por la dote                                 0.444130  0.455098   \n",
      "Asalto a mujeres                                    0.737574  0.448030   \n",
      "Asalto a menores (niñas y adolescentes)             0.202232  0.402695   \n",
      "Violencia doméstica                                 1.000000  0.732387   \n",
      "Brujería                                            0.732387  1.000000   \n",
      "Total de crímenes o delitos                         0.932995  0.693084   \n",
      "\n",
      "                                         Total de crímenes o delitos  \n",
      "Casos de violación                                          0.964727  \n",
      "Secuestros y asaltos                                        0.973900  \n",
      "Muertes por la dote                                         0.271924  \n",
      "Asalto a mujeres                                            0.917694  \n",
      "Asalto a menores (niñas y adolescentes)                     0.314652  \n",
      "Violencia doméstica                                         0.932995  \n",
      "Brujería                                                    0.693084  \n",
      "Total de crímenes o delitos                                 1.000000  \n"
     ]
    },
    {
     "data": {
      "image/png": "[encoded data removed]",
      "text/plain": [
       "<Figure size 1000x800 with 2 Axes>"
      ]
     },
     "metadata": {},
     "output_type": "display_data"
    },
    {
     "data": {
      "application/vnd.plotly.v1+json": {
       "config": {
        "plotlyServerURL": "https://plot.ly"
       },
       "data": [
        {
         "hoverinfo": "x+y",
         "marker": {
          "size": 8
         },
         "mode": "markers",
         "name": "Casos de violación",
         "type": "scatter",
         "x": [
          257074,
          257944,
          256284,
          280144,
          278666,
          299484,
          340392,
          365514,
          381234,
          401068,
          357058,
          470050,
          596888,
          666432,
          647704,
          671538,
          611794,
          628186,
          667434,
          604372,
          696184
         ],
         "y": [
          15694,
          15970,
          15357,
          17682,
          17701,
          18725,
          20139,
          21001,
          20928,
          21665,
          24206,
          24923,
          33707,
          36735,
          34651,
          38947,
          32559,
          33356,
          32033,
          28046,
          31677
         ]
        },
        {
         "hoverinfo": "x+y",
         "marker": {
          "size": 8
         },
         "mode": "markers",
         "name": "Secuestros y asaltos",
         "type": "scatter",
         "x": [
          257074,
          257944,
          256284,
          280144,
          278666,
          299484,
          340392,
          365514,
          381234,
          401068,
          357058,
          470050,
          596888,
          666432,
          647704,
          671538,
          611794,
          628186,
          667434,
          604372,
          696184
         ],
         "y": [
          13681,
          13613,
          12499,
          14697,
          14644,
          16348,
          19249,
          21803,
          24086,
          28055,
          35565,
          38262,
          51881,
          57311,
          59277,
          64519,
          66333,
          72751,
          72780,
          62300,
          75369
         ]
        },
        {
         "hoverinfo": "x+y",
         "marker": {
          "size": 8
         },
         "mode": "markers",
         "name": "Muertes por la dote",
         "type": "scatter",
         "x": [
          257074,
          257944,
          256284,
          280144,
          278666,
          299484,
          340392,
          365514,
          381234,
          401068,
          357058,
          470050,
          596888,
          666432,
          647704,
          671538,
          611794,
          628186,
          667434,
          604372,
          696184
         ],
         "y": [
          6738,
          6687,
          6078,
          6900,
          6673,
          7481,
          7955,
          8043,
          8242,
          8248,
          8618,
          8233,
          8083,
          10050,
          7634,
          7621,
          7466,
          7166,
          7115,
          6966,
          6753
         ]
        },
        {
         "hoverinfo": "x+y",
         "marker": {
          "size": 8
         },
         "mode": "markers",
         "name": "Asalto a mujeres",
         "type": "scatter",
         "x": [
          257074,
          257944,
          256284,
          280144,
          278666,
          299484,
          340392,
          365514,
          381234,
          401068,
          357058,
          470050,
          596888,
          666432,
          647704,
          671538,
          611794,
          628186,
          667434,
          604372,
          696184
         ],
         "y": [
          33622,
          33497,
          32450,
          33966,
          33413,
          35899,
          37866,
          39802,
          38159,
          40012,
          0,
          45344,
          70739,
          82235,
          82422,
          84746,
          86001,
          89097,
          88367,
          85392,
          89200
         ]
        },
        {
         "hoverinfo": "x+y",
         "marker": {
          "size": 8
         },
         "mode": "markers",
         "name": "Asalto a menores (niñas y adolescentes)",
         "type": "scatter",
         "x": [
          257074,
          257944,
          256284,
          280144,
          278666,
          299484,
          340392,
          365514,
          381234,
          401068,
          357058,
          470050,
          596888,
          666432,
          647704,
          671538,
          611794,
          628186,
          667434,
          604372,
          696184
         ],
         "y": [
          9656,
          10027,
          12220,
          9871,
          9759,
          9822,
          10783,
          12084,
          10891,
          9881,
          8570,
          9173,
          12589,
          21938,
          24041,
          27344,
          7451,
          6992,
          6939,
          7065,
          7788
         ]
        },
        {
         "hoverinfo": "x+y",
         "marker": {
          "size": 8
         },
         "mode": "markers",
         "name": "Violencia doméstica",
         "type": "scatter",
         "x": [
          257074,
          257944,
          256284,
          280144,
          278666,
          299484,
          340392,
          365514,
          381234,
          401068,
          357058,
          470050,
          596888,
          666432,
          647704,
          671538,
          611794,
          628186,
          667434,
          604372,
          696184
         ],
         "y": [
          49032,
          49102,
          49492,
          56867,
          56995,
          61400,
          74143,
          79957,
          88263,
          92637,
          99135,
          106527,
          118866,
          122877,
          113403,
          110378,
          104551,
          103272,
          125298,
          111549,
          136234
         ]
        },
        {
         "hoverinfo": "x+y",
         "marker": {
          "size": 8
         },
         "mode": "markers",
         "name": "Brujería",
         "type": "scatter",
         "x": [
          257074,
          257944,
          256284,
          280144,
          278666,
          299484,
          340392,
          365514,
          381234,
          401068,
          357058,
          470050,
          596888,
          666432,
          647704,
          671538,
          611794,
          628186,
          667434,
          604372,
          696184
         ],
         "y": [
          114,
          76,
          46,
          89,
          148,
          67,
          61,
          67,
          48,
          36,
          2435,
          2563,
          2579,
          2070,
          2424,
          2214,
          1536,
          1459,
          1185,
          868,
          1071
         ]
        }
       ],
       "layout": {
        "hovermode": "x unified",
        "template": {
         "data": {
          "bar": [
           {
            "error_x": {
             "color": "#2a3f5f"
            },
            "error_y": {
             "color": "#2a3f5f"
            },
            "marker": {
             "line": {
              "color": "#E5ECF6",
              "width": 0.5
             },
             "pattern": {
              "fillmode": "overlay",
              "size": 10,
              "solidity": 0.2
             }
            },
            "type": "bar"
           }
          ],
          "barpolar": [
           {
            "marker": {
             "line": {
              "color": "#E5ECF6",
              "width": 0.5
             },
             "pattern": {
              "fillmode": "overlay",
              "size": 10,
              "solidity": 0.2
             }
            },
            "type": "barpolar"
           }
          ],
          "carpet": [
           {
            "aaxis": {
             "endlinecolor": "#2a3f5f",
             "gridcolor": "white",
             "linecolor": "white",
             "minorgridcolor": "white",
             "startlinecolor": "#2a3f5f"
            },
            "baxis": {
             "endlinecolor": "#2a3f5f",
             "gridcolor": "white",
             "linecolor": "white",
             "minorgridcolor": "white",
             "startlinecolor": "#2a3f5f"
            },
            "type": "carpet"
           }
          ],
          "choropleth": [
           {
            "colorbar": {
             "outlinewidth": 0,
             "ticks": ""
            },
            "type": "choropleth"
           }
          ],
          "contour": [
           {
            "colorbar": {
             "outlinewidth": 0,
             "ticks": ""
            },
            "colorscale": [
             [
              0,
              "#0d0887"
             ],
             [
              0.1111111111111111,
              "#46039f"
             ],
             [
              0.2222222222222222,
              "#7201a8"
             ],
             [
              0.3333333333333333,
              "#9c179e"
             ],
             [
              0.4444444444444444,
              "#bd3786"
             ],
             [
              0.5555555555555556,
              "#d8576b"
             ],
             [
              0.6666666666666666,
              "#ed7953"
             ],
             [
              0.7777777777777778,
              "#fb9f3a"
             ],
             [
              0.8888888888888888,
              "#fdca26"
             ],
             [
              1,
              "#f0f921"
             ]
            ],
            "type": "contour"
           }
          ],
          "contourcarpet": [
           {
            "colorbar": {
             "outlinewidth": 0,
             "ticks": ""
            },
            "type": "contourcarpet"
           }
          ],
          "heatmap": [
           {
            "colorbar": {
             "outlinewidth": 0,
             "ticks": ""
            },
            "colorscale": [
             [
              0,
              "#0d0887"
             ],
             [
              0.1111111111111111,
              "#46039f"
             ],
             [
              0.2222222222222222,
              "#7201a8"
             ],
             [
              0.3333333333333333,
              "#9c179e"
             ],
             [
              0.4444444444444444,
              "#bd3786"
             ],
             [
              0.5555555555555556,
              "#d8576b"
             ],
             [
              0.6666666666666666,
              "#ed7953"
             ],
             [
              0.7777777777777778,
              "#fb9f3a"
             ],
             [
              0.8888888888888888,
              "#fdca26"
             ],
             [
              1,
              "#f0f921"
             ]
            ],
            "type": "heatmap"
           }
          ],
          "heatmapgl": [
           {
            "colorbar": {
             "outlinewidth": 0,
             "ticks": ""
            },
            "colorscale": [
             [
              0,
              "#0d0887"
             ],
             [
              0.1111111111111111,
              "#46039f"
             ],
             [
              0.2222222222222222,
              "#7201a8"
             ],
             [
              0.3333333333333333,
              "#9c179e"
             ],
             [
              0.4444444444444444,
              "#bd3786"
             ],
             [
              0.5555555555555556,
              "#d8576b"
             ],
             [
              0.6666666666666666,
              "#ed7953"
             ],
             [
              0.7777777777777778,
              "#fb9f3a"
             ],
             [
              0.8888888888888888,
              "#fdca26"
             ],
             [
              1,
              "#f0f921"
             ]
            ],
            "type": "heatmapgl"
           }
          ],
          "histogram": [
           {
            "marker": {
             "pattern": {
              "fillmode": "overlay",
              "size": 10,
              "solidity": 0.2
             }
            },
            "type": "histogram"
           }
          ],
          "histogram2d": [
           {
            "colorbar": {
             "outlinewidth": 0,
             "ticks": ""
            },
            "colorscale": [
             [
              0,
              "#0d0887"
             ],
             [
              0.1111111111111111,
              "#46039f"
             ],
             [
              0.2222222222222222,
              "#7201a8"
             ],
             [
              0.3333333333333333,
              "#9c179e"
             ],
             [
              0.4444444444444444,
              "#bd3786"
             ],
             [
              0.5555555555555556,
              "#d8576b"
             ],
             [
              0.6666666666666666,
              "#ed7953"
             ],
             [
              0.7777777777777778,
              "#fb9f3a"
             ],
             [
              0.8888888888888888,
              "#fdca26"
             ],
             [
              1,
              "#f0f921"
             ]
            ],
            "type": "histogram2d"
           }
          ],
          "histogram2dcontour": [
           {
            "colorbar": {
             "outlinewidth": 0,
             "ticks": ""
            },
            "colorscale": [
             [
              0,
              "#0d0887"
             ],
             [
              0.1111111111111111,
              "#46039f"
             ],
             [
              0.2222222222222222,
              "#7201a8"
             ],
             [
              0.3333333333333333,
              "#9c179e"
             ],
             [
              0.4444444444444444,
              "#bd3786"
             ],
             [
              0.5555555555555556,
              "#d8576b"
             ],
             [
              0.6666666666666666,
              "#ed7953"
             ],
             [
              0.7777777777777778,
              "#fb9f3a"
             ],
             [
              0.8888888888888888,
              "#fdca26"
             ],
             [
              1,
              "#f0f921"
             ]
            ],
            "type": "histogram2dcontour"
           }
          ],
          "mesh3d": [
           {
            "colorbar": {
             "outlinewidth": 0,
             "ticks": ""
            },
            "type": "mesh3d"
           }
          ],
          "parcoords": [
           {
            "line": {
             "colorbar": {
              "outlinewidth": 0,
              "ticks": ""
             }
            },
            "type": "parcoords"
           }
          ],
          "pie": [
           {
            "automargin": true,
            "type": "pie"
           }
          ],
          "scatter": [
           {
            "fillpattern": {
             "fillmode": "overlay",
             "size": 10,
             "solidity": 0.2
            },
            "type": "scatter"
           }
          ],
          "scatter3d": [
           {
            "line": {
             "colorbar": {
              "outlinewidth": 0,
              "ticks": ""
             }
            },
            "marker": {
             "colorbar": {
              "outlinewidth": 0,
              "ticks": ""
             }
            },
            "type": "scatter3d"
           }
          ],
          "scattercarpet": [
           {
            "marker": {
             "colorbar": {
              "outlinewidth": 0,
              "ticks": ""
             }
            },
            "type": "scattercarpet"
           }
          ],
          "scattergeo": [
           {
            "marker": {
             "colorbar": {
              "outlinewidth": 0,
              "ticks": ""
             }
            },
            "type": "scattergeo"
           }
          ],
          "scattergl": [
           {
            "marker": {
             "colorbar": {
              "outlinewidth": 0,
              "ticks": ""
             }
            },
            "type": "scattergl"
           }
          ],
          "scattermapbox": [
           {
            "marker": {
             "colorbar": {
              "outlinewidth": 0,
              "ticks": ""
             }
            },
            "type": "scattermapbox"
           }
          ],
          "scatterpolar": [
           {
            "marker": {
             "colorbar": {
              "outlinewidth": 0,
              "ticks": ""
             }
            },
            "type": "scatterpolar"
           }
          ],
          "scatterpolargl": [
           {
            "marker": {
             "colorbar": {
              "outlinewidth": 0,
              "ticks": ""
             }
            },
            "type": "scatterpolargl"
           }
          ],
          "scatterternary": [
           {
            "marker": {
             "colorbar": {
              "outlinewidth": 0,
              "ticks": ""
             }
            },
            "type": "scatterternary"
           }
          ],
          "surface": [
           {
            "colorbar": {
             "outlinewidth": 0,
             "ticks": ""
            },
            "colorscale": [
             [
              0,
              "#0d0887"
             ],
             [
              0.1111111111111111,
              "#46039f"
             ],
             [
              0.2222222222222222,
              "#7201a8"
             ],
             [
              0.3333333333333333,
              "#9c179e"
             ],
             [
              0.4444444444444444,
              "#bd3786"
             ],
             [
              0.5555555555555556,
              "#d8576b"
             ],
             [
              0.6666666666666666,
              "#ed7953"
             ],
             [
              0.7777777777777778,
              "#fb9f3a"
             ],
             [
              0.8888888888888888,
              "#fdca26"
             ],
             [
              1,
              "#f0f921"
             ]
            ],
            "type": "surface"
           }
          ],
          "table": [
           {
            "cells": {
             "fill": {
              "color": "#EBF0F8"
             },
             "line": {
              "color": "white"
             }
            },
            "header": {
             "fill": {
              "color": "#C8D4E3"
             },
             "line": {
              "color": "white"
             }
            },
            "type": "table"
           }
          ]
         },
         "layout": {
          "annotationdefaults": {
           "arrowcolor": "#2a3f5f",
           "arrowhead": 0,
           "arrowwidth": 1
          },
          "autotypenumbers": "strict",
          "coloraxis": {
           "colorbar": {
            "outlinewidth": 0,
            "ticks": ""
           }
          },
          "colorscale": {
           "diverging": [
            [
             0,
             "#8e0152"
            ],
            [
             0.1,
             "#c51b7d"
            ],
            [
             0.2,
             "#de77ae"
            ],
            [
             0.3,
             "#f1b6da"
            ],
            [
             0.4,
             "#fde0ef"
            ],
            [
             0.5,
             "#f7f7f7"
            ],
            [
             0.6,
             "#e6f5d0"
            ],
            [
             0.7,
             "#b8e186"
            ],
            [
             0.8,
             "#7fbc41"
            ],
            [
             0.9,
             "#4d9221"
            ],
            [
             1,
             "#276419"
            ]
           ],
           "sequential": [
            [
             0,
             "#0d0887"
            ],
            [
             0.1111111111111111,
             "#46039f"
            ],
            [
             0.2222222222222222,
             "#7201a8"
            ],
            [
             0.3333333333333333,
             "#9c179e"
            ],
            [
             0.4444444444444444,
             "#bd3786"
            ],
            [
             0.5555555555555556,
             "#d8576b"
            ],
            [
             0.6666666666666666,
             "#ed7953"
            ],
            [
             0.7777777777777778,
             "#fb9f3a"
            ],
            [
             0.8888888888888888,
             "#fdca26"
            ],
            [
             1,
             "#f0f921"
            ]
           ],
           "sequentialminus": [
            [
             0,
             "#0d0887"
            ],
            [
             0.1111111111111111,
             "#46039f"
            ],
            [
             0.2222222222222222,
             "#7201a8"
            ],
            [
             0.3333333333333333,
             "#9c179e"
            ],
            [
             0.4444444444444444,
             "#bd3786"
            ],
            [
             0.5555555555555556,
             "#d8576b"
            ],
            [
             0.6666666666666666,
             "#ed7953"
            ],
            [
             0.7777777777777778,
             "#fb9f3a"
            ],
            [
             0.8888888888888888,
             "#fdca26"
            ],
            [
             1,
             "#f0f921"
            ]
           ]
          },
          "colorway": [
           "#636efa",
           "#EF553B",
           "#00cc96",
           "#ab63fa",
           "#FFA15A",
           "#19d3f3",
           "#FF6692",
           "#B6E880",
           "#FF97FF",
           "#FECB52"
          ],
          "font": {
           "color": "#2a3f5f"
          },
          "geo": {
           "bgcolor": "white",
           "lakecolor": "white",
           "landcolor": "#E5ECF6",
           "showlakes": true,
           "showland": true,
           "subunitcolor": "white"
          },
          "hoverlabel": {
           "align": "left"
          },
          "hovermode": "closest",
          "mapbox": {
           "style": "light"
          },
          "paper_bgcolor": "white",
          "plot_bgcolor": "#E5ECF6",
          "polar": {
           "angularaxis": {
            "gridcolor": "white",
            "linecolor": "white",
            "ticks": ""
           },
           "bgcolor": "#E5ECF6",
           "radialaxis": {
            "gridcolor": "white",
            "linecolor": "white",
            "ticks": ""
           }
          },
          "scene": {
           "xaxis": {
            "backgroundcolor": "#E5ECF6",
            "gridcolor": "white",
            "gridwidth": 2,
            "linecolor": "white",
            "showbackground": true,
            "ticks": "",
            "zerolinecolor": "white"
           },
           "yaxis": {
            "backgroundcolor": "#E5ECF6",
            "gridcolor": "white",
            "gridwidth": 2,
            "linecolor": "white",
            "showbackground": true,
            "ticks": "",
            "zerolinecolor": "white"
           },
           "zaxis": {
            "backgroundcolor": "#E5ECF6",
            "gridcolor": "white",
            "gridwidth": 2,
            "linecolor": "white",
            "showbackground": true,
            "ticks": "",
            "zerolinecolor": "white"
           }
          },
          "shapedefaults": {
           "line": {
            "color": "#2a3f5f"
           }
          },
          "ternary": {
           "aaxis": {
            "gridcolor": "white",
            "linecolor": "white",
            "ticks": ""
           },
           "baxis": {
            "gridcolor": "white",
            "linecolor": "white",
            "ticks": ""
           },
           "bgcolor": "#E5ECF6",
           "caxis": {
            "gridcolor": "white",
            "linecolor": "white",
            "ticks": ""
           }
          },
          "title": {
           "x": 0.05
          },
          "xaxis": {
           "automargin": true,
           "gridcolor": "white",
           "linecolor": "white",
           "ticks": "",
           "title": {
            "standoff": 15
           },
           "zerolinecolor": "white",
           "zerolinewidth": 2
          },
          "yaxis": {
           "automargin": true,
           "gridcolor": "white",
           "linecolor": "white",
           "ticks": "",
           "title": {
            "standoff": 15
           },
           "zerolinecolor": "white",
           "zerolinewidth": 2
          }
         }
        },
        "title": {
         "text": "Relación entre total de crímenes o deliots y los diferentes tipos de crímenes o delitos"
        },
        "xaxis": {
         "title": {
          "text": "Número total de crímenes o delitos"
         }
        },
        "yaxis": {
         "title": {
          "text": "Número de casos de crímenes"
         }
        }
       }
      }
     },
     "metadata": {},
     "output_type": "display_data"
    },
    {
     "name": "stdout",
     "output_type": "stream",
     "text": [
      "\n",
      "Modelo para Casos de violación:\n",
      "Pendiente: 0.04\n",
      "Intersección: 4980.44\n",
      "\n",
      "Modelo para Secuestros y asaltos:\n",
      "Pendiente: 0.14\n",
      "Intersección: -23430.27\n",
      "\n",
      "Modelo para Muertes por la dote:\n",
      "Pendiente: 0.00\n",
      "Intersección: 6899.87\n",
      "\n",
      "Modelo para Asalto a mujeres:\n",
      "Pendiente: 0.15\n",
      "Intersección: -13214.28\n",
      "\n",
      "Modelo para Asalto a menores (niñas y adolescentes):\n",
      "Pendiente: 0.01\n",
      "Intersección: 6768.96\n",
      "\n",
      "Modelo para Violencia doméstica:\n",
      "Pendiente: 0.16\n",
      "Intersección: 18926.60\n",
      "\n",
      "Modelo para Brujería:\n",
      "Pendiente: 0.00\n",
      "Intersección: -931.33\n"
     ]
    }
   ],
   "source": [
    "# Calcular las correlaciones entre los tipos de crímenes y el total de crímenes\n",
    "correlation_matrix = crime_trend[['Casos de violación', 'Secuestros y asaltos', 'Muertes por la dote', \n",
    "                                  'Asalto a mujeres', 'Asalto a menores (niñas y adolescentes)', \n",
    "                                  'Violencia doméstica', 'Brujería', 'Total de crímenes o delitos']].corr()\n",
    "\n",
    "# Mostrar la matriz de correlación\n",
    "print(\"Matriz de correlación:\")\n",
    "print(correlation_matrix)\n",
    "\n",
    "# Visualizar la matriz de correlación usando un heatmap\n",
    "plt.figure(figsize=(10, 8))\n",
    "sns.heatmap(correlation_matrix, annot=True, cmap='coolwarm', fmt='.2f', linewidths=0.5)\n",
    "plt.title('Matriz de Correlación entre Tipos de Crímenes y Total de Crímenes')\n",
    "plt.show()\n",
    "\n",
    "# Crear gráficos de dispersión para ver la relación entre cada par de variables\n",
    "fig = go.Figure()\n",
    "\n",
    "# Añadir gráficos de dispersión para cada par de crímenes\n",
    "for crime_type in ['Casos de violación', 'Secuestros y asaltos', 'Muertes por la dote', \n",
    "                   'Asalto a mujeres', 'Asalto a menores (niñas y adolescentes)', \n",
    "                   'Violencia doméstica', 'Brujería']:\n",
    "    fig.add_trace(go.Scatter(\n",
    "        x=crime_trend['Total de crímenes o delitos'],\n",
    "        y=crime_trend[crime_type],\n",
    "        mode='markers',\n",
    "        name=crime_type,\n",
    "        hoverinfo='x+y',\n",
    "        marker=dict(size=8)\n",
    "    ))\n",
    "\n",
    "# Ajustar el diseño del gráfico\n",
    "fig.update_layout(\n",
    "    title='Relación entre total de crímenes o deliots y los diferentes tipos de crímenes o delitos',\n",
    "    xaxis_title='Número total de crímenes o delitos',\n",
    "    yaxis_title='Número de casos de crímenes',\n",
    "    hovermode='x unified'\n",
    ")\n",
    "\n",
    "# Mostrar el gráfico\n",
    "fig.show()\n",
    "\n",
    "# Calcular las regresiones para cada tipo de crimen respecto al total\n",
    "# Crear un diccionario para almacenar los modelos de regresión\n",
    "models = {}\n",
    "\n",
    "for crime_type in ['Casos de violación', 'Secuestros y asaltos', 'Muertes por la dote', \n",
    "                   'Asalto a mujeres', 'Asalto a menores (niñas y adolescentes)', \n",
    "                   'Violencia doméstica', 'Brujería']:\n",
    "    X = crime_trend[['Total de crímenes o delitos']].values.reshape(-1, 1)\n",
    "    y = crime_trend[crime_type].values\n",
    "    model = LinearRegression()\n",
    "    model.fit(X, y)\n",
    "    models[crime_type] = model\n",
    "\n",
    "    # Mostrar el coeficiente y la intersección de la regresión\n",
    "    coef = model.coef_[0]\n",
    "    intercept = model.intercept_\n",
    "    print(f'\\nModelo para {crime_type}:')\n",
    "    print(f'Pendiente: {coef:.2f}')\n",
    "    print(f'Intersección: {intercept:.2f}')\n"
   ]
  },
  {
   "cell_type": "code",
   "execution_count": 24,
   "metadata": {},
   "outputs": [
    {
     "data": {
      "application/vnd.plotly.v1+json": {
       "config": {
        "plotlyServerURL": "https://plot.ly"
       },
       "data": [
        {
         "hoverinfo": "label+value",
         "labels": [
          "Casos de violación",
          "Secuestros y asaltos",
          "Muertes por la dote",
          "Asalto a mujeres",
          "Asalto a menores (niñas y adolescentes)",
          "Violencia doméstica",
          "Brujería"
         ],
         "marker": {
          "line": {
           "color": "black",
           "width": 1
          }
         },
         "pull": [
          0.1,
          0.1,
          0.1,
          0.1,
          0.1,
          0.1,
          0.1
         ],
         "textinfo": "label+value",
         "textposition": "outside",
         "type": "pie",
         "values": [
          31677,
          75369,
          6753,
          89200,
          7788,
          136234,
          1071
         ]
        }
       ],
       "layout": {
        "annotations": [
         {
          "font": {
           "size": 20
          },
          "showarrow": false,
          "text": "Total de crímenes o delitos",
          "x": 0.5,
          "y": 0.5
         }
        ],
        "legend": {
         "title": {
          "text": "Categorías de crímenes"
         },
         "x": 1,
         "y": 1
        },
        "margin": {
         "b": 0,
         "l": 0,
         "r": 150,
         "t": 40
        },
        "template": {
         "data": {
          "bar": [
           {
            "error_x": {
             "color": "#2a3f5f"
            },
            "error_y": {
             "color": "#2a3f5f"
            },
            "marker": {
             "line": {
              "color": "#E5ECF6",
              "width": 0.5
             },
             "pattern": {
              "fillmode": "overlay",
              "size": 10,
              "solidity": 0.2
             }
            },
            "type": "bar"
           }
          ],
          "barpolar": [
           {
            "marker": {
             "line": {
              "color": "#E5ECF6",
              "width": 0.5
             },
             "pattern": {
              "fillmode": "overlay",
              "size": 10,
              "solidity": 0.2
             }
            },
            "type": "barpolar"
           }
          ],
          "carpet": [
           {
            "aaxis": {
             "endlinecolor": "#2a3f5f",
             "gridcolor": "white",
             "linecolor": "white",
             "minorgridcolor": "white",
             "startlinecolor": "#2a3f5f"
            },
            "baxis": {
             "endlinecolor": "#2a3f5f",
             "gridcolor": "white",
             "linecolor": "white",
             "minorgridcolor": "white",
             "startlinecolor": "#2a3f5f"
            },
            "type": "carpet"
           }
          ],
          "choropleth": [
           {
            "colorbar": {
             "outlinewidth": 0,
             "ticks": ""
            },
            "type": "choropleth"
           }
          ],
          "contour": [
           {
            "colorbar": {
             "outlinewidth": 0,
             "ticks": ""
            },
            "colorscale": [
             [
              0,
              "#0d0887"
             ],
             [
              0.1111111111111111,
              "#46039f"
             ],
             [
              0.2222222222222222,
              "#7201a8"
             ],
             [
              0.3333333333333333,
              "#9c179e"
             ],
             [
              0.4444444444444444,
              "#bd3786"
             ],
             [
              0.5555555555555556,
              "#d8576b"
             ],
             [
              0.6666666666666666,
              "#ed7953"
             ],
             [
              0.7777777777777778,
              "#fb9f3a"
             ],
             [
              0.8888888888888888,
              "#fdca26"
             ],
             [
              1,
              "#f0f921"
             ]
            ],
            "type": "contour"
           }
          ],
          "contourcarpet": [
           {
            "colorbar": {
             "outlinewidth": 0,
             "ticks": ""
            },
            "type": "contourcarpet"
           }
          ],
          "heatmap": [
           {
            "colorbar": {
             "outlinewidth": 0,
             "ticks": ""
            },
            "colorscale": [
             [
              0,
              "#0d0887"
             ],
             [
              0.1111111111111111,
              "#46039f"
             ],
             [
              0.2222222222222222,
              "#7201a8"
             ],
             [
              0.3333333333333333,
              "#9c179e"
             ],
             [
              0.4444444444444444,
              "#bd3786"
             ],
             [
              0.5555555555555556,
              "#d8576b"
             ],
             [
              0.6666666666666666,
              "#ed7953"
             ],
             [
              0.7777777777777778,
              "#fb9f3a"
             ],
             [
              0.8888888888888888,
              "#fdca26"
             ],
             [
              1,
              "#f0f921"
             ]
            ],
            "type": "heatmap"
           }
          ],
          "heatmapgl": [
           {
            "colorbar": {
             "outlinewidth": 0,
             "ticks": ""
            },
            "colorscale": [
             [
              0,
              "#0d0887"
             ],
             [
              0.1111111111111111,
              "#46039f"
             ],
             [
              0.2222222222222222,
              "#7201a8"
             ],
             [
              0.3333333333333333,
              "#9c179e"
             ],
             [
              0.4444444444444444,
              "#bd3786"
             ],
             [
              0.5555555555555556,
              "#d8576b"
             ],
             [
              0.6666666666666666,
              "#ed7953"
             ],
             [
              0.7777777777777778,
              "#fb9f3a"
             ],
             [
              0.8888888888888888,
              "#fdca26"
             ],
             [
              1,
              "#f0f921"
             ]
            ],
            "type": "heatmapgl"
           }
          ],
          "histogram": [
           {
            "marker": {
             "pattern": {
              "fillmode": "overlay",
              "size": 10,
              "solidity": 0.2
             }
            },
            "type": "histogram"
           }
          ],
          "histogram2d": [
           {
            "colorbar": {
             "outlinewidth": 0,
             "ticks": ""
            },
            "colorscale": [
             [
              0,
              "#0d0887"
             ],
             [
              0.1111111111111111,
              "#46039f"
             ],
             [
              0.2222222222222222,
              "#7201a8"
             ],
             [
              0.3333333333333333,
              "#9c179e"
             ],
             [
              0.4444444444444444,
              "#bd3786"
             ],
             [
              0.5555555555555556,
              "#d8576b"
             ],
             [
              0.6666666666666666,
              "#ed7953"
             ],
             [
              0.7777777777777778,
              "#fb9f3a"
             ],
             [
              0.8888888888888888,
              "#fdca26"
             ],
             [
              1,
              "#f0f921"
             ]
            ],
            "type": "histogram2d"
           }
          ],
          "histogram2dcontour": [
           {
            "colorbar": {
             "outlinewidth": 0,
             "ticks": ""
            },
            "colorscale": [
             [
              0,
              "#0d0887"
             ],
             [
              0.1111111111111111,
              "#46039f"
             ],
             [
              0.2222222222222222,
              "#7201a8"
             ],
             [
              0.3333333333333333,
              "#9c179e"
             ],
             [
              0.4444444444444444,
              "#bd3786"
             ],
             [
              0.5555555555555556,
              "#d8576b"
             ],
             [
              0.6666666666666666,
              "#ed7953"
             ],
             [
              0.7777777777777778,
              "#fb9f3a"
             ],
             [
              0.8888888888888888,
              "#fdca26"
             ],
             [
              1,
              "#f0f921"
             ]
            ],
            "type": "histogram2dcontour"
           }
          ],
          "mesh3d": [
           {
            "colorbar": {
             "outlinewidth": 0,
             "ticks": ""
            },
            "type": "mesh3d"
           }
          ],
          "parcoords": [
           {
            "line": {
             "colorbar": {
              "outlinewidth": 0,
              "ticks": ""
             }
            },
            "type": "parcoords"
           }
          ],
          "pie": [
           {
            "automargin": true,
            "type": "pie"
           }
          ],
          "scatter": [
           {
            "fillpattern": {
             "fillmode": "overlay",
             "size": 10,
             "solidity": 0.2
            },
            "type": "scatter"
           }
          ],
          "scatter3d": [
           {
            "line": {
             "colorbar": {
              "outlinewidth": 0,
              "ticks": ""
             }
            },
            "marker": {
             "colorbar": {
              "outlinewidth": 0,
              "ticks": ""
             }
            },
            "type": "scatter3d"
           }
          ],
          "scattercarpet": [
           {
            "marker": {
             "colorbar": {
              "outlinewidth": 0,
              "ticks": ""
             }
            },
            "type": "scattercarpet"
           }
          ],
          "scattergeo": [
           {
            "marker": {
             "colorbar": {
              "outlinewidth": 0,
              "ticks": ""
             }
            },
            "type": "scattergeo"
           }
          ],
          "scattergl": [
           {
            "marker": {
             "colorbar": {
              "outlinewidth": 0,
              "ticks": ""
             }
            },
            "type": "scattergl"
           }
          ],
          "scattermapbox": [
           {
            "marker": {
             "colorbar": {
              "outlinewidth": 0,
              "ticks": ""
             }
            },
            "type": "scattermapbox"
           }
          ],
          "scatterpolar": [
           {
            "marker": {
             "colorbar": {
              "outlinewidth": 0,
              "ticks": ""
             }
            },
            "type": "scatterpolar"
           }
          ],
          "scatterpolargl": [
           {
            "marker": {
             "colorbar": {
              "outlinewidth": 0,
              "ticks": ""
             }
            },
            "type": "scatterpolargl"
           }
          ],
          "scatterternary": [
           {
            "marker": {
             "colorbar": {
              "outlinewidth": 0,
              "ticks": ""
             }
            },
            "type": "scatterternary"
           }
          ],
          "surface": [
           {
            "colorbar": {
             "outlinewidth": 0,
             "ticks": ""
            },
            "colorscale": [
             [
              0,
              "#0d0887"
             ],
             [
              0.1111111111111111,
              "#46039f"
             ],
             [
              0.2222222222222222,
              "#7201a8"
             ],
             [
              0.3333333333333333,
              "#9c179e"
             ],
             [
              0.4444444444444444,
              "#bd3786"
             ],
             [
              0.5555555555555556,
              "#d8576b"
             ],
             [
              0.6666666666666666,
              "#ed7953"
             ],
             [
              0.7777777777777778,
              "#fb9f3a"
             ],
             [
              0.8888888888888888,
              "#fdca26"
             ],
             [
              1,
              "#f0f921"
             ]
            ],
            "type": "surface"
           }
          ],
          "table": [
           {
            "cells": {
             "fill": {
              "color": "#EBF0F8"
             },
             "line": {
              "color": "white"
             }
            },
            "header": {
             "fill": {
              "color": "#C8D4E3"
             },
             "line": {
              "color": "white"
             }
            },
            "type": "table"
           }
          ]
         },
         "layout": {
          "annotationdefaults": {
           "arrowcolor": "#2a3f5f",
           "arrowhead": 0,
           "arrowwidth": 1
          },
          "autotypenumbers": "strict",
          "coloraxis": {
           "colorbar": {
            "outlinewidth": 0,
            "ticks": ""
           }
          },
          "colorscale": {
           "diverging": [
            [
             0,
             "#8e0152"
            ],
            [
             0.1,
             "#c51b7d"
            ],
            [
             0.2,
             "#de77ae"
            ],
            [
             0.3,
             "#f1b6da"
            ],
            [
             0.4,
             "#fde0ef"
            ],
            [
             0.5,
             "#f7f7f7"
            ],
            [
             0.6,
             "#e6f5d0"
            ],
            [
             0.7,
             "#b8e186"
            ],
            [
             0.8,
             "#7fbc41"
            ],
            [
             0.9,
             "#4d9221"
            ],
            [
             1,
             "#276419"
            ]
           ],
           "sequential": [
            [
             0,
             "#0d0887"
            ],
            [
             0.1111111111111111,
             "#46039f"
            ],
            [
             0.2222222222222222,
             "#7201a8"
            ],
            [
             0.3333333333333333,
             "#9c179e"
            ],
            [
             0.4444444444444444,
             "#bd3786"
            ],
            [
             0.5555555555555556,
             "#d8576b"
            ],
            [
             0.6666666666666666,
             "#ed7953"
            ],
            [
             0.7777777777777778,
             "#fb9f3a"
            ],
            [
             0.8888888888888888,
             "#fdca26"
            ],
            [
             1,
             "#f0f921"
            ]
           ],
           "sequentialminus": [
            [
             0,
             "#0d0887"
            ],
            [
             0.1111111111111111,
             "#46039f"
            ],
            [
             0.2222222222222222,
             "#7201a8"
            ],
            [
             0.3333333333333333,
             "#9c179e"
            ],
            [
             0.4444444444444444,
             "#bd3786"
            ],
            [
             0.5555555555555556,
             "#d8576b"
            ],
            [
             0.6666666666666666,
             "#ed7953"
            ],
            [
             0.7777777777777778,
             "#fb9f3a"
            ],
            [
             0.8888888888888888,
             "#fdca26"
            ],
            [
             1,
             "#f0f921"
            ]
           ]
          },
          "colorway": [
           "#636efa",
           "#EF553B",
           "#00cc96",
           "#ab63fa",
           "#FFA15A",
           "#19d3f3",
           "#FF6692",
           "#B6E880",
           "#FF97FF",
           "#FECB52"
          ],
          "font": {
           "color": "#2a3f5f"
          },
          "geo": {
           "bgcolor": "white",
           "lakecolor": "white",
           "landcolor": "#E5ECF6",
           "showlakes": true,
           "showland": true,
           "subunitcolor": "white"
          },
          "hoverlabel": {
           "align": "left"
          },
          "hovermode": "closest",
          "mapbox": {
           "style": "light"
          },
          "paper_bgcolor": "white",
          "plot_bgcolor": "#E5ECF6",
          "polar": {
           "angularaxis": {
            "gridcolor": "white",
            "linecolor": "white",
            "ticks": ""
           },
           "bgcolor": "#E5ECF6",
           "radialaxis": {
            "gridcolor": "white",
            "linecolor": "white",
            "ticks": ""
           }
          },
          "scene": {
           "xaxis": {
            "backgroundcolor": "#E5ECF6",
            "gridcolor": "white",
            "gridwidth": 2,
            "linecolor": "white",
            "showbackground": true,
            "ticks": "",
            "zerolinecolor": "white"
           },
           "yaxis": {
            "backgroundcolor": "#E5ECF6",
            "gridcolor": "white",
            "gridwidth": 2,
            "linecolor": "white",
            "showbackground": true,
            "ticks": "",
            "zerolinecolor": "white"
           },
           "zaxis": {
            "backgroundcolor": "#E5ECF6",
            "gridcolor": "white",
            "gridwidth": 2,
            "linecolor": "white",
            "showbackground": true,
            "ticks": "",
            "zerolinecolor": "white"
           }
          },
          "shapedefaults": {
           "line": {
            "color": "#2a3f5f"
           }
          },
          "ternary": {
           "aaxis": {
            "gridcolor": "white",
            "linecolor": "white",
            "ticks": ""
           },
           "baxis": {
            "gridcolor": "white",
            "linecolor": "white",
            "ticks": ""
           },
           "bgcolor": "#E5ECF6",
           "caxis": {
            "gridcolor": "white",
            "linecolor": "white",
            "ticks": ""
           }
          },
          "title": {
           "x": 0.05
          },
          "xaxis": {
           "automargin": true,
           "gridcolor": "white",
           "linecolor": "white",
           "ticks": "",
           "title": {
            "standoff": 15
           },
           "zerolinecolor": "white",
           "zerolinewidth": 2
          },
          "yaxis": {
           "automargin": true,
           "gridcolor": "white",
           "linecolor": "white",
           "ticks": "",
           "title": {
            "standoff": 15
           },
           "zerolinecolor": "white",
           "zerolinewidth": 2
          }
         }
        },
        "title": {
         "text": "Composición de crímenes en India (2021)"
        }
       }
      }
     },
     "metadata": {},
     "output_type": "display_data"
    }
   ],
   "source": [
    "# Filtrar datos para el año 2021 y sumar los valores\n",
    "crime_2021 = crimes_df[crimes_df['Año'] == 2021].sum()\n",
    "\n",
    "# Crear el gráfico de pastel con Plotly\n",
    "fig = go.Figure(data=[go.Pie(\n",
    "    labels=['Casos de violación', 'Secuestros y asaltos', 'Muertes por la dote', \n",
    "            'Asalto a mujeres', 'Asalto a menores (niñas y adolescentes)', \n",
    "            'Violencia doméstica', 'Brujería'],\n",
    "    values=[crime_2021['Casos de violación'], crime_2021['Secuestros y asaltos'], \n",
    "            crime_2021['Muertes por la dote'], crime_2021['Asalto a mujeres'], \n",
    "            crime_2021['Asalto a menores (niñas y adolescentes)'], \n",
    "            crime_2021['Violencia doméstica'], crime_2021['Brujería']],\n",
    "    textinfo='label+value',  # Muestra la etiqueta y el valor dentro del gráfico\n",
    "    textposition='outside',  # Mueve las etiquetas fuera del gráfico\n",
    "    pull=[0.1]*7,  # Aumenta el espacio entre las porciones para mejorar la visibilidad\n",
    "    marker=dict(\n",
    "        line=dict(color='black', width=1)  # Agrega una línea negra alrededor de las porciones\n",
    "    ),\n",
    "    hoverinfo='label+value'\n",
    ")])\n",
    "\n",
    "# Ajustar el diseño del gráfico\n",
    "fig.update_layout(\n",
    "    title='Composición de crímenes en India (2021)',\n",
    "    legend_title=\"Categorías de crímenes\",\n",
    "    legend=dict(x=1, y=1),\n",
    "    margin=dict(l=0, r=150, t=40, b=0),  # Ajustar márgenes para acomodar la leyenda\n",
    "    annotations=[dict(\n",
    "        text=\"Total de crímenes o delitos\",\n",
    "        x=0.5,\n",
    "        y=0.5,\n",
    "        font_size=20,\n",
    "        showarrow=False\n",
    "    )]\n",
    ")\n",
    "\n",
    "# Mostrar el gráfico\n",
    "fig.show()\n",
    "\n",
    "# Guardar el gráfico como imagen\n",
    "fig.write_image('piechart.png')\n"
   ]
  },
  {
   "cell_type": "code",
   "execution_count": 25,
   "metadata": {},
   "outputs": [
    {
     "name": "stdout",
     "output_type": "stream",
     "text": [
      "      forecast\n",
      "2022    357361\n",
      "2023    366584\n",
      "2024    375761\n",
      "2025    384893\n",
      "2026    393979\n",
      "2027    403020\n",
      "2028    412016\n",
      "2029    420967\n",
      "2030    429873\n"
     ]
    }
   ],
   "source": [
    "import pandas as pd\n",
    "from statsmodels.tsa.arima.model import ARIMA\n",
    "\n",
    "# Agrupar los datos y preparar el DataFrame\n",
    "df = crimes_df.groupby('Año').agg({\n",
    "    'Casos de violación': 'sum',\n",
    "    'Secuestros y asaltos': 'sum',\n",
    "    'Muertes por la dote': 'sum',\n",
    "    'Asalto a mujeres': 'sum',\n",
    "    'Asalto a menores (niñas y adolescentes)': 'sum',\n",
    "    'Violencia doméstica': 'sum',\n",
    "    'Brujería': 'sum'\n",
    "}).reset_index()\n",
    "df['Total'] = df[['Casos de violación', 'Secuestros y asaltos', 'Muertes por la dote',\n",
    "                  'Asalto a mujeres', 'Asalto a menores (niñas y adolescentes)',\n",
    "                  'Violencia doméstica', 'Brujería']].sum(axis=1)\n",
    "\n",
    "# Convertir la columna 'Año' en un índice de fechas\n",
    "df['Fecha'] = pd.to_datetime(df['Año'], format='%Y')\n",
    "df.set_index('Fecha', inplace=True)\n",
    "df.drop(columns='Año', inplace=True)\n",
    "\n",
    "# Asegúrate de que el índice tiene la frecuencia 'A' (anual)\n",
    "df.index = df.index.to_period('Y')\n",
    "\n",
    "# Usar la columna 'Total' para la predicción\n",
    "total_series = df['Total']\n",
    "\n",
    "# Crear y ajustar el modelo ARIMA\n",
    "model = ARIMA(total_series, order=(1, 1, 1))  # Los parámetros (p,d,q) se pueden ajustar\n",
    "model_fit = model.fit()\n",
    "\n",
    "# Hacer predicciones para los próximos años hasta 2030\n",
    "forecast_periods = pd.period_range(start='2022', end='2030', freq='Y')\n",
    "forecast_steps = len(forecast_periods)\n",
    "forecast = model_fit.forecast(steps=forecast_steps)\n",
    "\n",
    "# Redondear las predicciones y convertirlas a enteros\n",
    "forecast = pd.Series(forecast).round(2).astype(int)\n",
    "\n",
    "# Crear un DataFrame para mostrar las predicciones\n",
    "forecast_df = pd.DataFrame({\n",
    "    'forecast': forecast\n",
    "}, index=forecast_periods)\n",
    "\n",
    "print(forecast_df)\n"
   ]
  },
  {
   "cell_type": "code",
   "execution_count": 26,
   "metadata": {},
   "outputs": [
    {
     "data": {
      "application/vnd.plotly.v1+json": {
       "config": {
        "plotlyServerURL": "https://plot.ly"
       },
       "data": [
        {
         "hoverinfo": "text+x+y",
         "line": {
          "color": "blue"
         },
         "marker": {
          "color": "blue"
         },
         "mode": "markers+lines",
         "name": "Período del 2001 al 2021",
         "text": [
          128537,
          128972,
          128142,
          140072,
          139333,
          149742,
          170196,
          182757,
          190617,
          200534,
          178529,
          235025,
          298444,
          333216,
          323852,
          335769,
          305897,
          314093,
          333717,
          302186,
          348092
         ],
         "type": "scatter",
         "x": [
          "2001-01-01T00:00:00",
          "2002-01-01T00:00:00",
          "2003-01-01T00:00:00",
          "2004-01-01T00:00:00",
          "2005-01-01T00:00:00",
          "2006-01-01T00:00:00",
          "2007-01-01T00:00:00",
          "2008-01-01T00:00:00",
          "2009-01-01T00:00:00",
          "2010-01-01T00:00:00",
          "2011-01-01T00:00:00",
          "2012-01-01T00:00:00",
          "2013-01-01T00:00:00",
          "2014-01-01T00:00:00",
          "2015-01-01T00:00:00",
          "2016-01-01T00:00:00",
          "2017-01-01T00:00:00",
          "2018-01-01T00:00:00",
          "2019-01-01T00:00:00",
          "2020-01-01T00:00:00",
          "2021-01-01T00:00:00"
         ],
         "y": [
          128537,
          128972,
          128142,
          140072,
          139333,
          149742,
          170196,
          182757,
          190617,
          200534,
          178529,
          235025,
          298444,
          333216,
          323852,
          335769,
          305897,
          314093,
          333717,
          302186,
          348092
         ]
        },
        {
         "hoverinfo": "text+x+y",
         "line": {
          "color": "red",
          "dash": "dash"
         },
         "marker": {
          "color": "red",
          "size": 10,
          "symbol": "x"
         },
         "mode": "markers+lines",
         "name": "Predicciones",
         "text": [
          357361,
          366584,
          375761,
          384893,
          393979,
          403020,
          412016,
          420967,
          429873
         ],
         "type": "scatter",
         "x": [
          "2022-01-01T00:00:00",
          "2023-01-01T00:00:00",
          "2024-01-01T00:00:00",
          "2025-01-01T00:00:00",
          "2026-01-01T00:00:00",
          "2027-01-01T00:00:00",
          "2028-01-01T00:00:00",
          "2029-01-01T00:00:00",
          "2030-01-01T00:00:00"
         ],
         "y": [
          357361,
          366584,
          375761,
          384893,
          393979,
          403020,
          412016,
          420967,
          429873
         ]
        }
       ],
       "layout": {
        "hovermode": "x unified",
        "legend": {
         "title": {
          "text": "Leyenda"
         }
        },
        "template": {
         "data": {
          "bar": [
           {
            "error_x": {
             "color": "#2a3f5f"
            },
            "error_y": {
             "color": "#2a3f5f"
            },
            "marker": {
             "line": {
              "color": "white",
              "width": 0.5
             },
             "pattern": {
              "fillmode": "overlay",
              "size": 10,
              "solidity": 0.2
             }
            },
            "type": "bar"
           }
          ],
          "barpolar": [
           {
            "marker": {
             "line": {
              "color": "white",
              "width": 0.5
             },
             "pattern": {
              "fillmode": "overlay",
              "size": 10,
              "solidity": 0.2
             }
            },
            "type": "barpolar"
           }
          ],
          "carpet": [
           {
            "aaxis": {
             "endlinecolor": "#2a3f5f",
             "gridcolor": "#C8D4E3",
             "linecolor": "#C8D4E3",
             "minorgridcolor": "#C8D4E3",
             "startlinecolor": "#2a3f5f"
            },
            "baxis": {
             "endlinecolor": "#2a3f5f",
             "gridcolor": "#C8D4E3",
             "linecolor": "#C8D4E3",
             "minorgridcolor": "#C8D4E3",
             "startlinecolor": "#2a3f5f"
            },
            "type": "carpet"
           }
          ],
          "choropleth": [
           {
            "colorbar": {
             "outlinewidth": 0,
             "ticks": ""
            },
            "type": "choropleth"
           }
          ],
          "contour": [
           {
            "colorbar": {
             "outlinewidth": 0,
             "ticks": ""
            },
            "colorscale": [
             [
              0,
              "#0d0887"
             ],
             [
              0.1111111111111111,
              "#46039f"
             ],
             [
              0.2222222222222222,
              "#7201a8"
             ],
             [
              0.3333333333333333,
              "#9c179e"
             ],
             [
              0.4444444444444444,
              "#bd3786"
             ],
             [
              0.5555555555555556,
              "#d8576b"
             ],
             [
              0.6666666666666666,
              "#ed7953"
             ],
             [
              0.7777777777777778,
              "#fb9f3a"
             ],
             [
              0.8888888888888888,
              "#fdca26"
             ],
             [
              1,
              "#f0f921"
             ]
            ],
            "type": "contour"
           }
          ],
          "contourcarpet": [
           {
            "colorbar": {
             "outlinewidth": 0,
             "ticks": ""
            },
            "type": "contourcarpet"
           }
          ],
          "heatmap": [
           {
            "colorbar": {
             "outlinewidth": 0,
             "ticks": ""
            },
            "colorscale": [
             [
              0,
              "#0d0887"
             ],
             [
              0.1111111111111111,
              "#46039f"
             ],
             [
              0.2222222222222222,
              "#7201a8"
             ],
             [
              0.3333333333333333,
              "#9c179e"
             ],
             [
              0.4444444444444444,
              "#bd3786"
             ],
             [
              0.5555555555555556,
              "#d8576b"
             ],
             [
              0.6666666666666666,
              "#ed7953"
             ],
             [
              0.7777777777777778,
              "#fb9f3a"
             ],
             [
              0.8888888888888888,
              "#fdca26"
             ],
             [
              1,
              "#f0f921"
             ]
            ],
            "type": "heatmap"
           }
          ],
          "heatmapgl": [
           {
            "colorbar": {
             "outlinewidth": 0,
             "ticks": ""
            },
            "colorscale": [
             [
              0,
              "#0d0887"
             ],
             [
              0.1111111111111111,
              "#46039f"
             ],
             [
              0.2222222222222222,
              "#7201a8"
             ],
             [
              0.3333333333333333,
              "#9c179e"
             ],
             [
              0.4444444444444444,
              "#bd3786"
             ],
             [
              0.5555555555555556,
              "#d8576b"
             ],
             [
              0.6666666666666666,
              "#ed7953"
             ],
             [
              0.7777777777777778,
              "#fb9f3a"
             ],
             [
              0.8888888888888888,
              "#fdca26"
             ],
             [
              1,
              "#f0f921"
             ]
            ],
            "type": "heatmapgl"
           }
          ],
          "histogram": [
           {
            "marker": {
             "pattern": {
              "fillmode": "overlay",
              "size": 10,
              "solidity": 0.2
             }
            },
            "type": "histogram"
           }
          ],
          "histogram2d": [
           {
            "colorbar": {
             "outlinewidth": 0,
             "ticks": ""
            },
            "colorscale": [
             [
              0,
              "#0d0887"
             ],
             [
              0.1111111111111111,
              "#46039f"
             ],
             [
              0.2222222222222222,
              "#7201a8"
             ],
             [
              0.3333333333333333,
              "#9c179e"
             ],
             [
              0.4444444444444444,
              "#bd3786"
             ],
             [
              0.5555555555555556,
              "#d8576b"
             ],
             [
              0.6666666666666666,
              "#ed7953"
             ],
             [
              0.7777777777777778,
              "#fb9f3a"
             ],
             [
              0.8888888888888888,
              "#fdca26"
             ],
             [
              1,
              "#f0f921"
             ]
            ],
            "type": "histogram2d"
           }
          ],
          "histogram2dcontour": [
           {
            "colorbar": {
             "outlinewidth": 0,
             "ticks": ""
            },
            "colorscale": [
             [
              0,
              "#0d0887"
             ],
             [
              0.1111111111111111,
              "#46039f"
             ],
             [
              0.2222222222222222,
              "#7201a8"
             ],
             [
              0.3333333333333333,
              "#9c179e"
             ],
             [
              0.4444444444444444,
              "#bd3786"
             ],
             [
              0.5555555555555556,
              "#d8576b"
             ],
             [
              0.6666666666666666,
              "#ed7953"
             ],
             [
              0.7777777777777778,
              "#fb9f3a"
             ],
             [
              0.8888888888888888,
              "#fdca26"
             ],
             [
              1,
              "#f0f921"
             ]
            ],
            "type": "histogram2dcontour"
           }
          ],
          "mesh3d": [
           {
            "colorbar": {
             "outlinewidth": 0,
             "ticks": ""
            },
            "type": "mesh3d"
           }
          ],
          "parcoords": [
           {
            "line": {
             "colorbar": {
              "outlinewidth": 0,
              "ticks": ""
             }
            },
            "type": "parcoords"
           }
          ],
          "pie": [
           {
            "automargin": true,
            "type": "pie"
           }
          ],
          "scatter": [
           {
            "fillpattern": {
             "fillmode": "overlay",
             "size": 10,
             "solidity": 0.2
            },
            "type": "scatter"
           }
          ],
          "scatter3d": [
           {
            "line": {
             "colorbar": {
              "outlinewidth": 0,
              "ticks": ""
             }
            },
            "marker": {
             "colorbar": {
              "outlinewidth": 0,
              "ticks": ""
             }
            },
            "type": "scatter3d"
           }
          ],
          "scattercarpet": [
           {
            "marker": {
             "colorbar": {
              "outlinewidth": 0,
              "ticks": ""
             }
            },
            "type": "scattercarpet"
           }
          ],
          "scattergeo": [
           {
            "marker": {
             "colorbar": {
              "outlinewidth": 0,
              "ticks": ""
             }
            },
            "type": "scattergeo"
           }
          ],
          "scattergl": [
           {
            "marker": {
             "colorbar": {
              "outlinewidth": 0,
              "ticks": ""
             }
            },
            "type": "scattergl"
           }
          ],
          "scattermapbox": [
           {
            "marker": {
             "colorbar": {
              "outlinewidth": 0,
              "ticks": ""
             }
            },
            "type": "scattermapbox"
           }
          ],
          "scatterpolar": [
           {
            "marker": {
             "colorbar": {
              "outlinewidth": 0,
              "ticks": ""
             }
            },
            "type": "scatterpolar"
           }
          ],
          "scatterpolargl": [
           {
            "marker": {
             "colorbar": {
              "outlinewidth": 0,
              "ticks": ""
             }
            },
            "type": "scatterpolargl"
           }
          ],
          "scatterternary": [
           {
            "marker": {
             "colorbar": {
              "outlinewidth": 0,
              "ticks": ""
             }
            },
            "type": "scatterternary"
           }
          ],
          "surface": [
           {
            "colorbar": {
             "outlinewidth": 0,
             "ticks": ""
            },
            "colorscale": [
             [
              0,
              "#0d0887"
             ],
             [
              0.1111111111111111,
              "#46039f"
             ],
             [
              0.2222222222222222,
              "#7201a8"
             ],
             [
              0.3333333333333333,
              "#9c179e"
             ],
             [
              0.4444444444444444,
              "#bd3786"
             ],
             [
              0.5555555555555556,
              "#d8576b"
             ],
             [
              0.6666666666666666,
              "#ed7953"
             ],
             [
              0.7777777777777778,
              "#fb9f3a"
             ],
             [
              0.8888888888888888,
              "#fdca26"
             ],
             [
              1,
              "#f0f921"
             ]
            ],
            "type": "surface"
           }
          ],
          "table": [
           {
            "cells": {
             "fill": {
              "color": "#EBF0F8"
             },
             "line": {
              "color": "white"
             }
            },
            "header": {
             "fill": {
              "color": "#C8D4E3"
             },
             "line": {
              "color": "white"
             }
            },
            "type": "table"
           }
          ]
         },
         "layout": {
          "annotationdefaults": {
           "arrowcolor": "#2a3f5f",
           "arrowhead": 0,
           "arrowwidth": 1
          },
          "autotypenumbers": "strict",
          "coloraxis": {
           "colorbar": {
            "outlinewidth": 0,
            "ticks": ""
           }
          },
          "colorscale": {
           "diverging": [
            [
             0,
             "#8e0152"
            ],
            [
             0.1,
             "#c51b7d"
            ],
            [
             0.2,
             "#de77ae"
            ],
            [
             0.3,
             "#f1b6da"
            ],
            [
             0.4,
             "#fde0ef"
            ],
            [
             0.5,
             "#f7f7f7"
            ],
            [
             0.6,
             "#e6f5d0"
            ],
            [
             0.7,
             "#b8e186"
            ],
            [
             0.8,
             "#7fbc41"
            ],
            [
             0.9,
             "#4d9221"
            ],
            [
             1,
             "#276419"
            ]
           ],
           "sequential": [
            [
             0,
             "#0d0887"
            ],
            [
             0.1111111111111111,
             "#46039f"
            ],
            [
             0.2222222222222222,
             "#7201a8"
            ],
            [
             0.3333333333333333,
             "#9c179e"
            ],
            [
             0.4444444444444444,
             "#bd3786"
            ],
            [
             0.5555555555555556,
             "#d8576b"
            ],
            [
             0.6666666666666666,
             "#ed7953"
            ],
            [
             0.7777777777777778,
             "#fb9f3a"
            ],
            [
             0.8888888888888888,
             "#fdca26"
            ],
            [
             1,
             "#f0f921"
            ]
           ],
           "sequentialminus": [
            [
             0,
             "#0d0887"
            ],
            [
             0.1111111111111111,
             "#46039f"
            ],
            [
             0.2222222222222222,
             "#7201a8"
            ],
            [
             0.3333333333333333,
             "#9c179e"
            ],
            [
             0.4444444444444444,
             "#bd3786"
            ],
            [
             0.5555555555555556,
             "#d8576b"
            ],
            [
             0.6666666666666666,
             "#ed7953"
            ],
            [
             0.7777777777777778,
             "#fb9f3a"
            ],
            [
             0.8888888888888888,
             "#fdca26"
            ],
            [
             1,
             "#f0f921"
            ]
           ]
          },
          "colorway": [
           "#636efa",
           "#EF553B",
           "#00cc96",
           "#ab63fa",
           "#FFA15A",
           "#19d3f3",
           "#FF6692",
           "#B6E880",
           "#FF97FF",
           "#FECB52"
          ],
          "font": {
           "color": "#2a3f5f"
          },
          "geo": {
           "bgcolor": "white",
           "lakecolor": "white",
           "landcolor": "white",
           "showlakes": true,
           "showland": true,
           "subunitcolor": "#C8D4E3"
          },
          "hoverlabel": {
           "align": "left"
          },
          "hovermode": "closest",
          "mapbox": {
           "style": "light"
          },
          "paper_bgcolor": "white",
          "plot_bgcolor": "white",
          "polar": {
           "angularaxis": {
            "gridcolor": "#EBF0F8",
            "linecolor": "#EBF0F8",
            "ticks": ""
           },
           "bgcolor": "white",
           "radialaxis": {
            "gridcolor": "#EBF0F8",
            "linecolor": "#EBF0F8",
            "ticks": ""
           }
          },
          "scene": {
           "xaxis": {
            "backgroundcolor": "white",
            "gridcolor": "#DFE8F3",
            "gridwidth": 2,
            "linecolor": "#EBF0F8",
            "showbackground": true,
            "ticks": "",
            "zerolinecolor": "#EBF0F8"
           },
           "yaxis": {
            "backgroundcolor": "white",
            "gridcolor": "#DFE8F3",
            "gridwidth": 2,
            "linecolor": "#EBF0F8",
            "showbackground": true,
            "ticks": "",
            "zerolinecolor": "#EBF0F8"
           },
           "zaxis": {
            "backgroundcolor": "white",
            "gridcolor": "#DFE8F3",
            "gridwidth": 2,
            "linecolor": "#EBF0F8",
            "showbackground": true,
            "ticks": "",
            "zerolinecolor": "#EBF0F8"
           }
          },
          "shapedefaults": {
           "line": {
            "color": "#2a3f5f"
           }
          },
          "ternary": {
           "aaxis": {
            "gridcolor": "#DFE8F3",
            "linecolor": "#A2B1C6",
            "ticks": ""
           },
           "baxis": {
            "gridcolor": "#DFE8F3",
            "linecolor": "#A2B1C6",
            "ticks": ""
           },
           "bgcolor": "white",
           "caxis": {
            "gridcolor": "#DFE8F3",
            "linecolor": "#A2B1C6",
            "ticks": ""
           }
          },
          "title": {
           "x": 0.05
          },
          "xaxis": {
           "automargin": true,
           "gridcolor": "#EBF0F8",
           "linecolor": "#EBF0F8",
           "ticks": "",
           "title": {
            "standoff": 15
           },
           "zerolinecolor": "#EBF0F8",
           "zerolinewidth": 2
          },
          "yaxis": {
           "automargin": true,
           "gridcolor": "#EBF0F8",
           "linecolor": "#EBF0F8",
           "ticks": "",
           "title": {
            "standoff": 15
           },
           "zerolinecolor": "#EBF0F8",
           "zerolinewidth": 2
          }
         }
        },
        "title": {
         "text": "Datos del período de 2001 al 2021 y predicciones anuales de futuros crímenes contra mujeres en la India"
        },
        "xaxis": {
         "tickformat": "%Y",
         "title": {
          "text": "Año"
         }
        },
        "yaxis": {
         "title": {
          "text": "Total de Crímenes"
         }
        }
       }
      }
     },
     "metadata": {},
     "output_type": "display_data"
    }
   ],
   "source": [
    "import pandas as pd\n",
    "import plotly.graph_objects as go\n",
    "\n",
    "# Agrupar los datos y preparar el DataFrame\n",
    "df = crimes_df.groupby('Año').agg({\n",
    "    'Casos de violación': 'sum',\n",
    "    'Secuestros y asaltos': 'sum',\n",
    "    'Muertes por la dote': 'sum',\n",
    "    'Asalto a mujeres': 'sum',\n",
    "    'Asalto a menores (niñas y adolescentes)': 'sum',\n",
    "    'Violencia doméstica': 'sum',\n",
    "    'Brujería': 'sum'\n",
    "}).reset_index()\n",
    "df['Total'] = df[['Casos de violación', 'Secuestros y asaltos', 'Muertes por la dote',\n",
    "                  'Asalto a mujeres', 'Asalto a menores (niñas y adolescentes)',\n",
    "                  'Violencia doméstica', 'Brujería']].sum(axis=1)\n",
    "\n",
    "# Convertir la columna 'Año' en un índice de fechas\n",
    "df['Fecha'] = pd.to_datetime(df['Año'], format='%Y')\n",
    "df.set_index('Fecha', inplace=True)\n",
    "df.drop(columns='Año', inplace=True)\n",
    "\n",
    "# Asegúrate de que el índice tiene la frecuencia 'A' (anual)\n",
    "df.index = df.index.to_period('Y')\n",
    "\n",
    "# Usar la columna 'Total' para la predicción\n",
    "total_series = df['Total']\n",
    "\n",
    "# Crear y ajustar el modelo ARIMA\n",
    "model = ARIMA(total_series, order=(1, 1, 1))  # Los parámetros (p,d,q) se pueden ajustar\n",
    "model_fit = model.fit()\n",
    "\n",
    "# Hacer predicciones para los próximos años hasta 2030\n",
    "forecast_periods = pd.period_range(start='2022', end='2030', freq='Y')\n",
    "forecast_steps = len(forecast_periods)\n",
    "forecast = model_fit.forecast(steps=forecast_steps)\n",
    "\n",
    "# Redondear las predicciones y convertirlas a enteros\n",
    "forecast = pd.Series(forecast).round(2).astype(int)\n",
    "\n",
    "# Crear un DataFrame para mostrar las predicciones\n",
    "forecast_df = pd.DataFrame({\n",
    "    'forecast': forecast\n",
    "}, index=forecast_periods)\n",
    "\n",
    "# Convertir el índice a DateTimeIndex para la visualización\n",
    "df.index = df.index.to_timestamp()\n",
    "forecast_df.index = forecast_df.index.to_timestamp()\n",
    "\n",
    "# Crear el gráfico interactivo\n",
    "fig = go.Figure()\n",
    "\n",
    "# Agregar datos originales\n",
    "fig.add_trace(go.Scatter(\n",
    "    x=df.index,\n",
    "    y=df['Total'],\n",
    "    mode='markers+lines',\n",
    "    name='Período del 2001 al 2021',\n",
    "    marker=dict(color='blue'),\n",
    "    line=dict(color='blue'),\n",
    "    text=df['Total'],  # Valores que se mostrarán al pasar el cursor\n",
    "    hoverinfo='text+x+y'  # Mostrar valores de texto, año y total\n",
    "))\n",
    "\n",
    "# Agregar predicciones\n",
    "fig.add_trace(go.Scatter(\n",
    "    x=forecast_df.index,\n",
    "    y=forecast_df['forecast'],\n",
    "    mode='markers+lines',\n",
    "    name='Predicciones',\n",
    "    marker=dict(color='red', symbol='x', size=10),\n",
    "    line=dict(color='red', dash='dash'),\n",
    "    text=forecast_df['forecast'],  # Valores que se mostrarán al pasar el cursor\n",
    "    hoverinfo='text+x+y'  # Mostrar valores de texto, año y predicción\n",
    "))\n",
    "\n",
    "# Ajustar el diseño del gráfico\n",
    "fig.update_layout(\n",
    "    title='Datos del período de 2001 al 2021 y predicciones anuales de futuros crímenes contra mujeres en la India',\n",
    "    xaxis_title='Año',\n",
    "    yaxis_title='Total de Crímenes',\n",
    "    legend_title='Leyenda',\n",
    "    template='plotly_white',\n",
    "    xaxis=dict(tickformat='%Y'),\n",
    "    hovermode='x unified'  # Mostrar los valores de los puntos al pasar el cursor sobre el gráfico\n",
    ")\n",
    "\n",
    "# Mostrar el gráfico\n",
    "fig.show()\n"
   ]
  }
 ],
 "metadata": {
  "kernelspec": {
   "display_name": "base",
   "language": "python",
   "name": "python3"
  },
  "language_info": {
   "codemirror_mode": {
    "name": "ipython",
    "version": 3
   },
   "file_extension": ".py",
   "mimetype": "text/x-python",
   "name": "python",
   "nbconvert_exporter": "python",
   "pygments_lexer": "ipython3",
   "version": "3.11.9"
  }
 },
 "nbformat": 4,
 "nbformat_minor": 2
}
